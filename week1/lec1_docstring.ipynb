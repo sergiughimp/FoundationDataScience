{
 "cells": [
  {
   "cell_type": "code",
   "execution_count": 23,
   "id": "d25fbcb7-62de-41b8-a8f3-e37952e28197",
   "metadata": {},
   "outputs": [
    {
     "data": {
      "text/plain": [
       "28"
      ]
     },
     "execution_count": 23,
     "metadata": {},
     "output_type": "execute_result"
    }
   ],
   "source": [
    "def add_numbers(num1, num2, *nums):\n",
    "    \"\"\"\n",
    "    Add two numbers and return the result.\n",
    "    \n",
    "    Parameters:\n",
    "    num1(int or float): The first number\n",
    "    num2(int or float): The second number\n",
    "    \n",
    "    Returns:\n",
    "    int or float: The sum of two numbers.\n",
    "    \n",
    "    Example:\n",
    "    >>> add_numbers(3, 5)\n",
    "    8\n",
    "    \"\"\"\n",
    "\n",
    "    total = num1 + num2\n",
    "    for n in nums:\n",
    "        total += n\n",
    "    return total\n",
    "    # return sum(num1, num2, *nums)\n",
    "\n",
    "add_numbers(3, 4, 6, 7, 8)"
   ]
  },
  {
   "cell_type": "code",
   "execution_count": 25,
   "id": "b85509ea-4c43-4b3d-8d35-6cd901d1b971",
   "metadata": {},
   "outputs": [
    {
     "name": "stdout",
     "output_type": "stream",
     "text": [
      "28\n"
     ]
    }
   ],
   "source": [
    "def add_numbers(num1, num2, *nums):\n",
    "    \"\"\"\n",
    "    Add two numbers and any additional numbers and return the result.\n",
    "    \"\"\"\n",
    "    return sum((num1, num2, *nums))  # combine everything into a tuple\n",
    "\n",
    "# Example call\n",
    "print(add_numbers(3, 4, 6, 7, 8))"
   ]
  },
  {
   "cell_type": "code",
   "execution_count": 3,
   "id": "0332ffb3-dd61-4a6f-b417-889bd5e70157",
   "metadata": {},
   "outputs": [
    {
     "name": "stdout",
     "output_type": "stream",
     "text": [
      "Help on function add_numbers in module __main__:\n",
      "\n",
      "add_numbers(num1, num2)\n",
      "    Add two numbers and return the result.\n",
      "\n",
      "    Parameters:\n",
      "    num1(int or float): The first number\n",
      "    num2(int or float): The second number\n",
      "\n",
      "    Returns:\n",
      "    int or float: The sum of two numbers.\n",
      "\n",
      "    Example:\n",
      "    >>> add_numbers(3, 5)\n",
      "    8\n",
      "\n"
     ]
    }
   ],
   "source": [
    "help(add_numbers) # to print the function signature"
   ]
  },
  {
   "cell_type": "code",
   "execution_count": 7,
   "id": "855cc4ed-6f42-48e2-932e-babbf086e580",
   "metadata": {},
   "outputs": [
    {
     "data": {
      "text/plain": [
       "'C'"
      ]
     },
     "execution_count": 7,
     "metadata": {},
     "output_type": "execute_result"
    }
   ],
   "source": [
    "def convert_numerical_marks(mark):\n",
    "    \"\"\"\n",
    "    Check the mark in what category is fitting\n",
    "    \n",
    "    Parameters:\n",
    "    value of the mark\n",
    "\n",
    "    Return:\n",
    "    Grade \n",
    "    \"\"\"\n",
    "    if mark < 40:\n",
    "        return \"E\"\n",
    "    if mark >= 40 and mark < 50:\n",
    "        return \"D\"\n",
    "    if mark >= 50 and mark < 60:\n",
    "        return \"C\"\n",
    "    if mark >= 60  and mark < 70:\n",
    "        return \"B\"\n",
    "    if mark >= 70:\n",
    "        return \"A\"\n",
    "        \n",
    "convert_numerical_marks(55)"
   ]
  },
  {
   "cell_type": "code",
   "execution_count": 17,
   "id": "72bab930-26cb-4e8a-b6f6-dfa0a6b101af",
   "metadata": {},
   "outputs": [
    {
     "name": "stdout",
     "output_type": "stream",
     "text": [
      "Minimum value: 55, Maximum value: 85\n"
     ]
    }
   ],
   "source": [
    "def stats(marks):\n",
    "    \"\"\"\n",
    "    This function returns the maximum and minimum value from a list\n",
    "    Parameter: List contains int or float values\n",
    "    Returns: Minimum and maximum value of int or float type\n",
    "    Example:\n",
    "    dummy_list = [1, 2, 3, 4, 5]\n",
    "    >>> stats(dummy_list)\n",
    "    \"\"\"\n",
    "    min_value = min(marks)\n",
    "    max_value = max(marks)\n",
    "\n",
    "    return min_value, max_value\n",
    "\n",
    "marks_list = [55, 60, 65, 70, 80,85]\n",
    "min_value, max_value = stats(marks_list)\n",
    "\n",
    "print(f\"Minimum value: {min_value}, Maximum value: {max_value}\")"
   ]
  },
  {
   "cell_type": "code",
   "execution_count": 13,
   "id": "c8c18248-ab7c-477d-b480-931c8eeeb503",
   "metadata": {},
   "outputs": [
    {
     "name": "stdout",
     "output_type": "stream",
     "text": [
      "Help on function stats in module __main__:\n",
      "\n",
      "stats(marks)\n",
      "    This function returns the maximum and minimum value from a list\n",
      "    Parameter: List contains int or float values\n",
      "    Returns: Minimum and maximum value of int or float type\n",
      "    Example:\n",
      "    dummy_list = [1, 2, 3, 4, 5]\n",
      "    >>> stats(dummy_list)\n",
      "\n"
     ]
    }
   ],
   "source": [
    "help(stats)"
   ]
  },
  {
   "cell_type": "code",
   "execution_count": 49,
   "id": "c61b2547-83c2-417b-bb8b-5c45777023ee",
   "metadata": {},
   "outputs": [],
   "source": [
    "def person_info(**kwargs):\n",
    "    \"\"\"\n",
    "    decent doc-string\n",
    "\n",
    "    \"\"\"\n",
    "    for key, value in kwargs.items():\n",
    "        print(f\"{key.capitalize()}: {value}\")"
   ]
  },
  {
   "cell_type": "code",
   "execution_count": 47,
   "id": "10a162c0-38f9-4342-b878-24d5c4e16898",
   "metadata": {},
   "outputs": [
    {
     "name": "stdout",
     "output_type": "stream",
     "text": [
      "Name: Alice\n",
      "Age: 25\n",
      "Country: Sweden\n"
     ]
    }
   ],
   "source": [
    "person_info(name = \"Alice\", age = 25, country = \"Sweden\")"
   ]
  },
  {
   "cell_type": "code",
   "execution_count": 77,
   "id": "8e45128e-4653-4eed-abad-d82035a819c3",
   "metadata": {},
   "outputs": [],
   "source": [
    "def describe_person(gender, *args, **kwargs):\n",
    "    \"\"\"\n",
    "    docstring...\n",
    "    \"\"\"\n",
    "    print(f\"- {gender}\")\n",
    "    print(\"Positional descriprions(args):\")\n",
    "\n",
    "    for arg in args:\n",
    "        print(f\" - {arg}\")\n",
    "\n",
    "    print(\"Detailed Info (kwargs):\")\n",
    "    for key, value in kwargs.items():\n",
    "        print(f\"{key.capitalize()}: {value}\")"
   ]
  },
  {
   "cell_type": "code",
   "execution_count": 79,
   "id": "8d79236d-5893-4f23-b9e7-1a9949f5eef0",
   "metadata": {},
   "outputs": [
    {
     "name": "stdout",
     "output_type": "stream",
     "text": [
      "- Female\n",
      "Positional descriprions(args):\n",
      " - Engineer\n",
      " - Expert\n",
      "Detailed Info (kwargs):\n",
      "Name: Alice\n",
      "Age: 30\n",
      "Country: Canada\n"
     ]
    }
   ],
   "source": [
    "describe_person(\"Female\", \"Engineer\", \"Expert\", name = \"Alice\", age = 30, country = \"Canada\")"
   ]
  },
  {
   "cell_type": "code",
   "execution_count": null,
   "id": "a9ff6941-341f-4a8b-8300-24dea42f0333",
   "metadata": {},
   "outputs": [],
   "source": []
  }
 ],
 "metadata": {
  "kernelspec": {
   "display_name": "Python 3 (ipykernel)",
   "language": "python",
   "name": "python3"
  },
  "language_info": {
   "codemirror_mode": {
    "name": "ipython",
    "version": 3
   },
   "file_extension": ".py",
   "mimetype": "text/x-python",
   "name": "python",
   "nbconvert_exporter": "python",
   "pygments_lexer": "ipython3",
   "version": "3.12.2"
  }
 },
 "nbformat": 4,
 "nbformat_minor": 5
}
