{
 "cells": [
  {
   "cell_type": "markdown",
   "id": "def20b53",
   "metadata": {},
   "source": [
    "# Introduction to Python Functions\n",
    "\n",
    "In this lecture, we will explore the concept of functions in Python, which are fundamental building blocks in programming. Functions allow us to encapsulate code into reusable blocks, execute code multiple times with different inputs, and organize our code better.\n",
    "\n",
    "## Why Functions?\n",
    "\n",
    "1. **Reusability:** Once a function is defined, it can be used repeatedly throughout a program.\n",
    "2. **Modularity:** Functions allow complex processes to be broken down into smaller steps.\n",
    "3. **Simplicity:** Functions can simplify complicated code by hiding complex logic behind a single line of execution.\n",
    "\n",
    "A function is a reusable block of code that performs a specific task. Once you have defined a function, you can use it at any place in your Python script.\n",
    "\n",
    "### At the end of this chapter, you will be able to:\n",
    "* write a function\n",
    "* work with function inputs\n",
    "* understand the difference between (keyword and positional) arguments and parameters\n",
    "* return zero, one, or multiple values\n",
    "* write function docstrings\n",
    "    "
   ]
  },
  {
   "cell_type": "markdown",
   "id": "84f8be4b",
   "metadata": {},
   "source": [
    "# "
   ]
  },
  {
   "cell_type": "markdown",
   "id": "d3a63d61",
   "metadata": {},
   "source": [
    "# 1. Writing a function\n",
    "\n",
    "A **function** is an isolated chunk of code that has a name, gets zero or more parameters, and returns a value. In general, a function will do something for you based on the input parameters you pass it, and it will typically return a result. You are not limited to using functions available in the standard library or the ones provided by external parties. You can also write your own functions!\n",
    "\n",
    "Whenever you are writing a function, you need to think of the following things:\n",
    "* What is the purpose of the function?\n",
    "* How should I name the function?\n",
    "* What input does the function need?\n",
    "* What output should the function generate?\n",
    "\n",
    "\n",
    "## How to define and call a function\n",
    "\n",
    "![alt text](51.png \"Title\")\n",
    "\n",
    "\n",
    "\n",
    "Here's a simple example of how to **define** a Python function:\n",
    "```python\n",
    "def greet(name):\n",
    "    greeting=f\"Hello, {name}!\"\n",
    "    return greeting\n",
    "```\n",
    "\n",
    "You can **call** this function with a name to get a greeting:\n",
    "```python\n",
    "greet('Giuseppe')\n",
    "\n",
    "'Hello, Giuseppe!'\n",
    "\n",
    "```\n",
    "\n"
   ]
  },
  {
   "cell_type": "markdown",
   "id": "ad393c24",
   "metadata": {},
   "source": [
    "# "
   ]
  },
  {
   "cell_type": "markdown",
   "id": "408cb4ca",
   "metadata": {},
   "source": [
    "# The function components"
   ]
  },
  {
   "cell_type": "markdown",
   "id": "01bad832",
   "metadata": {},
   "source": [
    "## Parameters and Arguments"
   ]
  },
  {
   "cell_type": "markdown",
   "id": "451c879e",
   "metadata": {},
   "source": [
    "We use parameters and arguments to make a function execute a task depending on the input we provide. For instance, we can change the function above to input the name of a person and print a birthday song using this name. This results in a more generic function.\n",
    "\n",
    "To understand how we use **parameters** and **arguments**, keep in mind the distinction between function *definition* and function *call*.\n",
    "\n",
    "From a function's perspective:\n",
    "\n",
    "A parameter is the variable listed inside the parentheses in the function **definition**. In our previous example, the parameter is `name`.\n",
    "\n",
    "An argument is the value that is sent to the function when it is **called**. In our previous example, the argument is `Giuseppe`."
   ]
  },
  {
   "cell_type": "markdown",
   "id": "ee4ebfac",
   "metadata": {},
   "source": [
    "Functions can have multiple parameters. We can for example multiply two numbers in a function (using the two parameters a and b) and then call the function by giving it two arguments:"
   ]
  },
  {
   "cell_type": "code",
   "execution_count": 1,
   "id": "98a700bb",
   "metadata": {},
   "outputs": [
    {
     "name": "stdout",
     "output_type": "stream",
     "text": [
      "35\n"
     ]
    }
   ],
   "source": [
    "def multiply_numbers(a, b):\n",
    "    \"\"\"Multiply two numeric values and print the result.\"\"\"\n",
    "    result = a * b\n",
    "    print(result)\n",
    "       \n",
    "multiply_numbers(5,7)"
   ]
  },
  {
   "cell_type": "markdown",
   "id": "4f96f336",
   "metadata": {},
   "source": [
    "In Python's function definitions, parameters are classified into two types:\n",
    "\n",
    "1. **Positional parameters:** These are explicitly defined in the function and must be supplied by the caller, as they are essential for the function's execution.\n",
    "2. **Keyword parameters:** Also defined within the function, but with a default value, making them optional during the function call; if not specified, the default value is used.\n",
    "\n",
    "For instance, if you need a function that multiplies two or three numbers, you could define the third number as a keyword parameter with a default value of 1. This approach utilizes the mathematical property where any number multiplied by 1 remains unchanged, allowing the function to operate correctly with two or three arguments:"
   ]
  },
  {
   "cell_type": "code",
   "execution_count": 2,
   "id": "94e08730",
   "metadata": {},
   "outputs": [
    {
     "name": "stdout",
     "output_type": "stream",
     "text": [
      "35\n",
      "35\n"
     ]
    }
   ],
   "source": [
    "def multiply_numbers(a, b, third_number=1): # a and b are positional parameters, third_number is a keyword parameter\n",
    "    \"\"\"Multiply two or three numbers and print the result.\"\"\"\n",
    "    result = a * b*third_number\n",
    "    print(result)\n",
    "\n",
    "multiply_numbers(5,7)\n",
    "multiply_numbers(5,7,1)"
   ]
  },
  {
   "cell_type": "code",
   "execution_count": 3,
   "id": "161fc2bd",
   "metadata": {},
   "outputs": [
    {
     "ename": "SyntaxError",
     "evalue": "positional argument follows keyword argument (3833652896.py, line 1)",
     "output_type": "error",
     "traceback": [
      "\u001b[1;36m  Cell \u001b[1;32mIn[3], line 1\u001b[1;36m\u001b[0m\n\u001b[1;33m    multiply_numbers(third_number=1,5,7)\u001b[0m\n\u001b[1;37m                                       ^\u001b[0m\n\u001b[1;31mSyntaxError\u001b[0m\u001b[1;31m:\u001b[0m positional argument follows keyword argument\n"
     ]
    }
   ],
   "source": [
    "multiply_numbers(third_number=1,5,7)"
   ]
  },
  {
   "cell_type": "markdown",
   "id": "5d207935",
   "metadata": {},
   "source": [
    "**In Python, the syntax error we get is because once a keyword argument is used in a function call, all subsequent arguments must also be specified as keyword arguments. In this function call multiply_numbers(third_number=1,5,7), third_number=1 is a keyword argument, but the 5 and 7 are positional arguments that follow it, which is not allowed. To solve this issue, we can specify all arguments as keyword arguments:**"
   ]
  },
  {
   "cell_type": "code",
   "execution_count": 3,
   "id": "81ae9fa8",
   "metadata": {},
   "outputs": [
    {
     "name": "stdout",
     "output_type": "stream",
     "text": [
      "35\n"
     ]
    }
   ],
   "source": [
    "multiply_numbers(third_number=1,a=5,b=7)"
   ]
  },
  {
   "cell_type": "markdown",
   "id": "82852b05",
   "metadata": {},
   "source": [
    "## Return statement"
   ]
  },
  {
   "cell_type": "markdown",
   "id": "004584d4",
   "metadata": {},
   "source": [
    "Functions can have a **return** statement. The `return` statement returns a value back to the caller and **always** ends the execution of the function. This also allows us to use the result of a function outside of that function by assigning it to a variable:"
   ]
  },
  {
   "cell_type": "code",
   "execution_count": 4,
   "id": "7c1d8073",
   "metadata": {},
   "outputs": [
    {
     "name": "stdout",
     "output_type": "stream",
     "text": [
      "The output value is: 35\n"
     ]
    }
   ],
   "source": [
    "def multiply_numbers(a, b, third_number=1): # a and b are positional parameters, third_number is a keyword parameter\n",
    "    \"\"\"Multiply two or three numbers and return the result.\"\"\"\n",
    "    result = a * b*third_number\n",
    "    return result\n",
    "\n",
    "output_value=multiply_numbers(5,7)\n",
    "print('The output value is: '+ str(output_value))"
   ]
  },
  {
   "cell_type": "markdown",
   "id": "158087eb",
   "metadata": {},
   "source": [
    "**Returning multiple values**\n",
    "\n",
    "Just like inputs, a function can return **multiple values** as outputs. This group of values is known as a *tuple*. For example, see the following function:\n"
   ]
  },
  {
   "cell_type": "code",
   "execution_count": 6,
   "id": "9a2587a9",
   "metadata": {},
   "outputs": [],
   "source": [
    "def multiply_and_sum_numbers(a, b): \n",
    "    \"\"\"Multiply an sum twonumbers and return the results.\"\"\"\n",
    "    multiplication = a * b\n",
    "    summation=a+b\n",
    "    return multiplication,summation"
   ]
  },
  {
   "cell_type": "code",
   "execution_count": 7,
   "id": "2115860f",
   "metadata": {},
   "outputs": [
    {
     "name": "stdout",
     "output_type": "stream",
     "text": [
      "(35, 12)\n"
     ]
    }
   ],
   "source": [
    "results=multiply_and_sum_numbers(5,7)\n",
    "print(results)"
   ]
  },
  {
   "cell_type": "markdown",
   "id": "08e585e6",
   "metadata": {},
   "source": [
    "**We can access directly the results tuple by using the positional index of each value:**"
   ]
  },
  {
   "cell_type": "code",
   "execution_count": 9,
   "id": "f7fccdf5",
   "metadata": {},
   "outputs": [
    {
     "name": "stdout",
     "output_type": "stream",
     "text": [
      "The product is: 35  The sum is: 12\n"
     ]
    }
   ],
   "source": [
    "results=multiply_and_sum_numbers(5,7)\n",
    "print('The product is: '+ str(results[0]), ' The sum is: '+str(results[1]))"
   ]
  },
  {
   "cell_type": "markdown",
   "id": "fb11d37f",
   "metadata": {},
   "source": [
    "**Alternatively, we can assign the name of each output results to a variable and access it by using its name:**"
   ]
  },
  {
   "cell_type": "code",
   "execution_count": 8,
   "id": "a8748c2f",
   "metadata": {},
   "outputs": [
    {
     "name": "stdout",
     "output_type": "stream",
     "text": [
      "The product is: 35  The sum is: 12\n"
     ]
    }
   ],
   "source": [
    "product_output,sum_output=multiply_and_sum_numbers(5,7)\n",
    "\n",
    "print('The product is: '+ str(product_output), ' The sum is: '+str(sum_output))"
   ]
  },
  {
   "cell_type": "markdown",
   "id": "affe5888",
   "metadata": {},
   "source": [
    "# "
   ]
  },
  {
   "cell_type": "markdown",
   "id": "deb30fcb",
   "metadata": {},
   "source": [
    "### Functions within Functions"
   ]
  },
  {
   "cell_type": "markdown",
   "id": "26669c21",
   "metadata": {},
   "source": [
    "A function that is defined inside another function is known as the inner function or nested function. Nested functions can access variables of the enclosing scope. Inner functions are used so that they can be protected from everything happening outside the function."
   ]
  },
  {
   "cell_type": "code",
   "execution_count": 10,
   "id": "db0303f7",
   "metadata": {},
   "outputs": [
    {
     "data": {
      "text/plain": [
       "(35, 12)"
      ]
     },
     "execution_count": 10,
     "metadata": {},
     "output_type": "execute_result"
    }
   ],
   "source": [
    "def calculations(a,b):\n",
    "    \"\"\"Multiply an sum two numbers using user predefined functions and return the results.\"\"\"\n",
    "    \n",
    "    def multiply_numbers(a, b):\n",
    "        \"\"\"Multiply two numeric values and return the result.\"\"\"\n",
    "        result = a * b\n",
    "        return result\n",
    "\n",
    "    def sum_numbers(a, b):\n",
    "        \"\"\"Sum two numeric values and return the result.\"\"\"\n",
    "        result = a + b\n",
    "        return result\n",
    "    \n",
    "    multiplication = multiply_numbers(a, b)\n",
    "    summation=sum_numbers(a, b)\n",
    "    \n",
    "\n",
    "    return multiplication,summation\n",
    "\n",
    "\n",
    "calculations(5,7)"
   ]
  },
  {
   "cell_type": "markdown",
   "id": "09fb3b3b",
   "metadata": {},
   "source": [
    "### Functions modularity"
   ]
  },
  {
   "cell_type": "markdown",
   "id": "3e39a291",
   "metadata": {},
   "source": [
    " Modularity allows each function to manage a specific task which can then be combined as needed without modifying the underlying operations. This not only makes the code easier to understand and maintain but also promotes reusability where the same functions can be employed in different parts of a script."
   ]
  },
  {
   "cell_type": "code",
   "execution_count": 24,
   "id": "83d5f465",
   "metadata": {},
   "outputs": [
    {
     "data": {
      "text/plain": [
       "(35, 12)"
      ]
     },
     "execution_count": 24,
     "metadata": {},
     "output_type": "execute_result"
    }
   ],
   "source": [
    "def multiply_numbers(a, b):\n",
    "    \"\"\"Multiply two numeric values and return the result.\"\"\"\n",
    "    result = a * b\n",
    "    return result\n",
    "\n",
    "def sum_numbers(a, b):\n",
    "    \"\"\"Sum two numeric values and return the result.\"\"\"\n",
    "    result = a + b\n",
    "    return result\n",
    "\n",
    "def calculations(a,b):\n",
    "    \"\"\"Multiply an sum two numbers using user predefined functions and return the results.\"\"\"\n",
    "    multiplication = multiply_numbers(a, b)\n",
    "    summation=sum_numbers(a, b)\n",
    "    return multiplication,summation\n",
    "\n",
    "\n",
    "calculations(5,7)"
   ]
  },
  {
   "cell_type": "markdown",
   "id": "22ad6744",
   "metadata": {},
   "source": [
    "## Docstring\n",
    "\n",
    "The first string after the function is called the Document string or **Docstring** in short. This is used to describe the functionality of the function. The use of docstring in functions is optional but it is considered a good practice.\n"
   ]
  },
  {
   "cell_type": "code",
   "execution_count": 46,
   "id": "7940a411",
   "metadata": {},
   "outputs": [
    {
     "data": {
      "text/plain": [
       "(35, 12)"
      ]
     },
     "execution_count": 46,
     "metadata": {},
     "output_type": "execute_result"
    }
   ],
   "source": [
    "def calculations(a,b):\n",
    "    \"\"\"\n",
    "    The function perform multiplication and addition on two numbers.\n",
    "\n",
    "    This function uses two predefined functions, `multiply_numbers` and `sum_numbers`, \n",
    "    to calculate the product and sum of the provided arguments respectively. It returns \n",
    "    both results in a tuple, with the multiplication result first followed by the summation result.\n",
    "\n",
    "    Parameters:\n",
    "    a (int or float): The first number to be used in the calculations.\n",
    "    b (int or float): The second number to be used in the calculations.\n",
    "\n",
    "    Returns:\n",
    "    tuple: A tuple containing two elements:\n",
    "        - The result of multiplying a and b.\n",
    "        - The result of adding a and b.\n",
    "    \"\"\"\n",
    "    multiplication = multiply_numbers(a, b)\n",
    "    summation=sum_numbers(a, b)\n",
    "    return multiplication,summation\n",
    "\n",
    "\n",
    "calculations(5,7)"
   ]
  },
  {
   "cell_type": "code",
   "execution_count": 47,
   "id": "2fab5437",
   "metadata": {},
   "outputs": [
    {
     "name": "stdout",
     "output_type": "stream",
     "text": [
      "\n",
      "    The function perform multiplication and addition on two numbers.\n",
      "\n",
      "    This function uses two predefined functions, `multiply_numbers` and `sum_numbers`, \n",
      "    to calculate the product and sum of the provided arguments respectively. It returns \n",
      "    both results in a tuple, with the multiplication result first followed by the summation result.\n",
      "\n",
      "    Parameters:\n",
      "    a (int or float): The first number to be used in the calculations.\n",
      "    b (int or float): The second number to be used in the calculations.\n",
      "\n",
      "    Returns:\n",
      "    tuple: A tuple containing two elements:\n",
      "        - The result of multiplying a and b.\n",
      "        - The result of adding a and b.\n",
      "    \n"
     ]
    }
   ],
   "source": [
    "print(calculations.__doc__)"
   ]
  },
  {
   "cell_type": "code",
   "execution_count": 48,
   "id": "830a3931",
   "metadata": {},
   "outputs": [
    {
     "name": "stdout",
     "output_type": "stream",
     "text": [
      "str(object='') -> str\n",
      "str(bytes_or_buffer[, encoding[, errors]]) -> str\n",
      "\n",
      "Create a new string object from the given object. If encoding or\n",
      "errors is specified, then the object must expose a data buffer\n",
      "that will be decoded using the given encoding and error handler.\n",
      "Otherwise, returns the result of object.__str__() (if defined)\n",
      "or repr(object).\n",
      "encoding defaults to sys.getdefaultencoding().\n",
      "errors defaults to 'strict'.\n"
     ]
    }
   ],
   "source": [
    "print(str.__doc__)"
   ]
  },
  {
   "cell_type": "markdown",
   "id": "6f85ac4e",
   "metadata": {},
   "source": [
    "# "
   ]
  },
  {
   "cell_type": "markdown",
   "id": "11798f52",
   "metadata": {},
   "source": [
    "## Functions usecase: The Fibonacci sequence\n",
    "\n",
    "The Fibonacci sequence is a series of numbers where each number is the sum of the two preceding ones, usually starting with 0 and 1. That is:\n",
    "\n",
    "* \\[ F(0) = 0, \\; F(1) = 1 \\]\n",
    "* \\[ F(n) = F(n-1) + F(n-2) \\]\n",
    "\n",
    "The sequence appears in many natural phenomena and settings."
   ]
  },
  {
   "cell_type": "markdown",
   "id": "b810aa41",
   "metadata": {},
   "source": [
    "![alt text](fibonacci.png \"Fibonacci sequence\")"
   ]
  },
  {
   "cell_type": "code",
   "execution_count": 49,
   "id": "9d748736",
   "metadata": {},
   "outputs": [
    {
     "name": "stdout",
     "output_type": "stream",
     "text": [
      "[0, 1, 1]\n",
      "[0, 1, 1, 2]\n",
      "[0, 1, 1, 2, 3]\n",
      "[0, 1, 1, 2, 3, 5]\n"
     ]
    },
    {
     "data": {
      "text/plain": [
       "3"
      ]
     },
     "execution_count": 49,
     "metadata": {},
     "output_type": "execute_result"
    }
   ],
   "source": [
    "def fibonacci_iterative(n):\n",
    "    \"\"\"\n",
    "    Generate a Fibonacci sequence iteratively up to the nth element.\n",
    "\n",
    "    Parameters:\n",
    "    n (int): The index of the last Fibonacci number in the sequence to be returned.\n",
    "\n",
    "    Returns:\n",
    "    int: The nth Fibonacci number in the sequence, where the sequence starts with 0 (0, 1, 1, 2, ...).\n",
    "    \"\"\"\n",
    "    seq = [0, 1]\n",
    "    for i in range(n):\n",
    "        seq.append(seq[-1] + seq[-2])\n",
    "        print(seq)\n",
    "    return seq[-2]\n",
    "\n",
    "fibonacci_iterative(4)"
   ]
  },
  {
   "cell_type": "markdown",
   "id": "430d4635",
   "metadata": {},
   "source": [
    "# "
   ]
  },
  {
   "cell_type": "code",
   "execution_count": 50,
   "id": "eaf1a849",
   "metadata": {},
   "outputs": [
    {
     "name": "stdout",
     "output_type": "stream",
     "text": [
      "[0, 1, 1]\n",
      "[0, 1, 1, 2]\n",
      "[0, 1, 1, 2, 3]\n",
      "[0, 1, 1, 2, 3, 5]\n"
     ]
    },
    {
     "data": {
      "text/plain": [
       "(3, 3)"
      ]
     },
     "execution_count": 50,
     "metadata": {},
     "output_type": "execute_result"
    }
   ],
   "source": [
    "def fibonacci_recursive(n):\n",
    "    \"\"\"\n",
    "    Calculate the nth Fibonacci number using a recursive approach.\n",
    "\n",
    "    Parameters:\n",
    "    n (int): The position in the Fibonacci sequence of the number to be returned.\n",
    "\n",
    "    Returns:\n",
    "    int: The nth Fibonacci number in the sequence, where the sequence starts with 0 (0, 1, 1, 2, ...).\n",
    "    \"\"\"\n",
    "    if n <= 1:\n",
    "        return n #base case\n",
    "    else:\n",
    "        return fibonacci_recursive(n-1) + fibonacci_recursive(n-2)\n",
    "\n",
    "fibonacci_iterative(4), fibonacci_recursive(4)"
   ]
  },
  {
   "cell_type": "markdown",
   "id": "be81410c",
   "metadata": {},
   "source": [
    "![alt text](fibonacci_recursive.png \"Fibonacci sequence\")"
   ]
  },
  {
   "cell_type": "markdown",
   "id": "da5cad9d",
   "metadata": {},
   "source": [
    "#### Advanced topic: Memoization\n",
    "\n",
    "Memoization is an optimization technique that involves storing the results of function calls and reusing them when the same inputs occur again, thus avoiding repeated calculations."
   ]
  },
  {
   "cell_type": "code",
   "execution_count": 44,
   "id": "41a341b5",
   "metadata": {},
   "outputs": [
    {
     "data": {
      "text/plain": [
       "3"
      ]
     },
     "execution_count": 44,
     "metadata": {},
     "output_type": "execute_result"
    }
   ],
   "source": [
    "\n",
    "def fibonacci_memoization(n, memo=None):\n",
    "    \"\"\"\n",
    "    Computes the nth Fibonacci number using manual memoization to optimize performance.\n",
    "\n",
    "    This function uses a recursive approach to calculate Fibonacci numbers, and it leverages\n",
    "    a dictionary to store previously computed values. This prevents redundant calculations,\n",
    "    thus improving the efficiency of the function, especially for larger values of n.\n",
    "\n",
    "    Parameters:\n",
    "        n (int): The index of the Fibonacci number in the sequence to compute.\n",
    "        memo (dict, optional): A dictionary used to store previously computed Fibonacci numbers.\n",
    "            Defaults to None, in which case a new dictionary is initialized.\n",
    "\n",
    "    Returns:\n",
    "        int: The nth Fibonacci number.\n",
    "    \"\"\"\n",
    "    if memo is None:\n",
    "        memo = {}\n",
    "    if n in memo:\n",
    "        return memo[n]\n",
    "    if n <= 1:\n",
    "        return n\n",
    "    memo[n] = fibonacci_memoization(n-1, memo) + fibonacci_memoization(n-2, memo)\n",
    "    return memo[n]\n",
    "\n",
    "\n",
    "fibonacci_memoization(4)"
   ]
  },
  {
   "cell_type": "markdown",
   "id": "4d2f3a2b",
   "metadata": {},
   "source": [
    "## Docstring for the Fibonacci functions\n"
   ]
  },
  {
   "cell_type": "code",
   "execution_count": 19,
   "id": "963f6b5c",
   "metadata": {},
   "outputs": [
    {
     "name": "stdout",
     "output_type": "stream",
     "text": [
      "\n",
      "    Computes the nth Fibonacci number using manual memoization to optimize performance.\n",
      "\n",
      "    This function uses a recursive approach to calculate Fibonacci numbers, and it leverages\n",
      "    a dictionary to store previously computed values. This prevents redundant calculations,\n",
      "    thus improving the efficiency of the function, especially for larger values of n.\n",
      "\n",
      "    Parameters:\n",
      "        n (int): The index of the Fibonacci number in the sequence to compute.\n",
      "        memo (dict, optional): A dictionary used to store previously computed Fibonacci numbers.\n",
      "            Defaults to None, in which case a new dictionary is initialized.\n",
      "\n",
      "    Returns:\n",
      "        int: The nth Fibonacci number.\n",
      "    \n"
     ]
    }
   ],
   "source": [
    "print(fibonacci_memoization.__doc__)"
   ]
  },
  {
   "cell_type": "markdown",
   "id": "fbcb218f",
   "metadata": {},
   "source": [
    "# "
   ]
  },
  {
   "cell_type": "markdown",
   "id": "9173ec7b",
   "metadata": {},
   "source": [
    "# Exercises:"
   ]
  },
  {
   "cell_type": "markdown",
   "id": "2edbb58a",
   "metadata": {},
   "source": [
    "\n",
    "### Exercise 1: Basic Function Creation\n",
    "**Objective:** Write a function called `calculate_average` that takes a list of numbers as an input and returns their average.\n",
    "- **Hint:** Use the `sum()` and `len()` functions to calculate the average.\n",
    "\n",
    "### Exercise 2: Using Default Arguments\n",
    "**Objective:** Write a function named `greet_user` that accepts a user's name as an argument and prints a greeting. If no name is given, it should default to greeting \"Guest\".\n",
    "- **Hint:** Define the function with a default parameter.\n",
    "\n",
    "### Exercise 3: Recursive Function\n",
    "**Objective:** Write a recursive function to find the factorial of a given number. A factorial of a non-negative integer `n` is the product of all positive integers less than or equal to `n`.\n",
    "- **Hint:** Remember the base case for the factorial function is when `n` equals 0 or 1.\n",
    "\n",
    "### Exercise 4: Function with Multiple Returns\n",
    "**Objective:** Create a function called `stats` that takes a list of numbers and returns the minimum, maximum, and average of the list.\n",
    "- **Hint:** Use Python's built-in `min()`, `max()`, and the `calculate_average` function you wrote in Exercise 1.\n",
    "\n",
    "### Exercise 5: Factorial Calculation with Memoization\n",
    "**Objective:** Write a function `factorial_memoized` that calculates the factorial of a number using memoization to optimize repeated calls. Use a dictionary to store previously computed results.\n",
    "- **Hint:** Initialize a dictionary within the function to keep track of previously calculated factorials. Check if the result for the current number is in the dictionary before computing it.\n",
    "\n"
   ]
  },
  {
   "cell_type": "markdown",
   "id": "b2db27e3",
   "metadata": {},
   "source": [
    "# Solutions:"
   ]
  },
  {
   "cell_type": "code",
   "execution_count": 41,
   "id": "25a06fc7",
   "metadata": {},
   "outputs": [
    {
     "data": {
      "text/plain": [
       "{'calculate_average': 30.0,\n",
       " 'greet_user': 'Hello, Francesco!',\n",
       " 'factorial': 120,\n",
       " 'stats': (10, 50, 30.0),\n",
       " 'factorial_memoized': 120}"
      ]
     },
     "execution_count": 41,
     "metadata": {},
     "output_type": "execute_result"
    }
   ],
   "source": [
    "# Exercise 1: Basic Function Creation\n",
    "def calculate_average(numbers):\n",
    "    return sum(numbers) / len(numbers)\n",
    "\n",
    "# Exercise 2: Using Default Arguments\n",
    "def greet_user(name=\"Guest\"):\n",
    "    return f\"Hello, {name}!\"\n",
    "\n",
    "# Exercise 3: Recursive Function\n",
    "def factorial(n):\n",
    "    if n in (0, 1):\n",
    "        return 1 #base case\n",
    "    return n * factorial(n-1)\n",
    "\n",
    "# Exercise 4: Function with Multiple Returns\n",
    "def stats(numbers):\n",
    "    if not numbers:\n",
    "        return None, None, None\n",
    "    return min(numbers), max(numbers), calculate_average(numbers)\n",
    "\n",
    "# Exercise 5: Factorial Calculation with Memoization\n",
    "def factorial_memoized(n, memo=None):\n",
    "    \"\"\"\n",
    "    Calculate the factorial of a number using memoization to optimize performance.\n",
    "    \n",
    "    Parameters:\n",
    "        n (int): The number to calculate the factorial of.\n",
    "        memo (dict, optional): A dictionary used to store previously computed factorials.\n",
    "    \n",
    "    Returns:\n",
    "        int: The factorial of the number `n`.\n",
    "    \"\"\"\n",
    "    if memo is None:\n",
    "        memo = {}\n",
    "    if n in memo:\n",
    "        return memo[n]\n",
    "    if n <= 1:\n",
    "        memo[n] = 1\n",
    "    else:\n",
    "        memo[n] = n * factorial_memoized(n - 1, memo)\n",
    "    return memo[n]\n",
    "\n",
    "\n",
    "results = {\n",
    "    \"calculate_average\": calculate_average([10, 20, 30, 40, 50]),\n",
    "    \"greet_user\": greet_user(\"Francesco\"),\n",
    "    \"factorial\": factorial(5),\n",
    "    \"stats\": stats([10, 20, 30, 40, 50]),\n",
    "    \"factorial_memoized\": factorial_memoized(5)\n",
    "}\n",
    "\n",
    "results"
   ]
  },
  {
   "cell_type": "code",
   "execution_count": null,
   "id": "dc9df63e",
   "metadata": {},
   "outputs": [],
   "source": []
  }
 ],
 "metadata": {
  "kernelspec": {
   "display_name": "Python 3 (ipykernel)",
   "language": "python",
   "name": "python3"
  },
  "language_info": {
   "codemirror_mode": {
    "name": "ipython",
    "version": 3
   },
   "file_extension": ".py",
   "mimetype": "text/x-python",
   "name": "python",
   "nbconvert_exporter": "python",
   "pygments_lexer": "ipython3",
   "version": "3.10.6"
  }
 },
 "nbformat": 4,
 "nbformat_minor": 5
}
