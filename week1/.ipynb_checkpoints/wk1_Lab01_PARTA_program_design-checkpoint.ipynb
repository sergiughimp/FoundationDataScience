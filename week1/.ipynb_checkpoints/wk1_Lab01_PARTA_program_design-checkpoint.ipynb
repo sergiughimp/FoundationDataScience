{
 "cells": [
  {
   "cell_type": "markdown",
   "metadata": {
    "slideshow": {
     "slide_type": "slide"
    }
   },
   "source": [
    "# Program Design in Python\n",
    "\n",
    "## WEEK 1 - Hands-on Practice\n",
    "## Supplementary Material\n",
    "\n",
    "\n",
    "_Table of contents_\n",
    "\n",
    "* Variables\n",
    "* Objects\n",
    "* Control flow statements\n",
    "* Functions\n",
    "* Data structures"
   ]
  },
  {
   "cell_type": "markdown",
   "metadata": {
    "slideshow": {
     "slide_type": "slide"
    }
   },
   "source": [
    "## Variables & Objects\n",
    "\n",
    "Python variables are _names_ that point to a _reference_ to an _object_."
   ]
  },
  {
   "cell_type": "code",
   "execution_count": 1,
   "metadata": {
    "slideshow": {
     "slide_type": "fragment"
    }
   },
   "outputs": [
    {
     "data": {
      "text/plain": [
       "True"
      ]
     },
     "execution_count": 1,
     "metadata": {},
     "output_type": "execute_result"
    }
   ],
   "source": [
    "x = 1\n",
    "isinstance(x, object)"
   ]
  },
  {
   "cell_type": "markdown",
   "metadata": {
    "slideshow": {
     "slide_type": "slide"
    }
   },
   "source": [
    "In Python, **everything is an object**, even functions."
   ]
  },
  {
   "cell_type": "code",
   "execution_count": 3,
   "metadata": {
    "slideshow": {
     "slide_type": "fragment"
    }
   },
   "outputs": [
    {
     "data": {
      "text/plain": [
       "True"
      ]
     },
     "execution_count": 3,
     "metadata": {},
     "output_type": "execute_result"
    }
   ],
   "source": [
    "def foo():\n",
    "    pass\n",
    "\n",
    "isinstance(foo, object)"
   ]
  },
  {
   "cell_type": "markdown",
   "metadata": {
    "slideshow": {
     "slide_type": "slide"
    }
   },
   "source": [
    "Each object contains as least three pieces of information: \n",
    "\n",
    "* a reference count, for memory management purposes; \n",
    "* a type; and \n",
    "* a value.\n",
    "\n",
    "**`id()`** returns the object's memory address.\n",
    "\n",
    "**`is`** returns `True` if and only if (iff) two objects have the same memory address.\n"
   ]
  },
  {
   "cell_type": "code",
   "execution_count": 3,
   "metadata": {
    "slideshow": {
     "slide_type": "subslide"
    }
   },
   "outputs": [
    {
     "data": {
      "text/plain": [
       "8885000"
      ]
     },
     "execution_count": 3,
     "metadata": {},
     "output_type": "execute_result"
    }
   ],
   "source": [
    "id(x)"
   ]
  },
  {
   "cell_type": "code",
   "execution_count": 4,
   "metadata": {
    "slideshow": {
     "slide_type": "fragment"
    }
   },
   "outputs": [
    {
     "data": {
      "text/plain": [
       "True"
      ]
     },
     "execution_count": 4,
     "metadata": {},
     "output_type": "execute_result"
    }
   ],
   "source": [
    "y = x\n",
    "y is x"
   ]
  },
  {
   "cell_type": "markdown",
   "metadata": {
    "slideshow": {
     "slide_type": "fragment"
    }
   },
   "source": [
    "Most objects are immutable."
   ]
  },
  {
   "cell_type": "code",
   "execution_count": 5,
   "metadata": {
    "slideshow": {
     "slide_type": "fragment"
    }
   },
   "outputs": [
    {
     "data": {
      "text/plain": [
       "8885032"
      ]
     },
     "execution_count": 5,
     "metadata": {},
     "output_type": "execute_result"
    }
   ],
   "source": [
    "x += 1\n",
    "id(x)  # x no longer refers to the same object"
   ]
  },
  {
   "cell_type": "markdown",
   "metadata": {
    "slideshow": {
     "slide_type": "slide"
    }
   },
   "source": [
    "Here's a list of immutable and mutable type of objects:\n",
    "\n",
    "| Type    | Immutable? |\n",
    "| :------ | :--------: |\n",
    "| `int`   | Yes        |\n",
    "| `float` | Yes        |\n",
    "| `bool`  | Yes        |\n",
    "| `tuple` | Yes        |\n",
    "| `str`   | Yes        |\n",
    "| `list`  | No         |\n",
    "| `dict`  | No         |\n"
   ]
  },
  {
   "cell_type": "markdown",
   "metadata": {
    "slideshow": {
     "slide_type": "slide"
    }
   },
   "source": [
    "### Names\n",
    "\n",
    "Python is a case-sensitive programming language. Variable names may consist of letters, digits - never at the beginning - and underscores."
   ]
  },
  {
   "cell_type": "markdown",
   "metadata": {
    "slideshow": {
     "slide_type": "subslide"
    }
   },
   "source": [
    "Be careful of using reserved keywords:"
   ]
  },
  {
   "cell_type": "code",
   "execution_count": 6,
   "metadata": {
    "slideshow": {
     "slide_type": "fragment"
    }
   },
   "outputs": [
    {
     "name": "stdout",
     "output_type": "stream",
     "text": [
      "False     del       lambda    \n",
      "None      elif      nonlocal  \n",
      "True      else      not       \n",
      "and       except    or        \n",
      "as        finally   pass      \n",
      "assert    for       raise     \n",
      "async     from      return    \n",
      "await     global    try       \n",
      "break     if        while     \n",
      "class     import    with      \n",
      "continue  in        yield     \n",
      "def       is                  \n"
     ]
    }
   ],
   "source": [
    "import keyword\n",
    "lst = keyword.kwlist\n",
    "\n",
    "columns = 3\n",
    "while len(lst) % columns != 0:\n",
    "    lst.append(' ')\n",
    "\n",
    "mark = len(lst) // columns\n",
    "lsts = []\n",
    "offset = 0\n",
    "fmt = ''\n",
    "while offset < len(lst):\n",
    "    A = lst[offset:offset + mark] # Create a slice\n",
    "    lsts.append(A)\n",
    "    offset += mark  # Move to next set of keywords\n",
    "    fmt += '{:<10}' # Prepare formatting string\n",
    "\n",
    "for t in zip(*lsts):\n",
    "    print(fmt.format(*t))"
   ]
  },
  {
   "cell_type": "markdown",
   "metadata": {
    "slideshow": {
     "slide_type": "slide"
    }
   },
   "source": [
    "Sometimes we want to start a name with an underscore. Python doesn't have real private methods. \n",
    "\n",
    "So, we use underscores to singal users that some functions are not intended for general use."
   ]
  },
  {
   "cell_type": "code",
   "execution_count": 7,
   "metadata": {
    "slideshow": {
     "slide_type": "fragment"
    }
   },
   "outputs": [],
   "source": [
    "_names = [\"Ioannis\", \"Jane\", \"Ada\"]\n",
    "\n",
    "\n",
    "def _isvalid(name):\n",
    "    \"\"\"\n",
    "    A helper function for our main intent (i.e. `process`) \n",
    "    that may change at any time.\n",
    "    \"\"\"\n",
    "    return name in _names\n",
    "\n",
    "\n",
    "def process(name):\n",
    "    \"\"\"\n",
    "    A public facing function that implements the primary\n",
    "    intent of our program.\n",
    "    \"\"\"\n",
    "    if not _isvalid(name):\n",
    "        raise ValueError(\"Invalid name: {}\".format(name))\n",
    "    # Do something\n",
    "    return\n",
    "\n",
    "\n",
    "process('Ioannis')"
   ]
  },
  {
   "cell_type": "markdown",
   "metadata": {
    "slideshow": {
     "slide_type": "slide"
    }
   },
   "source": [
    "### Types\n",
    "\n",
    "Python is a *dynamically typed* language - it does not require you to define the type of a variable. This is to be contrasted with *strongly typed* languages, such as Java or C:\n",
    "\n",
    "```Java\n",
    "int x = 1;  /* An integer in Java or C */\n",
    "```"
   ]
  },
  {
   "cell_type": "code",
   "execution_count": 8,
   "metadata": {
    "slideshow": {
     "slide_type": "fragment"
    }
   },
   "outputs": [
    {
     "data": {
      "text/plain": [
       "int"
      ]
     },
     "execution_count": 8,
     "metadata": {},
     "output_type": "execute_result"
    }
   ],
   "source": [
    "x = 1  # Dynamically typed to integer\n",
    "type(x)"
   ]
  },
  {
   "cell_type": "code",
   "execution_count": 9,
   "metadata": {
    "slideshow": {
     "slide_type": "fragment"
    }
   },
   "outputs": [
    {
     "data": {
      "text/plain": [
       "float"
      ]
     },
     "execution_count": 9,
     "metadata": {},
     "output_type": "execute_result"
    }
   ],
   "source": [
    "x += 0.1  # Dynamically typed to float\n",
    "type(x)"
   ]
  },
  {
   "cell_type": "markdown",
   "metadata": {
    "slideshow": {
     "slide_type": "slide"
    }
   },
   "source": [
    "We can explicitly convert between types."
   ]
  },
  {
   "cell_type": "code",
   "execution_count": 10,
   "metadata": {
    "slideshow": {
     "slide_type": "fragment"
    }
   },
   "outputs": [
    {
     "name": "stdout",
     "output_type": "stream",
     "text": [
      "<class 'int'>\n",
      "<class 'float'>\n"
     ]
    }
   ],
   "source": [
    "s = \"20\"  # A string\n",
    "x, y = int(s), float(s)\n",
    "print(type(x))\n",
    "print(type(y))"
   ]
  },
  {
   "cell_type": "markdown",
   "metadata": {
    "slideshow": {
     "slide_type": "subslide"
    }
   },
   "source": [
    "Ah! That's an `object` after all. Recall, everything is an object. \n",
    "\n",
    "**Let's do some typechecking.** First, how can we make sure that a string literal can be safely converted to, say, an integer?"
   ]
  },
  {
   "cell_type": "code",
   "execution_count": 5,
   "metadata": {
    "slideshow": {
     "slide_type": "fragment"
    }
   },
   "outputs": [
    {
     "name": "stdout",
     "output_type": "stream",
     "text": [
      "Literal 'one' is not an integer.\n"
     ]
    }
   ],
   "source": [
    "s = \"one\"\n",
    "try:\n",
    "    y = int(s)\n",
    "except:\n",
    "    y = None\n",
    "if y is None:\n",
    "    print(\"Literal '{}' is not an integer.\".format(s))"
   ]
  },
  {
   "cell_type": "markdown",
   "metadata": {
    "slideshow": {
     "slide_type": "slide"
    }
   },
   "source": [
    "More importantly, we want to check the input arguments to a function. \n",
    "\n",
    "Consider, for instance, a function takes as input a list of integers:"
   ]
  },
  {
   "cell_type": "code",
   "execution_count": 9,
   "metadata": {
    "slideshow": {
     "slide_type": "fragment"
    }
   },
   "outputs": [
    {
     "name": "stdout",
     "output_type": "stream",
     "text": [
      "[2, 3, 4]\n"
     ]
    }
   ],
   "source": [
    "def inc(numbers, alpha=1):\n",
    "    \"\"\"\n",
    "    Increments all numbers in a list by alpha.\n",
    "    \"\"\"\n",
    "    assert isinstance(numbers, list)\n",
    "    assert all(isinstance(x, int) for x in numbers)\n",
    "    return [x + alpha for x in numbers]\n",
    "\n",
    "\n",
    "x = [1, 2, 3]\n",
    "y = inc(x)\n",
    "print(y)"
   ]
  },
  {
   "cell_type": "markdown",
   "metadata": {
    "slideshow": {
     "slide_type": "slide"
    }
   },
   "source": [
    "### Arithmetic operations\n",
    "\n",
    "Below is a list of common arithmetic operations.\n",
    "\n",
    "| Description    |  Operator | Example   |\n",
    "| :------------- | :--------:| :-------- |\n",
    "| Addition       | `+`       | `x + y`   | \n",
    "| Subtraction    | `–`       | `x - y`   |\n",
    "| Multiplication | `*`       | `x * y`   |\n",
    "| Exponentiation | `**`      | `x ** y`  | \n",
    "| True division  | `/`       | `x / y`   |\n",
    "| Floor division | `//`      | `x // y`  |\n",
    "| Remainder      | `%`       | `x % y`   |"
   ]
  },
  {
   "cell_type": "markdown",
   "metadata": {
    "slideshow": {
     "slide_type": "slide"
    }
   },
   "source": [
    "Try out some examples. Keep in mind [operator precedence](https://docs.python.org/3/reference/expressions.html#operator-precedence):\n",
    "* `2 ** 2 + 1 * 5`\n",
    "* `6 % 4  / 4 * 2 - 1`\n",
    "* `6 % 4 // 4 * 2 - 1`\n",
    "\n",
    "In summary, don't be afraid to use parentheses!"
   ]
  },
  {
   "cell_type": "code",
   "execution_count": 17,
   "metadata": {
    "slideshow": {
     "slide_type": "fragment"
    }
   },
   "outputs": [
    {
     "name": "stdout",
     "output_type": "stream",
     "text": [
      "a = 9, b = 0.0, c = -1\n"
     ]
    }
   ],
   "source": [
    "# Try out some examples\n",
    "a, b, c = 2 ** 2 + 1 * 5, 6 % 4  / 4 * 2 - 1, 6 % 4 // 4 * 2 - 1\n",
    "print(f\"a = {a}, b = {b}, c = {c}\")"
   ]
  },
  {
   "cell_type": "markdown",
   "metadata": {
    "slideshow": {
     "slide_type": "slide"
    }
   },
   "source": [
    "### Logical operations\n",
    "\n",
    "Below is a list of common logical operations.\n",
    "\n",
    "| Description                    |  Operator | Example   |\n",
    "| :----------------------------- | :--------:| :-------- |\n",
    "| $x$ is greater than $y$        | `>`       | `x > y`   | \n",
    "| $x$ is less than $y$           | `<`       | `x < y`   |\n",
    "| $x$ is greater or equal to $y$ | `>=`      | `x >= y`  |\n",
    "| $x$ is less or equal to $y$    | `<=`      | `x <= y`  | \n",
    "| $x$ equals $y$                 | `==`      | `x == y`  |\n",
    "| $x$ not equals $y$             | `!=`      | `x != y`  |"
   ]
  },
  {
   "cell_type": "markdown",
   "metadata": {
    "slideshow": {
     "slide_type": "slide"
    }
   },
   "source": [
    "Try out some examples. Keep in mind [operator precedence](https://docs.python.org/3/reference/expressions.html#operator-precedence):\n",
    "\n",
    "* `5 < 6 > 10 - 5 == 5`\n",
    "* `5 > 6 or 5 > 1 and not 1 > 2`"
   ]
  },
  {
   "cell_type": "code",
   "execution_count": 21,
   "metadata": {
    "slideshow": {
     "slide_type": "fragment"
    }
   },
   "outputs": [
    {
     "name": "stdout",
     "output_type": "stream",
     "text": [
      "yes\n",
      "yes2\n"
     ]
    }
   ],
   "source": [
    "# Try out some examples\n",
    "if 5 < 6 > 10 - 5 == 5:\n",
    "    print(\"yes\")\n",
    "else:\n",
    "    print(\"no\")\n",
    "\n",
    "if 5 > 6 or 5 > 1 and not 1 > 2:\n",
    "    print(\"yes2\")\n",
    "else:\n",
    "    print(\"no2\")"
   ]
  },
  {
   "cell_type": "markdown",
   "metadata": {
    "slideshow": {
     "slide_type": "slide"
    }
   },
   "source": [
    "## Objects\n",
    "\n",
    "In many cases we want to create very own type to represent an \"object\" with certain attributes and methods."
   ]
  },
  {
   "cell_type": "code",
   "execution_count": 45,
   "metadata": {
    "slideshow": {
     "slide_type": "subslide"
    }
   },
   "outputs": [
    {
     "name": "stdout",
     "output_type": "stream",
     "text": [
      "Mike Taylor\n",
      "123\n"
     ]
    }
   ],
   "source": [
    "class Student(object):\n",
    "    \"\"\"\n",
    "    A student.\n",
    "\n",
    "    Args:\n",
    "        name: Student name\n",
    "        uid:  Student unique id\n",
    "    \"\"\"\n",
    "\n",
    "    def __init__(self, name, uid):\n",
    "        #\n",
    "        # Define attributes for the student object.\n",
    "        # Recall best practices for prefixing names\n",
    "        # with an underscore.\n",
    "        #\n",
    "        self._name = name\n",
    "        self._uid = uid\n",
    "    \n",
    "    def name(self):\n",
    "        return self._name\n",
    "    \n",
    "    @property\n",
    "    def uid(self):\n",
    "        return self._uid\n",
    "\n",
    "\n",
    "student = Student(\"Mike Taylor\", 123)\n",
    "isinstance(student, object) and isinstance(student, Student)\n",
    "\n",
    "print(student.name())\n",
    "print(student.uid)"
   ]
  },
  {
   "cell_type": "markdown",
   "metadata": {
    "slideshow": {
     "slide_type": "subslide"
    }
   },
   "source": [
    "We can access our object's methods and attributes using the '`.`' notation, like so:"
   ]
  },
  {
   "cell_type": "code",
   "execution_count": 29,
   "metadata": {
    "slideshow": {
     "slide_type": "fragment"
    }
   },
   "outputs": [
    {
     "name": "stdout",
     "output_type": "stream",
     "text": [
      "Mike Taylor, 123\n"
     ]
    }
   ],
   "source": [
    "print(\"{}, {}\".format(student.name(), student.uid))"
   ]
  },
  {
   "cell_type": "markdown",
   "metadata": {
    "slideshow": {
     "slide_type": "slide"
    }
   },
   "source": [
    "## Control flow statements\n",
    "\n",
    "All (imperative) programs can be written by interlacing sequences of statements with\n",
    "\n",
    "* Selection statements\n",
    "* Iteration statements"
   ]
  },
  {
   "cell_type": "markdown",
   "metadata": {
    "slideshow": {
     "slide_type": "slide"
    }
   },
   "source": [
    "### Selection\n",
    "\n",
    "An `if` statement executes a sequence of statements (that is, an indented code block) if a condition is true and, optionally, another code block if it is false. There are three main variants:\n",
    "\n",
    "* `if` statements\n",
    "* `if`...`else` statements\n",
    "* `if`...`elif`...`else` statements\n",
    "\n",
    "It is good practice, if not best, to provide an `else` statement.\n",
    "\n",
    "Remember, **indentation matters!** Many evils arose from unintended unindented code blocks.\n",
    "\n",
    "On a different note, read how our love (and need) to speed up execution of programs containing branches led to [Spectre and Meltdown](https://spectrum.ieee.org/computing/hardware/how-the-spectre-and-meltdown-hacks-really-worked)."
   ]
  },
  {
   "cell_type": "code",
   "execution_count": 47,
   "metadata": {
    "slideshow": {
     "slide_type": "slide"
    }
   },
   "outputs": [
    {
     "name": "stdout",
     "output_type": "stream",
     "text": [
      "x > 0\n"
     ]
    }
   ],
   "source": [
    "x = 1\n",
    "if x > 0:\n",
    "    print('x > 0')\n",
    "elif x < 0:\n",
    "    print('x < 0')\n",
    "else:\n",
    "    print('x = 0')"
   ]
  },
  {
   "cell_type": "markdown",
   "metadata": {
    "slideshow": {
     "slide_type": "slide"
    }
   },
   "source": [
    "__Boolean operations__, mainly `not`, `and` and `or`, can be used to construct more complex conditions in `if` statements.\n",
    "\n",
    "| x       | or     | y       | Result   |       \n",
    "| :-----  | :----: | :-----  | :------  |\n",
    "| `True`  | or     | `True`  | `True`   |\n",
    "| `True`  | or     | `False` | `True`   |\n",
    "| `False` | or     | `True`  | `True`   |\n",
    "| `False` | or     | `False` | `False`  |\n",
    "\n",
    "__Exercise.__ Let's derive a similar truth table for the `and` operation."
   ]
  },
  {
   "cell_type": "code",
   "execution_count": 51,
   "metadata": {
    "slideshow": {
     "slide_type": "fragment"
    }
   },
   "outputs": [],
   "source": [
    "# Try it out"
   ]
  },
  {
   "cell_type": "markdown",
   "metadata": {
    "slideshow": {
     "slide_type": "slide"
    }
   },
   "source": [
    "__Exercise.__ Rewrite the previous `if` statement example using complex conditions:\n",
    "\n",
    "```\n",
    "x = 1\n",
    "if x > 0:\n",
    "    print('x > 0')\n",
    "elif x < 0:\n",
    "    print('x < 0')\n",
    "else:\n",
    "    print('x = 0')\n",
    "```"
   ]
  },
  {
   "cell_type": "code",
   "execution_count": 55,
   "metadata": {
    "slideshow": {
     "slide_type": "fragment"
    }
   },
   "outputs": [
    {
     "name": "stdout",
     "output_type": "stream",
     "text": [
      "x > 0\n"
     ]
    }
   ],
   "source": [
    "# Try it out\n",
    "x = 1\n",
    "\n",
    "if x > 0 and x != 0:\n",
    "    print(\"x > 0\")\n",
    "elif x < 0 and x != 0:\n",
    "    print(\"x < 0\")\n",
    "else:\n",
    "    print(\"x = 0\")"
   ]
  },
  {
   "cell_type": "markdown",
   "metadata": {
    "slideshow": {
     "slide_type": "slide"
    }
   },
   "source": [
    "### Iteration\n",
    "\n",
    "There are two basic iteration statements (also known as _loops_), `while` loops and `for` loops.\n",
    "\n",
    "__While loops__ repeat a code block as long as a condition remains true. Something in the program, however, _must alter_ the condition to false, otherwise the loop is an infinite one."
   ]
  },
  {
   "cell_type": "code",
   "execution_count": 57,
   "metadata": {
    "slideshow": {
     "slide_type": "fragment"
    }
   },
   "outputs": [
    {
     "name": "stdout",
     "output_type": "stream",
     "text": [
      "0, 1, 2, 3, 4, 5, 6, 7, 8, 9\n"
     ]
    }
   ],
   "source": [
    "n = 0\n",
    "s = None\n",
    "while n < 10:\n",
    "    s = str(n) if s is None else \"{}, {}\".format(s, str(n))\n",
    "    # Without the following statement, the loop \n",
    "    # becomes infinite, with undesirable effect\n",
    "    n += 1\n",
    "print(s)"
   ]
  },
  {
   "cell_type": "markdown",
   "metadata": {
    "slideshow": {
     "slide_type": "slide"
    }
   },
   "source": [
    "__For loops__ repeat a code block for a fixed number of iterations. A typical use in Python is to iteration over all items in an iterable object (a sequence, such as a list)."
   ]
  },
  {
   "cell_type": "code",
   "execution_count": 67,
   "metadata": {
    "slideshow": {
     "slide_type": "fragment"
    }
   },
   "outputs": [
    {
     "name": "stdout",
     "output_type": "stream",
     "text": [
      "45\n"
     ]
    }
   ],
   "source": [
    "numbers = s.split(\",\")\n",
    "total = 0\n",
    "for ch in numbers:\n",
    "    total = total + int(ch)\n",
    "print(total)"
   ]
  },
  {
   "cell_type": "markdown",
   "metadata": {
    "slideshow": {
     "slide_type": "slide"
    }
   },
   "source": [
    "The **`for i in range(n)`** loop, where `n` is an integer, is perhaps the most popular. \n",
    "\n",
    "The `range()` function returns a sequence of numbers, starting from `0` by default, and increments by `1` (by default) and stops before a specified number. The syntax is:\n",
    "\n",
    "```\n",
    "range(start, stop, step)\n",
    "```\n",
    "\n",
    "Arguments `start` and `step` are optional; `stop` is required."
   ]
  },
  {
   "cell_type": "code",
   "execution_count": 22,
   "metadata": {
    "slideshow": {
     "slide_type": "fragment"
    }
   },
   "outputs": [
    {
     "name": "stdout",
     "output_type": "stream",
     "text": [
      "0, 1, 2, 3, 4, 5, 6, 7, 8, 9\n"
     ]
    }
   ],
   "source": [
    "s = None\n",
    "for n in range(10):\n",
    "    s = str(n) if s is None else \"{}, {}\".format(s, str(n))\n",
    "print(s)"
   ]
  },
  {
   "cell_type": "markdown",
   "metadata": {
    "slideshow": {
     "slide_type": "slide"
    }
   },
   "source": [
    "You can count backwards too (using a negative integer step):"
   ]
  },
  {
   "cell_type": "code",
   "execution_count": 23,
   "metadata": {
    "slideshow": {
     "slide_type": "fragment"
    }
   },
   "outputs": [
    {
     "name": "stdout",
     "output_type": "stream",
     "text": [
      "9, 8, 7, 6, 5, 4, 3, 2, 1, 0\n"
     ]
    }
   ],
   "source": [
    "s = None\n",
    "for n in range(9, -1, -1):\n",
    "    s = str(n) if s is None else \"{}, {}\".format(s, str(n))\n",
    "print(s)"
   ]
  },
  {
   "cell_type": "markdown",
   "metadata": {
    "slideshow": {
     "slide_type": "slide"
    }
   },
   "source": [
    "The __break__ and __continue__ statements can exit a loop or skip an iteration at the point specified, respectively."
   ]
  },
  {
   "cell_type": "code",
   "execution_count": 24,
   "metadata": {
    "slideshow": {
     "slide_type": "subslide"
    }
   },
   "outputs": [
    {
     "name": "stdout",
     "output_type": "stream",
     "text": [
      "0, 1, 2, 3, 4, 5, 6, 7, 8, 9\n"
     ]
    }
   ],
   "source": [
    "n = 0\n",
    "s = None\n",
    "while True:\n",
    "    s = str(n) if s is None else \"{}, {}\".format(s, str(n))\n",
    "    n += 1\n",
    "    # Without the following statement, the loop \n",
    "    # becomes infinite, with undesirable effect\n",
    "    if n > 9:\n",
    "        break\n",
    "print(s)"
   ]
  },
  {
   "cell_type": "code",
   "execution_count": 25,
   "metadata": {
    "slideshow": {
     "slide_type": "subslide"
    }
   },
   "outputs": [
    {
     "name": "stdout",
     "output_type": "stream",
     "text": [
      "45\n"
     ]
    }
   ],
   "source": [
    "total = 0\n",
    "for ch in s:\n",
    "    if ch == \",\" or ch == \" \":\n",
    "        continue\n",
    "    total += int(ch)\n",
    "print(total)"
   ]
  },
  {
   "cell_type": "markdown",
   "metadata": {
    "slideshow": {
     "slide_type": "slide"
    }
   },
   "source": [
    "## Data structures\n",
    "\n",
    "Let's briefly review some basic data structures - _lists_, _tuples_ and _dictionaries_."
   ]
  },
  {
   "cell_type": "markdown",
   "metadata": {
    "slideshow": {
     "slide_type": "slide"
    }
   },
   "source": [
    "### Lists\n",
    "\n",
    "A list holds a collection of items. It is typical, but not necessary, to store __homogeneous data__ in a list.\n",
    "\n",
    "We define a list using brackets (`[` and `]`):"
   ]
  },
  {
   "cell_type": "code",
   "execution_count": 26,
   "metadata": {
    "slideshow": {
     "slide_type": "fragment"
    }
   },
   "outputs": [],
   "source": [
    "# A list of 10 integers\n",
    "a = [-5, -4, -3, -2, -1, 0, 1, 2, 3, 4, 5]\n",
    "# An empty list\n",
    "b = []\n",
    "# or\n",
    "b = list()"
   ]
  },
  {
   "cell_type": "markdown",
   "metadata": {
    "slideshow": {
     "slide_type": "slide"
    }
   },
   "source": [
    "Lists in Python behave like arrays, in that we get access its $i$-th item by refering to it's position. Indexing starts at `0` (the first item in the list):"
   ]
  },
  {
   "cell_type": "code",
   "execution_count": 27,
   "metadata": {
    "slideshow": {
     "slide_type": "fragment"
    }
   },
   "outputs": [
    {
     "name": "stdout",
     "output_type": "stream",
     "text": [
      "00:  -5\n",
      "01:  -4\n",
      "02:  -3\n",
      "03:  -2\n",
      "04:  -1\n",
      "05:   0\n",
      "06:   1\n",
      "07:   2\n",
      "08:   3\n",
      "09:   4\n",
      "10:   5\n"
     ]
    }
   ],
   "source": [
    "for idx, item in enumerate(a):\n",
    "    print(f'{idx:02d}: {item:-3d}')"
   ]
  },
  {
   "cell_type": "markdown",
   "metadata": {
    "slideshow": {
     "slide_type": "subslide"
    }
   },
   "source": [
    "So, the following expression evaluates to `True`:"
   ]
  },
  {
   "cell_type": "code",
   "execution_count": 28,
   "metadata": {
    "slideshow": {
     "slide_type": "fragment"
    }
   },
   "outputs": [
    {
     "data": {
      "text/plain": [
       "True"
      ]
     },
     "execution_count": 28,
     "metadata": {},
     "output_type": "execute_result"
    }
   ],
   "source": [
    "#\n",
    "# index   0   1   2   3   4  5  6  7  8  9 10\n",
    "# value  -5  -4  -3  -2  -1  0  1  2  3  4  5\n",
    "#\n",
    "a[0] + a[-1] == a[5]"
   ]
  },
  {
   "cell_type": "markdown",
   "metadata": {
    "slideshow": {
     "slide_type": "slide"
    }
   },
   "source": [
    "As you can see from the example above, we can access items from the end of the list with _negative indices_. Indexing starts at `-1` (the last item in the list).\n",
    "\n",
    "Lists are __mutable__ objects:"
   ]
  },
  {
   "cell_type": "code",
   "execution_count": 29,
   "metadata": {
    "slideshow": {
     "slide_type": "fragment"
    }
   },
   "outputs": [],
   "source": [
    "# Change the value of the first item\n",
    "a[0] += 11"
   ]
  },
  {
   "cell_type": "markdown",
   "metadata": {
    "slideshow": {
     "slide_type": "slide"
    }
   },
   "source": [
    "#### Slicing\n",
    "\n",
    "Slicing of a list creates a new one containing a __subset__ of the original list."
   ]
  },
  {
   "cell_type": "code",
   "execution_count": 30,
   "metadata": {
    "slideshow": {
     "slide_type": "fragment"
    }
   },
   "outputs": [
    {
     "name": "stdout",
     "output_type": "stream",
     "text": [
      "[6, -4, -3, -2]\n",
      "[-1, 0, 1, 2, 3, 4, 5]\n"
     ]
    }
   ],
   "source": [
    "# a is [-4, -3, -2, -1, 0, 1, 2, 3, 4, 5, 6, 7, 8, 9, 10]\n",
    "#\n",
    "# This is equivalent to a[0:4]\n",
    "negatives = a[:4]\n",
    "# This is equivalent to a[4:len(a)]\n",
    "positives = a[4:]\n",
    "print(negatives)\n",
    "print(positives)"
   ]
  },
  {
   "cell_type": "markdown",
   "metadata": {
    "slideshow": {
     "slide_type": "slide"
    }
   },
   "source": [
    "We can specify a _step_:"
   ]
  },
  {
   "cell_type": "code",
   "execution_count": 31,
   "metadata": {
    "slideshow": {
     "slide_type": "fragment"
    }
   },
   "outputs": [
    {
     "name": "stdout",
     "output_type": "stream",
     "text": [
      "[6, -3, -1, 1, 3, 5]\n",
      "[-4, -2, 0, 2, 4]\n"
     ]
    }
   ],
   "source": [
    "evens = a[::2]\n",
    "odds = a[1::2]\n",
    "print(evens)\n",
    "print(odds)"
   ]
  },
  {
   "cell_type": "markdown",
   "metadata": {
    "slideshow": {
     "slide_type": "slide"
    }
   },
   "source": [
    "We can slice with negative indices too:"
   ]
  },
  {
   "cell_type": "code",
   "execution_count": 32,
   "metadata": {
    "slideshow": {
     "slide_type": "fragment"
    }
   },
   "outputs": [
    {
     "name": "stdout",
     "output_type": "stream",
     "text": [
      "[5, 4, 3, 2, 1, 0, -1, -2, -3, -4, 6]\n",
      "[5, 4, 3, 2, 1, 0, -1, -2, -3, -4, 6]\n"
     ]
    }
   ],
   "source": [
    "positives = a[-1:-12:-1]\n",
    "reversing = a[::-1]  # A nice way to reverse a list\n",
    "print(positives)\n",
    "print(reversing)"
   ]
  },
  {
   "cell_type": "markdown",
   "metadata": {
    "slideshow": {
     "slide_type": "slide"
    }
   },
   "source": [
    "#### Sorting a list\n",
    "\n",
    "There are two ways to sort items in a list. The `sort()` method sorts the list __in place__:"
   ]
  },
  {
   "cell_type": "code",
   "execution_count": 33,
   "metadata": {
    "slideshow": {
     "slide_type": "fragment"
    }
   },
   "outputs": [
    {
     "name": "stdout",
     "output_type": "stream",
     "text": [
      "[6, 5, 4, 3, 2, 1, 0, -1, -2, -3, -4]\n"
     ]
    }
   ],
   "source": [
    "a.sort(reverse=True)\n",
    "print(a)"
   ]
  },
  {
   "cell_type": "code",
   "execution_count": 34,
   "metadata": {
    "slideshow": {
     "slide_type": "fragment"
    }
   },
   "outputs": [
    {
     "name": "stdout",
     "output_type": "stream",
     "text": [
      "[-4, -3, -2, -1, 0, 1, 2, 3, 4, 5, 6]\n"
     ]
    }
   ],
   "source": [
    "a.sort()\n",
    "print(a)"
   ]
  },
  {
   "cell_type": "markdown",
   "metadata": {
    "slideshow": {
     "slide_type": "slide"
    }
   },
   "source": [
    "The built-in `sorted()` method returns a __new list__ (the original list is unmodified):"
   ]
  },
  {
   "cell_type": "code",
   "execution_count": 35,
   "metadata": {
    "slideshow": {
     "slide_type": "fragment"
    }
   },
   "outputs": [
    {
     "name": "stdout",
     "output_type": "stream",
     "text": [
      "b is [6, 5, 4, 3, 2, 1, 0, -1, -2, -3, -4] and\n",
      "a is [-4, -3, -2, -1, 0, 1, 2, 3, 4, 5, 6]\n"
     ]
    }
   ],
   "source": [
    "b = sorted(a, reverse=True)\n",
    "print('b is', b, 'and\\na is', a)"
   ]
  },
  {
   "cell_type": "markdown",
   "metadata": {
    "slideshow": {
     "slide_type": "slide"
    }
   },
   "source": [
    "#### Appending items to a list\n",
    "\n",
    "We can append new items at the end of a list:"
   ]
  },
  {
   "cell_type": "code",
   "execution_count": 36,
   "metadata": {
    "slideshow": {
     "slide_type": "fragment"
    }
   },
   "outputs": [
    {
     "name": "stdout",
     "output_type": "stream",
     "text": [
      "[-4, -3, -2, -1, 0, 1, 2, 3, 4, 5, 6, 7]\n"
     ]
    }
   ],
   "source": [
    "a.append(7)\n",
    "print(a)"
   ]
  },
  {
   "cell_type": "markdown",
   "metadata": {
    "slideshow": {
     "slide_type": "slide"
    }
   },
   "source": [
    "__Discussion.__ What happens if we want to add multiple items like so: `a.append([7, 8, 9])`?\n",
    "\n",
    "The right way to concatenate two lists (or, in general, sequences) is to use the `+` operation:"
   ]
  },
  {
   "cell_type": "code",
   "execution_count": 37,
   "metadata": {
    "slideshow": {
     "slide_type": "fragment"
    }
   },
   "outputs": [
    {
     "name": "stdout",
     "output_type": "stream",
     "text": [
      "[-4, -3, -2, -1, 0, 1, 2, 3, 4, 5, 6, 7, 8, 9, 10]\n"
     ]
    }
   ],
   "source": [
    "# Concatenating two lists\n",
    "a += [8, 9, 10]\n",
    "print(a)"
   ]
  },
  {
   "cell_type": "markdown",
   "metadata": {
    "slideshow": {
     "slide_type": "slide"
    }
   },
   "source": [
    "__Exercise.__ Using a list, build a [_stack_](https://en.wikipedia.org/wiki/Stack_(abstract_data_type)) data structure, a collection of items with main principal operations:\n",
    "\n",
    "* `push(x)` adds an item to the stack; and\n",
    "* `pop()` removes the most recently added item from the stack."
   ]
  },
  {
   "cell_type": "code",
   "execution_count": 104,
   "metadata": {
    "slideshow": {
     "slide_type": "subslide"
    }
   },
   "outputs": [],
   "source": [
    "class Stack(object):\n",
    "    \"\"\"\n",
    "    Constructs a stack.\n",
    "    \"\"\"\n",
    "    def __init__(self):\n",
    "        # To be implemented\n",
    "        # pass\n",
    "        self._items = []\n",
    "    \n",
    "    def push(self, item):\n",
    "        \"\"\"Adds an item to the stack.\"\"\"\n",
    "        self._items.append(item)\n",
    "        # raise NotImplementedError(\"Method 'push' is not implemented yet\")\n",
    "    \n",
    "    def pop(self):\n",
    "        \"\"\"Removes the most recently added item from the stack.\"\"\"\n",
    "        if not self._items:\n",
    "            return None\n",
    "        return self._items.pop()\n",
    "\n",
    "\n",
    "stack = Stack()\n",
    "stack.push(1)\n",
    "stack.push(2)\n",
    "stack.push(3)\n",
    "x = stack.pop()\n",
    "y = stack.pop()\n",
    "z = stack.pop()\n",
    "w = stack.pop()"
   ]
  },
  {
   "cell_type": "markdown",
   "metadata": {
    "slideshow": {
     "slide_type": "slide"
    }
   },
   "source": [
    "#### List comprehensions\n",
    "\n",
    "Lists comprehension are an easy way to create new lists. A list comprehension encloses in brackets `[` and `]` an expression, followed by a `for` clause, followed by zero of more `for` or `if` statements."
   ]
  },
  {
   "cell_type": "code",
   "execution_count": 39,
   "metadata": {
    "slideshow": {
     "slide_type": "fragment"
    }
   },
   "outputs": [
    {
     "data": {
      "text/plain": [
       "[-10, -9, -8, -7, -6, -5, -4, -3, -2, -1, 0, 1, 2, 3, 4, 5, 6, 7, 8, 9, 10]"
      ]
     },
     "execution_count": 39,
     "metadata": {},
     "output_type": "execute_result"
    }
   ],
   "source": [
    "a = [x for x in range(-10, 11)]\n",
    "a"
   ]
  },
  {
   "cell_type": "code",
   "execution_count": 40,
   "metadata": {
    "slideshow": {
     "slide_type": "subslide"
    }
   },
   "outputs": [
    {
     "data": {
      "text/plain": [
       "[2, 4, 6, 8, 10]"
      ]
     },
     "execution_count": 40,
     "metadata": {},
     "output_type": "execute_result"
    }
   ],
   "source": [
    "# Find even numbers greater than 0 in the list\n",
    "evens = [x for x in a if x > 0 and x % 2 == 0]\n",
    "evens"
   ]
  },
  {
   "cell_type": "markdown",
   "metadata": {
    "slideshow": {
     "slide_type": "slide"
    }
   },
   "source": [
    "#### Built-in fuctions"
   ]
  },
  {
   "cell_type": "code",
   "execution_count": 41,
   "metadata": {
    "slideshow": {
     "slide_type": "fragment"
    }
   },
   "outputs": [
    {
     "data": {
      "text/plain": [
       "1"
      ]
     },
     "execution_count": 41,
     "metadata": {},
     "output_type": "execute_result"
    }
   ],
   "source": [
    "min(a)  # -10\n",
    "max(a)  #  10\n",
    "sum(a)  #   0\n",
    "\n",
    "# count() returns the number of occurences of an item in the list\n",
    "z = a.count(10)\n",
    "z"
   ]
  },
  {
   "cell_type": "markdown",
   "metadata": {
    "slideshow": {
     "slide_type": "slide"
    }
   },
   "source": [
    "__Exercise.__ Write `mean` and `median` functions for numerical lists."
   ]
  },
  {
   "cell_type": "code",
   "execution_count": 154,
   "metadata": {
    "slideshow": {
     "slide_type": "fragment"
    }
   },
   "outputs": [
    {
     "name": "stdout",
     "output_type": "stream",
     "text": [
      "True and True\n",
      "Mean: 6.0588235294117645\n",
      "Median: 6\n"
     ]
    }
   ],
   "source": [
    "# Try it out\n",
    "import numpy as np\n",
    "\n",
    "\n",
    "def mean(x):\n",
    "    return sum(x) / len(x)\n",
    "\n",
    "def median(x):\n",
    "    \n",
    "    sortedX = sorted(x)\n",
    "    n = len(sortedX)\n",
    "    middle = n // 2\n",
    "\n",
    "    if n % 2 == 1:\n",
    "        return sortedX[middle]\n",
    "    else:\n",
    "        return (sortedX[middle] + sortedX[middle - 1]) / 2\n",
    "\n",
    "\n",
    "# Sample data\n",
    "lst = [1, 2, 3, 4, 5, 9, 12, 1, 17, 6, 7, 5, 6, 7, 8, 9, 1]\n",
    "\n",
    "# Test\n",
    "print(np.mean(lst) == mean(lst), \"and\", np.median(lst) == median(lst))\n",
    "print(\"Mean:\", mean(lst))\n",
    "print(\"Median:\", median(lst))\n",
    "\n",
    "# Sample data\n",
    "lst = [1, 2, 3, 4, 5, 9, 12, 1, 17]"
   ]
  },
  {
   "cell_type": "markdown",
   "metadata": {
    "slideshow": {
     "slide_type": "slide"
    }
   },
   "source": [
    "#### A note on strings and tuples\n",
    "\n",
    "String and tuples are sequence of characters and objects, respectively, that mostly behave like lists. But, in general, strings and tuples are __immutable__."
   ]
  },
  {
   "cell_type": "markdown",
   "metadata": {
    "slideshow": {
     "slide_type": "slide"
    }
   },
   "source": [
    "### Tuples\n",
    "\n",
    "A `tuple` is an immutable sequence, so, apart from modifications, it behaves mostly like a `list`."
   ]
  },
  {
   "cell_type": "code",
   "execution_count": 156,
   "metadata": {
    "slideshow": {
     "slide_type": "fragment"
    }
   },
   "outputs": [
    {
     "name": "stdout",
     "output_type": "stream",
     "text": [
      "('A', 0)\n"
     ]
    }
   ],
   "source": [
    "t = ()  # An empty tuple\n",
    "t += 'A', 0\n",
    "print(t)"
   ]
  },
  {
   "cell_type": "code",
   "execution_count": 158,
   "metadata": {
    "slideshow": {
     "slide_type": "fragment"
    }
   },
   "outputs": [
    {
     "name": "stdout",
     "output_type": "stream",
     "text": [
      "('A', 0)\n"
     ]
    }
   ],
   "source": [
    "t = ('A', 0)  # Create a tuple with values 'A' and 0\n",
    "print(t)"
   ]
  },
  {
   "cell_type": "markdown",
   "metadata": {
    "slideshow": {
     "slide_type": "slide"
    }
   },
   "source": [
    "You can access items in a tuple using indices, as with lists. But you can also unpack a tuple:"
   ]
  },
  {
   "cell_type": "code",
   "execution_count": 45,
   "metadata": {
    "slideshow": {
     "slide_type": "fragment"
    }
   },
   "outputs": [
    {
     "name": "stdout",
     "output_type": "stream",
     "text": [
      "A and 0\n"
     ]
    }
   ],
   "source": [
    "x, y = t\n",
    "print(x, 'and', y)"
   ]
  },
  {
   "cell_type": "markdown",
   "metadata": {
    "slideshow": {
     "slide_type": "slide"
    }
   },
   "source": [
    "A tuple may contain mutable objects:"
   ]
  },
  {
   "cell_type": "code",
   "execution_count": 46,
   "metadata": {
    "slideshow": {
     "slide_type": "fragment"
    }
   },
   "outputs": [
    {
     "name": "stdout",
     "output_type": "stream",
     "text": [
      "('A', [1, 2, 3, 4])\n"
     ]
    }
   ],
   "source": [
    "t = ('A', [1, 2, 3])\n",
    "t[1].append(4)\n",
    "print(t)"
   ]
  },
  {
   "cell_type": "markdown",
   "metadata": {
    "slideshow": {
     "slide_type": "slide"
    }
   },
   "source": [
    "#### Named tuples\n",
    "\n",
    "Named tuples assign meaning to each position in a tuple and allow for more readable, self-documenting code. See [here](https://docs.python.org/3/library/collections.html#collections.namedtuple)"
   ]
  },
  {
   "cell_type": "code",
   "execution_count": 47,
   "metadata": {
    "slideshow": {
     "slide_type": "fragment"
    }
   },
   "outputs": [
    {
     "data": {
      "text/plain": [
       "'Joe'"
      ]
     },
     "execution_count": 47,
     "metadata": {},
     "output_type": "execute_result"
    }
   ],
   "source": [
    "from collections import namedtuple\n",
    "\n",
    "\n",
    "Player = namedtuple('Player', ['name', 'score'])\n",
    "p = Player('Joe', score=0)\n",
    "p.name"
   ]
  },
  {
   "cell_type": "code",
   "execution_count": 48,
   "metadata": {
    "slideshow": {
     "slide_type": "fragment"
    }
   },
   "outputs": [
    {
     "name": "stdout",
     "output_type": "stream",
     "text": [
      "Error: can't set attribute\n"
     ]
    }
   ],
   "source": [
    "try:\n",
    "    p.name = 'John'\n",
    "except AttributeError as e:\n",
    "    print(\"Error:\", e)"
   ]
  },
  {
   "cell_type": "markdown",
   "metadata": {
    "slideshow": {
     "slide_type": "slide"
    }
   },
   "source": [
    "### Dictionaries\n",
    "\n",
    "A _dictionary_, (essentially, a _hash table_, aka. a _map_) in an __unordered__ collection of key-value pairs. \n",
    "\n",
    "A dictionary in Python contains key-value pairs enclosed in curly braces, like so:\n",
    "\n",
    "{ $key_{1}$: $value_{1}$, $key_{2}$: $value_{2}$, ... }\n",
    "\n",
    "* Keys must be immutable.\n",
    "* Keys must be unique.\n",
    "* Multiple keys can have the same value.\n",
    "\n",
    "As with lists, it is best practice for keys and values to have the same type. \n",
    "\n",
    "Let's create an empty dictionary and populate it with string-integer pairs."
   ]
  },
  {
   "cell_type": "code",
   "execution_count": 160,
   "metadata": {
    "slideshow": {
     "slide_type": "subslide"
    }
   },
   "outputs": [
    {
     "name": "stdout",
     "output_type": "stream",
     "text": [
      "{'A': 73, 'B': 65, 'C': 84}\n"
     ]
    }
   ],
   "source": [
    "ht = {}\n",
    "# Adding a new key-value pair is simple\n",
    "ht[\"A\"] = 72\n",
    "ht[\"B\"] = 65\n",
    "ht[\"C\"] = 84\n",
    "# But, be careful! If the key exists, \n",
    "# the value is updated\n",
    "ht[\"A\"] = 73\n",
    "print(ht)"
   ]
  },
  {
   "cell_type": "markdown",
   "metadata": {
    "slideshow": {
     "slide_type": "slide"
    }
   },
   "source": [
    "We can iterate over the items of a dictionary, or just its keys, or just its values."
   ]
  },
  {
   "cell_type": "code",
   "execution_count": 50,
   "metadata": {
    "slideshow": {
     "slide_type": "fragment"
    }
   },
   "outputs": [
    {
     "name": "stdout",
     "output_type": "stream",
     "text": [
      "A: 73\n",
      "B: 65\n",
      "C: 84\n"
     ]
    }
   ],
   "source": [
    "# items() returns key-value pairs as tuples\n",
    "for k, v in ht.items():\n",
    "    print(\"{}: {}\".format(k, v))"
   ]
  },
  {
   "cell_type": "code",
   "execution_count": 51,
   "metadata": {
    "slideshow": {
     "slide_type": "subslide"
    }
   },
   "outputs": [
    {
     "name": "stdout",
     "output_type": "stream",
     "text": [
      "A B C "
     ]
    }
   ],
   "source": [
    "for k in ht.keys():\n",
    "    print(k, end=\" \")"
   ]
  },
  {
   "cell_type": "code",
   "execution_count": 52,
   "metadata": {
    "slideshow": {
     "slide_type": "subslide"
    }
   },
   "outputs": [
    {
     "name": "stdout",
     "output_type": "stream",
     "text": [
      "73 65 84 "
     ]
    }
   ],
   "source": [
    "for v in ht.values():\n",
    "    print(v, end=\" \")"
   ]
  },
  {
   "cell_type": "markdown",
   "metadata": {
    "slideshow": {
     "slide_type": "fragment"
    }
   },
   "source": [
    "## Functions\n",
    "\n",
    "Function definitions begin with the __`def`__ keyword, followed by the function name, a set of parentheses enclosing the function's arguments (`(*args, **kwargs)`), and a colon (`:`). \n",
    "\n",
    "The first word of a function name __must__ be lower-case. The most Pythonic way to naming functions is to use underscores to separate words:\n",
    "\n",
    "```python\n",
    ">>> take_five(x)\n",
    "```\n",
    "\n",
    "Other, less common naming conventions are:\n",
    "\n",
    "```python\n",
    ">>> takeFive(x)\n",
    ">>> takefive(x)\n",
    "```"
   ]
  },
  {
   "cell_type": "markdown",
   "metadata": {
    "slideshow": {
     "slide_type": "slide"
    }
   },
   "source": [
    "A __function signature__ looks like this:\n",
    "\n",
    "```python\n",
    "def fn(*args, **kwargs):\n",
    "    \"\"\"Function description (aka. doc-string)\"\"\"\n",
    "    # Function block (or body)\n",
    "    return statement\n",
    "```\n",
    "\n",
    "A __very important part__ of a function definition is the _doc-string_, since it describes the programmer's indent."
   ]
  },
  {
   "cell_type": "code",
   "execution_count": 162,
   "metadata": {
    "slideshow": {
     "slide_type": "subslide"
    }
   },
   "outputs": [
    {
     "data": {
      "text/plain": [
       "5"
      ]
     },
     "execution_count": 162,
     "metadata": {},
     "output_type": "execute_result"
    }
   ],
   "source": [
    "def take_five(x):\n",
    "    \"\"\"\n",
    "    Substracts 5 from an integer.\n",
    "    \"\"\"\n",
    "    assert isinstance(x, int)\n",
    "    return x - 5\n",
    "\n",
    "\n",
    "take_five(10)"
   ]
  },
  {
   "cell_type": "markdown",
   "metadata": {
    "slideshow": {
     "slide_type": "slide"
    }
   },
   "source": [
    "### Function arguments\n",
    "\n",
    "There are two types of function arguments, __positional__ and __keyword__ arguments (in that order). When calling the function, an ommited keyword argument takes automatically its default value."
   ]
  },
  {
   "cell_type": "code",
   "execution_count": 164,
   "metadata": {
    "slideshow": {
     "slide_type": "fragment"
    }
   },
   "outputs": [
    {
     "data": {
      "text/plain": [
       "True"
      ]
     },
     "execution_count": 164,
     "metadata": {},
     "output_type": "execute_result"
    }
   ],
   "source": [
    "def substract(x, y=5):\n",
    "    \"\"\"\n",
    "    Computes x - y, where x and y are integers.\n",
    "    \"\"\"\n",
    "    assert isinstance(x, int) and isinstance(y, int)\n",
    "    return x - y\n",
    "\n",
    "\n",
    "substract(5) == take_five(5)"
   ]
  },
  {
   "cell_type": "code",
   "execution_count": null,
   "metadata": {},
   "outputs": [],
   "source": []
  }
 ],
 "metadata": {
  "celltoolbar": "Slideshow",
  "kernelspec": {
   "display_name": "Python 3 (ipykernel)",
   "language": "python",
   "name": "python3"
  },
  "language_info": {
   "codemirror_mode": {
    "name": "ipython",
    "version": 3
   },
   "file_extension": ".py",
   "mimetype": "text/x-python",
   "name": "python",
   "nbconvert_exporter": "python",
   "pygments_lexer": "ipython3",
   "version": "3.12.2"
  }
 },
 "nbformat": 4,
 "nbformat_minor": 4
}
