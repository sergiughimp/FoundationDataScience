{
 "cells": [
  {
   "cell_type": "markdown",
   "metadata": {},
   "source": [
    "# Week 1 - Program Design in Python\n",
    "\n",
    "## Lab Session\n",
    "\n",
    "__Name__: _Your full name_\n",
    "\n",
    "__Date__: _dd/mm/yyyy_"
   ]
  },
  {
   "cell_type": "markdown",
   "metadata": {},
   "source": [
    "## Exercise 1\n",
    "\n",
    "Write a program that converts an assignment's rubric into a grade, based on the grade scale of the course. Level 4 and Level 7 student rubrics must be converted based on the Level 4 and Level 7 grade scale, respectively. Your program should return both the numerical and text grade (e.g. `(68, '2:1')` or `(68, 'High Merit')`).\n",
    "\n",
    "### Assumptions\n",
    "\n",
    "1. There are one or more assessment criteria (e.g. _correctness_, _visualisation_ and so on).\n",
    "2. Each criterion has a maximum score (e.g. 20 for _correctness_, 10 for _visualisation_ and so on).\n",
    "3. Scores are non-negative integers (i.e., 0, 1, 2 and so on, until maximum).\n",
    "4. The scores of all criteria sum up to 100.\n",
    "\n",
    "| Criterion | Score |\n",
    "| :-------- | ----: |\n",
    "| C.1.1 |        10 |\n",
    "| C.1.2 |        20 |\n",
    "| C.2.0 |        30 |\n",
    "| C.3.0 |        40 |\n",
    "\n",
    "5. A student is characterised by full name (name surname), student id, and level.\n",
    "\n",
    "| Name           |  Id  | Level | C.1.1 | C.1.2 | C.2.0 | C.3.0 |\n",
    "| :--------------|:----:|:-----:|-----: |-----: |-----: |-----:|\n",
    "| Michael Jackson | A123 |   4   |    10 |    17 |    25 |    30 |\n",
    "\n",
    "For example, Michael has scored 82 out of 100. The closest grade in the L4 scale is 80. Your program should return both the numerical and text grade, e.g. `(80, '1st')`."
   ]
  },
  {
   "cell_type": "code",
   "execution_count": 1,
   "metadata": {},
   "outputs": [
    {
     "name": "stdout",
     "output_type": "stream",
     "text": [
      "None\n"
     ]
    }
   ],
   "source": [
    "def convertGrade(student, rubric):\n",
    "    result = None\n",
    "    # Implement Your solution here\n",
    "    return result\n",
    "\n",
    "\n",
    "criteria = [30, 20, 30, 40]\n",
    "student = ['Michael Jackson', '1234', '4', 10, 15, 25, 30]\n",
    "result = convertGrade(student, criteria)\n",
    "print(result)\n"
   ]
  },
  {
   "cell_type": "markdown",
   "metadata": {},
   "source": [
    "__Exercise 1B.__ What modifications are required if we relax assumption 4?\n",
    "\n",
    "__Exercice 1C.__ What if criteria scores are negative numbers, counting against the overall mark?"
   ]
  },
  {
   "cell_type": "markdown",
   "metadata": {},
   "source": [
    "## Exercise 2\n",
    "\n",
    "Reuse the above program to convert to mark multiple students, not just one. Student records are stored in a file.\n",
    "\n",
    "| Name                                                       |  Id  | Level | C.1.1 | C.1.2 | C.2.0 | C.3.0 |\n",
    "| :----------------------------------------------------------|:----:|:-----:|------:|------:|------:|------:|\n",
    "| Michael Jackson                                             | A123 |   4   |    10 |    17 |    25 |    30 |\n",
    "| Will Smith                                                 | A124 |   7   |     8 |    19 |    25 |    35 |\n",
    "| [Ada Lovelace](https://en.wikipedia.org/wiki/Ada_Lovelace) | B127 |   7   |    10 |    20 |    30 |    40 |\n",
    "\n",
    "Plot results, in descenting order - student name on the $y$-axis, numerical mark on the $x$-axis."
   ]
  },
  {
   "cell_type": "code",
   "execution_count": 3,
   "metadata": {},
   "outputs": [
    {
     "name": "stdout",
     "output_type": "stream",
     "text": [
      "Ada Lovelace    100 or Highest distinction\n",
      "Will Smith       85 or Very high distinction\n",
      "Michael Jackson  80 or 1st\n"
     ]
    }
   ],
   "source": [
    "def convertAllGrades(filename, rubric):\n",
    "    results = None\n",
    "    # Implement Your solution here\n",
    "    return results\n",
    "\n",
    "\n",
    "def summary(results, k=None):\n",
    "    \"\"\"\n",
    "    It prints the top-K performing students.\n",
    "    \"\"\"\n",
    "    # Try coding something like the following\n",
    "    fmt = \"{:15s} {:3d} or {}\"\n",
    "    print(fmt.format(\"Ada Lovelace\",  100, 'Highest distinction'))\n",
    "    print(fmt.format(\"Will Smith\",     85, 'Very high distinction'))\n",
    "    print(fmt.format(\"Michael Jackson\", 80, '1st'))\n",
    "\n",
    "\n",
    "criteria = [25, 25, 25, 25]\n",
    "filename = 'grades.csv'\n",
    "results = convertAllGrades(filename, criteria)\n",
    "summary(results)\n"
   ]
  },
  {
   "cell_type": "markdown",
   "metadata": {},
   "source": [
    "## Exercise 2B\n",
    "\n",
    "How many students got a mark between 72-100, 62-68, 52-58, 0-48? Do some research on how to Plot a histogram. (<i class=\"fa fa-coffee\"></i>)\n",
    "\n",
    "\n",
    "\n",
    "## Exercise 2C\n",
    "\n",
    "How well did students perform per grading criterion? (<i class=\"fa fa-coffee\"></i><i class=\"fa fa-coffee\"></i>)"
   ]
  },
  {
   "cell_type": "code",
   "execution_count": null,
   "metadata": {},
   "outputs": [],
   "source": []
  },
  {
   "cell_type": "code",
   "execution_count": null,
   "metadata": {},
   "outputs": [],
   "source": []
  }
 ],
 "metadata": {
  "kernelspec": {
   "display_name": "Python 3 (ipykernel)",
   "language": "python",
   "name": "python3"
  },
  "language_info": {
   "codemirror_mode": {
    "name": "ipython",
    "version": 3
   },
   "file_extension": ".py",
   "mimetype": "text/x-python",
   "name": "python",
   "nbconvert_exporter": "python",
   "pygments_lexer": "ipython3",
   "version": "3.12.2"
  }
 },
 "nbformat": 4,
 "nbformat_minor": 4
}
