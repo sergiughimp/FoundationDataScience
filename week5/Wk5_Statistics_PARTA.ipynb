{
 "cells": [
  {
   "cell_type": "markdown",
   "metadata": {
    "slideshow": {
     "slide_type": "slide"
    }
   },
   "source": [
    "# Week 5 - Statistics 2: Hypothesis testing\n",
    "\n",
    "## Hands-on Practice\n"
   ]
  },
  {
   "cell_type": "markdown",
   "metadata": {
    "slideshow": {
     "slide_type": "slide"
    }
   },
   "source": [
    "## 6.  $t$-tests"
   ]
  },
  {
   "cell_type": "markdown",
   "metadata": {
    "slideshow": {
     "slide_type": "slide"
    }
   },
   "source": [
    "### Notice: SciPy\n",
    "\n",
    "SciPy is a Python library dedicated to scientific computing. It contains a sub-module, `stats` with functions to perform common statistical tests in data analysis."
   ]
  },
  {
   "cell_type": "code",
   "execution_count": 23,
   "metadata": {
    "slideshow": {
     "slide_type": "fragment"
    }
   },
   "outputs": [],
   "source": [
    "from scipy import stats\n",
    "import pandas as pd\n",
    "import matplotlib.pyplot as plt"
   ]
  },
  {
   "cell_type": "markdown",
   "metadata": {
    "slideshow": {
     "slide_type": "slide"
    }
   },
   "source": [
    "## 6.1. $t$-tests: independent samples\n",
    "\n",
    "Suppose that we have two __independent samples__ $X$ and $Y$ from two __normal distributions__ with __equal variances__.\n",
    "\n",
    "We are interested in:\n",
    "\n",
    "\\begin{equation}\n",
    "H_0: \\mu_X = \\mu_Y\n",
    "\\end{equation}\n",
    "\n",
    "The alternative hypothesis $H_1$ can be $\\mu_X \\neq \\mu_Y$, or $\\mu_X < \\mu_Y$, or $\\mu_X > \\mu_Y$.\n",
    "\n",
    "Examples include:\n",
    "\n",
    "* Male or female students have different marks\n",
    "\n",
    "* Two independent research labs have found similar results"
   ]
  },
  {
   "cell_type": "markdown",
   "metadata": {
    "slideshow": {
     "slide_type": "subslide"
    }
   },
   "source": [
    "__Note.__ Population variances are generally not known, so there is no way of being 100% sure whether variances are equal or not. We'll need to make some assumptions about the equality of the variances.\n",
    "\n",
    "\n",
    "\n",
    "\n",
    "__Example data__"
   ]
  },
  {
   "cell_type": "code",
   "execution_count": 9,
   "metadata": {
    "slideshow": {
     "slide_type": "fragment"
    }
   },
   "outputs": [
    {
     "data": {
      "text/html": [
       "<div>\n",
       "<style scoped>\n",
       "    .dataframe tbody tr th:only-of-type {\n",
       "        vertical-align: middle;\n",
       "    }\n",
       "\n",
       "    .dataframe tbody tr th {\n",
       "        vertical-align: top;\n",
       "    }\n",
       "\n",
       "    .dataframe thead th {\n",
       "        text-align: right;\n",
       "    }\n",
       "</style>\n",
       "<table border=\"1\" class=\"dataframe\">\n",
       "  <thead>\n",
       "    <tr style=\"text-align: right;\">\n",
       "      <th></th>\n",
       "      <th>identifier</th>\n",
       "      <th>group</th>\n",
       "      <th>value</th>\n",
       "    </tr>\n",
       "  </thead>\n",
       "  <tbody>\n",
       "    <tr>\n",
       "      <th>0</th>\n",
       "      <td>P01</td>\n",
       "      <td>G1</td>\n",
       "      <td>17</td>\n",
       "    </tr>\n",
       "    <tr>\n",
       "      <th>1</th>\n",
       "      <td>P02</td>\n",
       "      <td>G1</td>\n",
       "      <td>18</td>\n",
       "    </tr>\n",
       "    <tr>\n",
       "      <th>2</th>\n",
       "      <td>P03</td>\n",
       "      <td>G1</td>\n",
       "      <td>20</td>\n",
       "    </tr>\n",
       "    <tr>\n",
       "      <th>3</th>\n",
       "      <td>P04</td>\n",
       "      <td>G1</td>\n",
       "      <td>22</td>\n",
       "    </tr>\n",
       "    <tr>\n",
       "      <th>4</th>\n",
       "      <td>P05</td>\n",
       "      <td>G2</td>\n",
       "      <td>16</td>\n",
       "    </tr>\n",
       "  </tbody>\n",
       "</table>\n",
       "</div>"
      ],
      "text/plain": [
       "  identifier group  value\n",
       "0        P01    G1     17\n",
       "1        P02    G1     18\n",
       "2        P03    G1     20\n",
       "3        P04    G1     22\n",
       "4        P05    G2     16"
      ]
     },
     "execution_count": 9,
     "metadata": {},
     "output_type": "execute_result"
    }
   ],
   "source": [
    "data = pd.read_csv(\"independent-samples.csv\")\n",
    "data.head(5)"
   ]
  },
  {
   "cell_type": "markdown",
   "metadata": {
    "slideshow": {
     "slide_type": "slide"
    }
   },
   "source": [
    "Let's compute the mean and variance of the two populations, groups `G1` and `G2`."
   ]
  },
  {
   "cell_type": "code",
   "execution_count": 11,
   "metadata": {
    "slideshow": {
     "slide_type": "fragment"
    }
   },
   "outputs": [
    {
     "name": "stdout",
     "output_type": "stream",
     "text": [
      "       mean       std\n",
      "group                \n",
      "G1     21.1  2.174009\n",
      "G2     15.6  1.788854\n"
     ]
    },
    {
     "data": {
      "text/html": [
       "<div>\n",
       "<style scoped>\n",
       "    .dataframe tbody tr th:only-of-type {\n",
       "        vertical-align: middle;\n",
       "    }\n",
       "\n",
       "    .dataframe tbody tr th {\n",
       "        vertical-align: top;\n",
       "    }\n",
       "\n",
       "    .dataframe thead th {\n",
       "        text-align: right;\n",
       "    }\n",
       "</style>\n",
       "<table border=\"1\" class=\"dataframe\">\n",
       "  <thead>\n",
       "    <tr style=\"text-align: right;\">\n",
       "      <th></th>\n",
       "      <th>group</th>\n",
       "      <th>mean</th>\n",
       "      <th>std</th>\n",
       "    </tr>\n",
       "  </thead>\n",
       "  <tbody>\n",
       "    <tr>\n",
       "      <th>0</th>\n",
       "      <td>G1</td>\n",
       "      <td>21.1</td>\n",
       "      <td>2.17</td>\n",
       "    </tr>\n",
       "    <tr>\n",
       "      <th>1</th>\n",
       "      <td>G2</td>\n",
       "      <td>15.6</td>\n",
       "      <td>1.79</td>\n",
       "    </tr>\n",
       "  </tbody>\n",
       "</table>\n",
       "</div>"
      ],
      "text/plain": [
       "  group  mean   std\n",
       "0    G1  21.1  2.17\n",
       "1    G2  15.6  1.79"
      ]
     },
     "execution_count": 11,
     "metadata": {},
     "output_type": "execute_result"
    }
   ],
   "source": [
    "summary = data.groupby(['group'])\n",
    "summary.first()\n",
    "new_data = summary.value.agg(['mean', 'std'])\n",
    "print(new_data)\n",
    "\n",
    "new_data.reset_index(inplace=True)\n",
    "new_data.round(2)\n"
   ]
  },
  {
   "cell_type": "code",
   "execution_count": 15,
   "metadata": {},
   "outputs": [
    {
     "name": "stdout",
     "output_type": "stream",
     "text": [
      "     survived  pclass     sex   age  sibsp  parch     fare embarked   class  \\\n",
      "0           0       3    male  22.0      1      0   7.2500        S   Third   \n",
      "1           1       1  female  38.0      1      0  71.2833        C   First   \n",
      "2           1       3  female  26.0      0      0   7.9250        S   Third   \n",
      "3           1       1  female  35.0      1      0  53.1000        S   First   \n",
      "4           0       3    male  35.0      0      0   8.0500        S   Third   \n",
      "..        ...     ...     ...   ...    ...    ...      ...      ...     ...   \n",
      "886         0       2    male  27.0      0      0  13.0000        S  Second   \n",
      "887         1       1  female  19.0      0      0  30.0000        S   First   \n",
      "888         0       3  female   NaN      1      2  23.4500        S   Third   \n",
      "889         1       1    male  26.0      0      0  30.0000        C   First   \n",
      "890         0       3    male  32.0      0      0   7.7500        Q   Third   \n",
      "\n",
      "       who  adult_male deck  embark_town alive  alone  \n",
      "0      man        True  NaN  Southampton    no  False  \n",
      "1    woman       False    C    Cherbourg   yes  False  \n",
      "2    woman       False  NaN  Southampton   yes   True  \n",
      "3    woman       False    C  Southampton   yes  False  \n",
      "4      man        True  NaN  Southampton    no   True  \n",
      "..     ...         ...  ...          ...   ...    ...  \n",
      "886    man        True  NaN  Southampton    no   True  \n",
      "887  woman       False    B  Southampton   yes   True  \n",
      "888  woman       False  NaN  Southampton    no  False  \n",
      "889    man        True    C    Cherbourg   yes   True  \n",
      "890    man        True  NaN   Queenstown    no   True  \n",
      "\n",
      "[891 rows x 15 columns]\n"
     ]
    },
    {
     "data": {
      "text/plain": [
       "sum     28693.949300\n",
       "mean       32.204208\n",
       "Name: fare, dtype: float64"
      ]
     },
     "execution_count": 15,
     "metadata": {},
     "output_type": "execute_result"
    }
   ],
   "source": [
    "# Another example on using function agg()\n",
    "\n",
    "import pandas as pd\n",
    "import seaborn as sns\n",
    "\n",
    "df = sns.load_dataset('titanic')\n",
    "print(df)\n",
    "\n",
    "df['fare'].agg(['sum', 'mean'])"
   ]
  },
  {
   "cell_type": "code",
   "execution_count": 25,
   "metadata": {},
   "outputs": [
    {
     "data": {
      "text/html": [
       "<div>\n",
       "<style scoped>\n",
       "    .dataframe tbody tr th:only-of-type {\n",
       "        vertical-align: middle;\n",
       "    }\n",
       "\n",
       "    .dataframe tbody tr th {\n",
       "        vertical-align: top;\n",
       "    }\n",
       "\n",
       "    .dataframe thead th {\n",
       "        text-align: right;\n",
       "    }\n",
       "</style>\n",
       "<table border=\"1\" class=\"dataframe\">\n",
       "  <thead>\n",
       "    <tr style=\"text-align: right;\">\n",
       "      <th>survived</th>\n",
       "      <th>0</th>\n",
       "      <th>1</th>\n",
       "    </tr>\n",
       "    <tr>\n",
       "      <th>pclass</th>\n",
       "      <th></th>\n",
       "      <th></th>\n",
       "    </tr>\n",
       "  </thead>\n",
       "  <tbody>\n",
       "    <tr>\n",
       "      <th>1</th>\n",
       "      <td>37.037037</td>\n",
       "      <td>62.962963</td>\n",
       "    </tr>\n",
       "    <tr>\n",
       "      <th>2</th>\n",
       "      <td>52.717391</td>\n",
       "      <td>47.282609</td>\n",
       "    </tr>\n",
       "    <tr>\n",
       "      <th>3</th>\n",
       "      <td>75.763747</td>\n",
       "      <td>24.236253</td>\n",
       "    </tr>\n",
       "  </tbody>\n",
       "</table>\n",
       "</div>"
      ],
      "text/plain": [
       "survived          0          1\n",
       "pclass                        \n",
       "1         37.037037  62.962963\n",
       "2         52.717391  47.282609\n",
       "3         75.763747  24.236253"
      ]
     },
     "execution_count": 25,
     "metadata": {},
     "output_type": "execute_result"
    }
   ],
   "source": [
    "pd.crosstab(df['pclass'], df['survived'], normalize='index') * 100\n"
   ]
  },
  {
   "cell_type": "markdown",
   "metadata": {
    "slideshow": {
     "slide_type": "subslide"
    }
   },
   "source": [
    "Let's visualise the summary statistics:"
   ]
  },
  {
   "cell_type": "code",
   "execution_count": 27,
   "metadata": {
    "slideshow": {
     "slide_type": "fragment"
    }
   },
   "outputs": [
    {
     "data": {
      "image/png": "[encoded data removed]",
      "text/plain": [
       "<Figure size 400x500 with 1 Axes>"
      ]
     },
     "metadata": {},
     "output_type": "display_data"
    }
   ],
   "source": [
    "_, ax = plt.subplots()\n",
    "\n",
    "new_data.plot.bar(x='group', \n",
    "                 y='mean',\n",
    "                 yerr='std',\n",
    "                 capsize=3,\n",
    "                 color=[\"#B7BF35\", \"#3B5B72\"],\n",
    "                 legend=False,\n",
    "                 ylim=[0, 25],\n",
    "                 xlabel='Groups',\n",
    "                 ylabel='Mean value',\n",
    "                 width=0.5,\n",
    "                 figsize=(4, 5),\n",
    "                 ax=ax,\n",
    "                 rot=0);"
   ]
  },
  {
   "cell_type": "markdown",
   "metadata": {
    "slideshow": {
     "slide_type": "slide"
    }
   },
   "source": [
    "### 6.2. ___t-test___ in Python\n",
    "\n",
    "The `stats.ttest_ind()` function accepts two sequence-like objects (list, Series, etc.) corresponding to the distribution of values in each object.\n",
    "\n",
    "The function returns a tuple of the calculated $t$-statistic and the associated $p$-value.\n",
    "\n",
    "From the documentation:\n",
    "\n",
    "> \"Calculate the $t$-test for the means of __two independent__ samples of scores.\n",
    ">\n",
    "> This is a two-sided test for the null hypothesis that 2 independent samples\n",
    "have identical average (expected) values. This test assumes that the\n",
    "populations have identical variances by default.\""
   ]
  },
  {
   "cell_type": "code",
   "execution_count": 29,
   "metadata": {
    "slideshow": {
     "slide_type": "fragment"
    }
   },
   "outputs": [],
   "source": [
    "G1 = data[data.group == 'G1']['value']\n",
    "G2 = data[data.group == 'G2']['value']\n",
    "\n",
    "T, p = stats.ttest_ind(G1, G2)"
   ]
  },
  {
   "cell_type": "markdown",
   "metadata": {
    "slideshow": {
     "slide_type": "fragment"
    }
   },
   "source": [
    "The `ttest_ind()` function does not provide the degrees of freedom value. But we can calculate it:\n",
    "\n",
    "$df_{1} = n_{G_1} + n_{G_2} - 2$"
   ]
  },
  {
   "cell_type": "code",
   "execution_count": 31,
   "metadata": {
    "slideshow": {
     "slide_type": "fragment"
    }
   },
   "outputs": [],
   "source": [
    "deg = len(G1) + len(G2) - 2"
   ]
  },
  {
   "cell_type": "code",
   "execution_count": 33,
   "metadata": {
    "slideshow": {
     "slide_type": "fragment"
    }
   },
   "outputs": [
    {
     "name": "stdout",
     "output_type": "stream",
     "text": [
      "t(38) = 8.74, p = 0.000\n"
     ]
    }
   ],
   "source": [
    "print(\"t(%d) = %.2f, p = %.3f\" % (deg, T, p))"
   ]
  },
  {
   "cell_type": "markdown",
   "metadata": {
    "slideshow": {
     "slide_type": "slide"
    }
   },
   "source": [
    "### 6.3. Assumption of equality of variances\n",
    "\n",
    "The Levene's test is a statistic to assess the equality of variances of two or more groups. If the resulting $p$-value is significant (below a threshold), then it is best to use _Welch's t-test_.\n",
    "\n",
    "__Note.__ The $p$-value is the area under the curve of chi-squared distribution."
   ]
  },
  {
   "cell_type": "code",
   "execution_count": 35,
   "metadata": {
    "slideshow": {
     "slide_type": "fragment"
    }
   },
   "outputs": [
    {
     "name": "stdout",
     "output_type": "stream",
     "text": [
      "statistic = 0.93, p = 0.341\n"
     ]
    }
   ],
   "source": [
    "statistic, p = stats.levene(G1, G2)\n",
    "print(\"statistic = %.2f, p = %.3f\" % (statistic, p))"
   ]
  },
  {
   "cell_type": "markdown",
   "metadata": {
    "slideshow": {
     "slide_type": "slide"
    }
   },
   "source": [
    "### 6.4. Assumption of normality\n",
    "\n",
    "We can use the Shapiro-Wilk test to test the null hypothesis that the data was drawn from a normal distribution."
   ]
  },
  {
   "cell_type": "code",
   "execution_count": 37,
   "metadata": {
    "slideshow": {
     "slide_type": "fragment"
    }
   },
   "outputs": [
    {
     "name": "stdout",
     "output_type": "stream",
     "text": [
      "statistic = 0.96, p = 0.209\n"
     ]
    }
   ],
   "source": [
    "statistic, p = stats.shapiro(data[\"value\"])\n",
    "print(\"statistic = %.2f, p = %.3f\" % (statistic, p))"
   ]
  },
  {
   "cell_type": "markdown",
   "metadata": {
    "slideshow": {
     "slide_type": "slide"
    }
   },
   "source": [
    "## 7. $t$-tests: Paired samples\n",
    "\n",
    "In some occasions, we are interested in comparing the means of two __dependent__ populations, $X$ and $Y$.\n",
    "\n",
    "Examples include:\n",
    "\n",
    "* The mean IQ of first and second-born twins\n",
    "\n",
    "* Blood tests performed by two labs\n",
    "\n",
    "We are interested in determining if:\n",
    "\n",
    "\\begin{equation}\n",
    "\\mu_X = \\mu_Y\n",
    "\\end{equation}\n",
    "\n",
    "or, equivalently, if:\n",
    "\n",
    "\\begin{equation}\n",
    "\\mu_X - \\mu_Y = 0\n",
    "\\end{equation}\n",
    "\n",
    "So, we consider the independent measurements $D_i = X_i - Y_i$ and test the hypothesis:\n",
    "\n",
    "\\begin{equation}\n",
    "H_0: \\mu_D = \\mu_X - \\mu_Y = 0\n",
    "\\end{equation}"
   ]
  },
  {
   "cell_type": "markdown",
   "metadata": {
    "slideshow": {
     "slide_type": "slide"
    }
   },
   "source": [
    "#### Example data"
   ]
  },
  {
   "cell_type": "code",
   "execution_count": 41,
   "metadata": {
    "slideshow": {
     "slide_type": "fragment"
    }
   },
   "outputs": [
    {
     "data": {
      "text/html": [
       "<div>\n",
       "<style scoped>\n",
       "    .dataframe tbody tr th:only-of-type {\n",
       "        vertical-align: middle;\n",
       "    }\n",
       "\n",
       "    .dataframe tbody tr th {\n",
       "        vertical-align: top;\n",
       "    }\n",
       "\n",
       "    .dataframe thead th {\n",
       "        text-align: right;\n",
       "    }\n",
       "</style>\n",
       "<table border=\"1\" class=\"dataframe\">\n",
       "  <thead>\n",
       "    <tr style=\"text-align: right;\">\n",
       "      <th></th>\n",
       "      <th>identifier</th>\n",
       "      <th>G1</th>\n",
       "      <th>G2</th>\n",
       "    </tr>\n",
       "  </thead>\n",
       "  <tbody>\n",
       "    <tr>\n",
       "      <th>0</th>\n",
       "      <td>P01</td>\n",
       "      <td>17</td>\n",
       "      <td>16</td>\n",
       "    </tr>\n",
       "    <tr>\n",
       "      <th>1</th>\n",
       "      <td>P02</td>\n",
       "      <td>18</td>\n",
       "      <td>12</td>\n",
       "    </tr>\n",
       "    <tr>\n",
       "      <th>2</th>\n",
       "      <td>P03</td>\n",
       "      <td>20</td>\n",
       "      <td>14</td>\n",
       "    </tr>\n",
       "    <tr>\n",
       "      <th>3</th>\n",
       "      <td>P04</td>\n",
       "      <td>22</td>\n",
       "      <td>17</td>\n",
       "    </tr>\n",
       "    <tr>\n",
       "      <th>4</th>\n",
       "      <td>P05</td>\n",
       "      <td>22</td>\n",
       "      <td>19</td>\n",
       "    </tr>\n",
       "  </tbody>\n",
       "</table>\n",
       "</div>"
      ],
      "text/plain": [
       "  identifier  G1  G2\n",
       "0        P01  17  16\n",
       "1        P02  18  12\n",
       "2        P03  20  14\n",
       "3        P04  22  17\n",
       "4        P05  22  19"
      ]
     },
     "execution_count": 41,
     "metadata": {},
     "output_type": "execute_result"
    }
   ],
   "source": [
    "data2 = pd.read_csv(\"paired-samples.csv\")\n",
    "data2.head()"
   ]
  },
  {
   "cell_type": "markdown",
   "metadata": {
    "slideshow": {
     "slide_type": "slide"
    }
   },
   "source": [
    "Let's compute the mean and variance of the two populations, groups `G1` and `G2`."
   ]
  },
  {
   "cell_type": "code",
   "execution_count": 43,
   "metadata": {
    "slideshow": {
     "slide_type": "fragment"
    }
   },
   "outputs": [
    {
     "name": "stdout",
     "output_type": "stream",
     "text": [
      "G1 analysis\n",
      "===========\n"
     ]
    },
    {
     "data": {
      "text/plain": [
       "count    20.00\n",
       "mean     21.10\n",
       "std       2.17\n",
       "Name: G1, dtype: float64"
      ]
     },
     "execution_count": 43,
     "metadata": {},
     "output_type": "execute_result"
    }
   ],
   "source": [
    "#new_data1_G1 = {[data2.G1] [data2.G2]}\n",
    "#new_data1_G1.reset_index(inplace=True)\n",
    "#print(new_data1_G1)\n",
    "\n",
    "print(\"G1 analysis\")\n",
    "print(\"===========\")\n",
    "new_data_G1 = data2.G1.agg(['count', 'mean', 'std'])\n",
    "#print(new_data_G1)\n",
    "\n",
    "new_data_G1.round(2)\n"
   ]
  },
  {
   "cell_type": "code",
   "execution_count": 45,
   "metadata": {
    "slideshow": {
     "slide_type": "fragment"
    }
   },
   "outputs": [
    {
     "name": "stdout",
     "output_type": "stream",
     "text": [
      "G2 analysis\n",
      "===========\n"
     ]
    },
    {
     "data": {
      "text/plain": [
       "count    20.00\n",
       "mean     15.60\n",
       "std       1.79\n",
       "Name: G2, dtype: float64"
      ]
     },
     "execution_count": 45,
     "metadata": {},
     "output_type": "execute_result"
    }
   ],
   "source": [
    "print(\"G2 analysis\")\n",
    "print(\"===========\")\n",
    "new_data_G2 = data2.G2.agg(['count', 'mean', 'std'])\n",
    "#print(new_data_G2)\n",
    "\n",
    "new_data_G2.round(2)"
   ]
  },
  {
   "cell_type": "markdown",
   "metadata": {
    "slideshow": {
     "slide_type": "slide"
    }
   },
   "source": [
    "### 7.1. ___t-test___ paired samples in Python\n",
    "\n",
    "The `stats.ttest_rel()` function accepts two sequence-like objects (list, Series, etc.) corresponding to the distribution of values in each object.\n",
    "\n",
    "The function returns a tuple of the calculated $t$-statistic and the associated $p$-value.\n",
    "\n",
    "From the documentation:\n",
    "\n",
    "> \"Calculate the t-test on __two related__ samples of scores, a and b. This is a two-sided test for the null hypothesis that 2 related or repeated samples have identical average (expected) values.\""
   ]
  },
  {
   "cell_type": "code",
   "execution_count": 47,
   "metadata": {
    "slideshow": {
     "slide_type": "fragment"
    }
   },
   "outputs": [],
   "source": [
    "G1 = data2['G1']\n",
    "G2 = data2['G2']\n",
    "\n",
    "T, p = stats.ttest_rel(G1, G2)"
   ]
  },
  {
   "cell_type": "markdown",
   "metadata": {
    "slideshow": {
     "slide_type": "fragment"
    }
   },
   "source": [
    "The `ttest_rel()` function does not provide the degrees of freedom value. But we can calculate it:\n",
    "\n",
    "$df = n - 1$, where $n$ is the size of each population."
   ]
  },
  {
   "cell_type": "code",
   "execution_count": 49,
   "metadata": {
    "slideshow": {
     "slide_type": "fragment"
    }
   },
   "outputs": [],
   "source": [
    "deg = len(data2) - 1"
   ]
  },
  {
   "cell_type": "markdown",
   "metadata": {
    "slideshow": {
     "slide_type": "fragment"
    }
   },
   "source": [
    "So, we can print all the computed values:"
   ]
  },
  {
   "cell_type": "code",
   "execution_count": 52,
   "metadata": {
    "slideshow": {
     "slide_type": "fragment"
    }
   },
   "outputs": [
    {
     "name": "stdout",
     "output_type": "stream",
     "text": [
      "t(19) = 9.09, p = 0.000\n"
     ]
    }
   ],
   "source": [
    "print(\"t(%d) = %.2f, p = %.3f\" % (deg, T, p))"
   ]
  },
  {
   "cell_type": "markdown",
   "metadata": {
    "slideshow": {
     "slide_type": "fragment"
    }
   },
   "source": [
    "__Note.__ The __paired $t$-test__ result is equivalent to:"
   ]
  },
  {
   "cell_type": "code",
   "execution_count": 55,
   "metadata": {
    "slideshow": {
     "slide_type": "fragment"
    }
   },
   "outputs": [
    {
     "name": "stdout",
     "output_type": "stream",
     "text": [
      "t(19) = 9.09, p = 0.000\n"
     ]
    }
   ],
   "source": [
    "D = G1 - G2\n",
    "T, p = stats.ttest_1samp(D, 0)\n",
    "print(\"t(%d) = %.2f, p = %.3f\" % (deg, T, p))"
   ]
  },
  {
   "cell_type": "markdown",
   "metadata": {
    "slideshow": {
     "slide_type": "slide"
    }
   },
   "source": [
    "### 7.2. ___t-test___ and assumption of normality\n",
    "\n",
    "We can use the Shapiro-Wilk test to test the null hypothesis that the data was drawn from a normal distribution."
   ]
  },
  {
   "cell_type": "code",
   "execution_count": 58,
   "metadata": {
    "slideshow": {
     "slide_type": "fragment"
    }
   },
   "outputs": [
    {
     "name": "stdout",
     "output_type": "stream",
     "text": [
      "statistic = 0.93, p = 0.167\n"
     ]
    }
   ],
   "source": [
    "statistic, p = stats.shapiro(D)\n",
    "print(\"statistic = %.2f, p = %.3f\" % (statistic, p))"
   ]
  },
  {
   "cell_type": "markdown",
   "metadata": {
    "slideshow": {
     "slide_type": "slide"
    }
   },
   "source": [
    "## Appendix A\n",
    "\n",
    "### A.1. Random distributions"
   ]
  },
  {
   "cell_type": "code",
   "execution_count": 64,
   "metadata": {
    "slideshow": {
     "slide_type": "fragment"
    }
   },
   "outputs": [],
   "source": [
    "import numpy as np\n",
    "np.random.seed(123456789)"
   ]
  },
  {
   "cell_type": "markdown",
   "metadata": {
    "slideshow": {
     "slide_type": "slide"
    }
   },
   "source": [
    "### A.2. Uniform distribution"
   ]
  },
  {
   "cell_type": "code",
   "execution_count": 67,
   "metadata": {
    "slideshow": {
     "slide_type": "fragment"
    }
   },
   "outputs": [
    {
     "data": {
      "image/png": "[encoded data removed]",
      "text/plain": [
       "<Figure size 640x480 with 1 Axes>"
      ]
     },
     "metadata": {},
     "output_type": "display_data"
    }
   ],
   "source": [
    "from scipy.stats import uniform\n",
    "\n",
    "\n",
    "samples = np.random.uniform(0,1,100)\n",
    "\n",
    "assert np.all(samples >= 0)\n",
    "assert np.all(samples <  1)\n",
    "\n",
    "_, ax = plt.subplots()\n",
    "\n",
    "ax.set(xlim=[-1, 2],\n",
    "       ylim=[0, 2],\n",
    "       xlabel='x',\n",
    "       ylabel='Density')\n",
    "\n",
    "ax.vlines([0, 1],\n",
    "          [0, 0],\n",
    "          [uniform.pdf(0), uniform.pdf(1)], \n",
    "          colors=['coral'],\n",
    "          linestyles=['dashed', 'dashed'])\n",
    "\n",
    "ax.plot(samples, uniform.pdf(samples));"
   ]
  },
  {
   "cell_type": "markdown",
   "metadata": {
    "slideshow": {
     "slide_type": "slide"
    }
   },
   "source": [
    "### A.3. Normal distribution"
   ]
  },
  {
   "cell_type": "code",
   "execution_count": 69,
   "metadata": {
    "slideshow": {
     "slide_type": "fragment"
    }
   },
   "outputs": [
    {
     "name": "stderr",
     "output_type": "stream",
     "text": [
      "<>:20: SyntaxWarning: invalid escape sequence '\\m'\n",
      "<>:21: SyntaxWarning: invalid escape sequence '\\m'\n",
      "<>:22: SyntaxWarning: invalid escape sequence '\\m'\n",
      "<>:20: SyntaxWarning: invalid escape sequence '\\m'\n",
      "<>:21: SyntaxWarning: invalid escape sequence '\\m'\n",
      "<>:22: SyntaxWarning: invalid escape sequence '\\m'\n",
      "/var/folders/r0/63whb4hs3bsdqdrfkkql5hb40000gn/T/ipykernel_91753/3842606027.py:20: SyntaxWarning: invalid escape sequence '\\m'\n",
      "  ax.plot(x, y1, color='coral', linewidth=2.0, linestyle='-',  label=\"$\\mu = 0, \\sigma=1$\")\n",
      "/var/folders/r0/63whb4hs3bsdqdrfkkql5hb40000gn/T/ipykernel_91753/3842606027.py:21: SyntaxWarning: invalid escape sequence '\\m'\n",
      "  ax.plot(x, y2, color='blue',  linewidth=2.0, linestyle='--', label=\"$\\mu = 0, \\sigma=2$\")\n",
      "/var/folders/r0/63whb4hs3bsdqdrfkkql5hb40000gn/T/ipykernel_91753/3842606027.py:22: SyntaxWarning: invalid escape sequence '\\m'\n",
      "  ax.plot(x, y3, color='black', linewidth=2.0, linestyle=':',  label=\"$\\mu = 2, \\sigma={}^1/{}_2$\")\n"
     ]
    },
    {
     "data": {
      "image/png": "[encoded data removed]",
      "text/plain": [
       "<Figure size 640x480 with 1 Axes>"
      ]
     },
     "metadata": {},
     "output_type": "display_data"
    }
   ],
   "source": [
    "from scipy.stats import norm\n",
    "\n",
    "\n",
    "xmin = -5.\n",
    "xmax =  5.\n",
    "\n",
    "x = np.linspace(xmin, xmax, 100)\n",
    "\n",
    "y1 = norm.pdf(x, 0.0, 1.0)\n",
    "y2 = norm.pdf(x, 0.0, 2.0)\n",
    "y3 = norm.pdf(x, 2.0, 0.5)\n",
    "\n",
    "_, ax = plt.subplots()\n",
    "\n",
    "ax.set(xlim=[-5, 5], \n",
    "       ylim=[0, 1], \n",
    "       xlabel='x', \n",
    "       ylabel='Density');\n",
    "\n",
    "ax.plot(x, y1, color='coral', linewidth=2.0, linestyle='-',  label=\"$\\mu = 0, \\sigma=1$\")\n",
    "ax.plot(x, y2, color='blue',  linewidth=2.0, linestyle='--', label=\"$\\mu = 0, \\sigma=2$\")\n",
    "ax.plot(x, y3, color='black', linewidth=2.0, linestyle=':',  label=\"$\\mu = 2, \\sigma={}^1/{}_2$\")\n",
    "\n",
    "ax.legend();\n"
   ]
  },
  {
   "cell_type": "markdown",
   "metadata": {
    "slideshow": {
     "slide_type": "slide"
    }
   },
   "source": [
    "### A.4. $t$-student distribution\n",
    "\n",
    "Some __notes__ about $t$-distributions:\n",
    "\n",
    "* $v$ is the _degrees of freedom_. As $v$ increases ($v \\rightarrow \\inf$), the $t$-distribution becomes a Gaussian.\n",
    "\n",
    "* The $t$-distribution can be interpreted as an infinite mixture of Gaussians with the same mean but different precision.\n",
    "\n",
    "* The $t$-distribution has longer tails that a Gaussian, making it more __robust__: it is not sensitive to outliers."
   ]
  },
  {
   "cell_type": "code",
   "execution_count": 71,
   "metadata": {
    "slideshow": {
     "slide_type": "fragment"
    }
   },
   "outputs": [
    {
     "data": {
      "image/png": "[encoded data removed]",
      "text/plain": [
       "<Figure size 640x480 with 1 Axes>"
      ]
     },
     "metadata": {},
     "output_type": "display_data"
    }
   ],
   "source": [
    "from scipy.stats import t\n",
    "\n",
    "xmin = -5.\n",
    "xmax =  5.\n",
    "\n",
    "x = np.linspace(xmin, xmax, 50)\n",
    "\n",
    "_, ax = plt.subplots()\n",
    "\n",
    "ax.set(xlim=[-5, 5], \n",
    "       ylim=[0, 1], \n",
    "       xlabel='x', \n",
    "       ylabel='Density')\n",
    "\n",
    "ax.plot(x, t.pdf(x,  0.1), color='black', linewidth=2.0, linestyle=':',  label=\"$v = 0.1$\")\n",
    "ax.plot(x, t.pdf(x,  1.0), color='coral', linewidth=2.0, linestyle='--', label=\"$v=1$\")\n",
    "ax.plot(x, t.pdf(x, 99.0), color='blue',  linewidth=2.0, linestyle='-',  label=\"$v=99$\")\n",
    "\n",
    "ax.legend();"
   ]
  },
  {
   "cell_type": "markdown",
   "metadata": {
    "slideshow": {
     "slide_type": "slide"
    }
   },
   "source": [
    "### A.5. $\\chi^2$ (chi-square) distribution"
   ]
  },
  {
   "cell_type": "code",
   "execution_count": 73,
   "metadata": {
    "slideshow": {
     "slide_type": "fragment"
    }
   },
   "outputs": [
    {
     "data": {
      "image/png": "[encoded data removed]",
      "text/plain": [
       "<Figure size 640x480 with 1 Axes>"
      ]
     },
     "metadata": {},
     "output_type": "display_data"
    }
   ],
   "source": [
    "from scipy.stats import chi2\n",
    "\n",
    "xmin = 0.\n",
    "xmax = 10.\n",
    "\n",
    "x = np.linspace(xmin, xmax, 1000)\n",
    "\n",
    "_, ax = plt.subplots()\n",
    "\n",
    "ax.set(xlim=[0, 10.], \n",
    "       ylim=[0, 0.5], \n",
    "       xlabel='x', \n",
    "       ylabel='Density')\n",
    "\n",
    "ax.plot(x, chi2.pdf(x,  1), color='black', linewidth=2.0, linestyle=':',  label=\"$k = 1$\")\n",
    "ax.plot(x, chi2.pdf(x,  2), color='red',   linewidth=2.0, linestyle='--', label=\"$k = 2$\")\n",
    "ax.plot(x, chi2.pdf(x,  3), color='blue',  linewidth=2.0, linestyle='-',  label=\"$k = 3$\")\n",
    "ax.plot(x, chi2.pdf(x,  4), color='green', linewidth=2.0, linestyle='-',  label=\"$k = 4$\")\n",
    "ax.plot(x, chi2.pdf(x,  9), color='coral', linewidth=2.0, linestyle='-',  label=\"$k = 9$\");"
   ]
  },
  {
   "cell_type": "code",
   "execution_count": null,
   "metadata": {},
   "outputs": [],
   "source": []
  }
 ],
 "metadata": {
  "celltoolbar": "Slideshow",
  "kernelspec": {
   "display_name": "Python 3 (ipykernel)",
   "language": "python",
   "name": "python3"
  },
  "language_info": {
   "codemirror_mode": {
    "name": "ipython",
    "version": 3
   },
   "file_extension": ".py",
   "mimetype": "text/x-python",
   "name": "python",
   "nbconvert_exporter": "python",
   "pygments_lexer": "ipython3",
   "version": "3.12.2"
  }
 },
 "nbformat": 4,
 "nbformat_minor": 4
}
