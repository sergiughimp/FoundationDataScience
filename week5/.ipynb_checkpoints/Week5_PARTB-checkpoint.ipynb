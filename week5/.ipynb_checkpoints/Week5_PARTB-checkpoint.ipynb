{
 "cells": [
  {
   "cell_type": "markdown",
   "metadata": {},
   "source": [
    "# Week 5:  Statistics\n",
    "\n",
    "\n",
    "## PARTB - Lab Session 5"
   ]
  },
  {
   "cell_type": "markdown",
   "metadata": {},
   "source": [
    "## 1. Background\n",
    "\n",
    "### 1.1. Simple guide to statistical testing\n",
    "\n",
    "We will be studying in our exercises the following:\n",
    "\n",
    "Given a random sample $\\lbrace x_i \\rbrace$ of size $n$:\n",
    "\n",
    "1) What kind of variable is $x$: _discrete_ or _continuous_?\n",
    "\n",
    "2) Is it a question of the form _\"Is the value of $x$ ...\"_?\n",
    "\n",
    "3) Are data normally distributed?\n"
   ]
  },
  {
   "cell_type": "markdown",
   "metadata": {},
   "source": [
    "### 1.2. Hypothesis tests\n",
    "\n",
    "This is a summary of hypothesis tests we have seen in the hands-on practice Jupyter notebook:\n",
    "\n",
    "1) Test for population proportions:\n",
    "\n",
    "   * `statsmodels.stats.proportion.proportions_ztest()`\n",
    "   \n",
    "\n",
    "2) Test that the mean of __one sample__ equals a population mean of unknown variance:\n",
    "\n",
    "   * `scipy.stats.ttest_1samp()`\n",
    "   \n",
    "\n",
    "3) Test that the means of __two independent samples__ are equal, assuming that populations have identical variances\n",
    "\n",
    "   * `scipy.stats.ttest_ind()`\n",
    "   \n",
    "\n",
    "4) Test that the means of __two dependent samples__ are equal, assuming that populations have identical variances\n",
    "\n",
    "   * `scipy.stats.ttest_rel()`\n",
    "   \n",
    "\n",
    "5) Test that samples are drawn from a normal distribution\n",
    "\n",
    "   * `scipy.stats.shapiro()`\n",
    "   \n",
    "\n",
    "6) Test that samples are drawn from populations with equal variances\n",
    "\n",
    "   * `scipy.stats.levene()`\n",
    "   "
   ]
  },
  {
   "cell_type": "markdown",
   "metadata": {},
   "source": [
    "## Exercises"
   ]
  },
  {
   "cell_type": "code",
   "execution_count": 4,
   "metadata": {},
   "outputs": [],
   "source": [
    "import pandas as pd\n",
    "import numpy as np\n",
    "\n",
    "from scipy import stats\n",
    "\n",
    "import matplotlib.pyplot as plt\n",
    "import seaborn as sns\n",
    "\n",
    "%matplotlib inline\n",
    "\n",
    "# Configure fonts for all subsequent plots\n",
    "plt.rc('font', **{'family':'sans-serif','sans-serif':['Arial'], 'size': 16})"
   ]
  },
  {
   "cell_type": "markdown",
   "metadata": {},
   "source": [
    "## Exercise 1\n",
    "### Rolling dice\n",
    "\n",
    "\n",
    "A die is rolled 1000 times and the following results are observed. \n",
    "\n",
    "We would expect an average of $\\frac{1}{6}$ for each value, with a standard deviation of $0.01179$.\n",
    "\n",
    "\n",
    "__Is there evidence to suggest that the die is biased?__"
   ]
  },
  {
   "cell_type": "code",
   "execution_count": 5,
   "metadata": {},
   "outputs": [
    {
     "data": {
      "text/plain": [
       "array([[  1, 179],\n",
       "       [  2, 172],\n",
       "       [  3, 158],\n",
       "       [  4, 156],\n",
       "       [  5, 166],\n",
       "       [  6, 169]], dtype=int64)"
      ]
     },
     "execution_count": 5,
     "metadata": {},
     "output_type": "execute_result"
    }
   ],
   "source": [
    "np.random.seed(123456789)\n",
    "\n",
    "results = np.random.choice([1, 2, 3, 4, 5, 6], 1000)\n",
    "\n",
    "values, counts = np.unique(results, return_counts=True)\n",
    "\n",
    "np.asarray((values, counts)).T"
   ]
  },
  {
   "cell_type": "code",
   "execution_count": 6,
   "metadata": {},
   "outputs": [
    {
     "name": "stdout",
     "output_type": "stream",
     "text": [
      "p-value is 0.309\n"
     ]
    }
   ],
   "source": [
    "# Suggested solution\n",
    "import statsmodels.stats.proportion as pr\n",
    "\n",
    "z, p = pr.proportions_ztest(179,\n",
    "                            1000,\n",
    "                            1./6.,\n",
    "                            'two-sided')\n",
    "\n",
    "print(f'p-value is {p:.3f}')"
   ]
  },
  {
   "cell_type": "markdown",
   "metadata": {},
   "source": [
    "## Exercise 2\n",
    "### ___t-test___ 1 sample\n",
    "\n",
    "The average systolic blood presume is $120$ mmHg. \n",
    "After sampling $100$ data scientists we found an average of $132.3$ with a standard deviation of $19$:"
   ]
  },
  {
   "cell_type": "code",
   "execution_count": 7,
   "metadata": {},
   "outputs": [
    {
     "name": "stdout",
     "output_type": "stream",
     "text": [
      "100 samples with mean 132.3 and standard deviation 19.0\n"
     ]
    }
   ],
   "source": [
    "np.random.seed(123456789)\n",
    "\n",
    "samples = np.random.normal(loc=130, scale=20, size=100)\n",
    "print(\"{} samples with mean {:.1f} and standard deviation {:.1f}\".format(samples.size,\n",
    "                                                                         samples.mean(),\n",
    "                                                                         samples.std()))"
   ]
  },
  {
   "cell_type": "code",
   "execution_count": 8,
   "metadata": {},
   "outputs": [],
   "source": [
    "# Your solution\n"
   ]
  },
  {
   "cell_type": "markdown",
   "metadata": {},
   "source": [
    "## Exercise 3 \n",
    "### Weight watchers\n",
    "\n",
    "We measure the weight of 9 individuals before and after they have been following a new diet for a week. "
   ]
  },
  {
   "cell_type": "code",
   "execution_count": 9,
   "metadata": {},
   "outputs": [
    {
     "data": {
      "text/html": [
       "<div>\n",
       "<style scoped>\n",
       "    .dataframe tbody tr th:only-of-type {\n",
       "        vertical-align: middle;\n",
       "    }\n",
       "\n",
       "    .dataframe tbody tr th {\n",
       "        vertical-align: top;\n",
       "    }\n",
       "\n",
       "    .dataframe thead th {\n",
       "        text-align: right;\n",
       "    }\n",
       "</style>\n",
       "<table border=\"1\" class=\"dataframe\">\n",
       "  <thead>\n",
       "    <tr style=\"text-align: right;\">\n",
       "      <th></th>\n",
       "      <th>before</th>\n",
       "      <th>after</th>\n",
       "    </tr>\n",
       "  </thead>\n",
       "  <tbody>\n",
       "    <tr>\n",
       "      <th>0</th>\n",
       "      <td>118</td>\n",
       "      <td>123</td>\n",
       "    </tr>\n",
       "    <tr>\n",
       "      <th>1</th>\n",
       "      <td>126</td>\n",
       "      <td>131</td>\n",
       "    </tr>\n",
       "    <tr>\n",
       "      <th>2</th>\n",
       "      <td>134</td>\n",
       "      <td>132</td>\n",
       "    </tr>\n",
       "    <tr>\n",
       "      <th>3</th>\n",
       "      <td>162</td>\n",
       "      <td>159</td>\n",
       "    </tr>\n",
       "    <tr>\n",
       "      <th>4</th>\n",
       "      <td>145</td>\n",
       "      <td>138</td>\n",
       "    </tr>\n",
       "    <tr>\n",
       "      <th>5</th>\n",
       "      <td>188</td>\n",
       "      <td>182</td>\n",
       "    </tr>\n",
       "    <tr>\n",
       "      <th>6</th>\n",
       "      <td>173</td>\n",
       "      <td>170</td>\n",
       "    </tr>\n",
       "    <tr>\n",
       "      <th>7</th>\n",
       "      <td>125</td>\n",
       "      <td>128</td>\n",
       "    </tr>\n",
       "    <tr>\n",
       "      <th>8</th>\n",
       "      <td>137</td>\n",
       "      <td>137</td>\n",
       "    </tr>\n",
       "  </tbody>\n",
       "</table>\n",
       "</div>"
      ],
      "text/plain": [
       "   before  after\n",
       "0     118    123\n",
       "1     126    131\n",
       "2     134    132\n",
       "3     162    159\n",
       "4     145    138\n",
       "5     188    182\n",
       "6     173    170\n",
       "7     125    128\n",
       "8     137    137"
      ]
     },
     "execution_count": 9,
     "metadata": {},
     "output_type": "execute_result"
    }
   ],
   "source": [
    "data = {\n",
    "    'before': [118, 126, 134, 162, 145, 188, 173, 125, 137],\n",
    "    'after':  [123, 131, 132, 159, 138, 182, 170, 128, 137]\n",
    "}\n",
    "\n",
    "df = pd.DataFrame(data)\n",
    "df"
   ]
  },
  {
   "cell_type": "markdown",
   "metadata": {},
   "source": [
    "__What can we conclude about the diet?__"
   ]
  },
  {
   "cell_type": "code",
   "execution_count": 10,
   "metadata": {},
   "outputs": [],
   "source": [
    "# Your solution\n"
   ]
  },
  {
   "cell_type": "markdown",
   "metadata": {},
   "source": [
    "## Exercise 4: Mrs Brown bakery\n",
    "\n",
    "#### Based on _cimt.org.uk_\n",
    "\n",
    "Mrs Brown owns a small bakery on Baker Street. She believes that, by keeping her windows open, the smell of freshly-baked goods encourages passers-by to buy her products. She recorded the following sales (in £):\n",
    "\n",
    "| Windows closed | Windows opened |\n",
    "| -------------: | -------------: |\n",
    "|          193.5 |          202.0 |\n",
    "|          192.2 |          204.5 |\n",
    "|          199.4 |          207.0 |\n",
    "|          177.6 |          215.5 |\n",
    "|          205.4 |          190.8 |\n",
    "|          200.6 |          215.6 |\n",
    "|          181.8 |          208.8 |\n",
    "|          169.2 |          187.8 |\n",
    "|          172.2 |          204.1 |\n",
    "|          192.8 |          185.7 |\n",
    "\n"
   ]
  },
  {
   "cell_type": "code",
   "execution_count": 11,
   "metadata": {},
   "outputs": [
    {
     "data": {
      "text/html": [
       "<div>\n",
       "<style scoped>\n",
       "    .dataframe tbody tr th:only-of-type {\n",
       "        vertical-align: middle;\n",
       "    }\n",
       "\n",
       "    .dataframe tbody tr th {\n",
       "        vertical-align: top;\n",
       "    }\n",
       "\n",
       "    .dataframe thead th {\n",
       "        text-align: right;\n",
       "    }\n",
       "</style>\n",
       "<table border=\"1\" class=\"dataframe\">\n",
       "  <thead>\n",
       "    <tr style=\"text-align: right;\">\n",
       "      <th></th>\n",
       "      <th>closed</th>\n",
       "      <th>opened</th>\n",
       "    </tr>\n",
       "  </thead>\n",
       "  <tbody>\n",
       "    <tr>\n",
       "      <th>0</th>\n",
       "      <td>193.5</td>\n",
       "      <td>202.0</td>\n",
       "    </tr>\n",
       "    <tr>\n",
       "      <th>1</th>\n",
       "      <td>192.2</td>\n",
       "      <td>204.5</td>\n",
       "    </tr>\n",
       "    <tr>\n",
       "      <th>2</th>\n",
       "      <td>199.4</td>\n",
       "      <td>207.0</td>\n",
       "    </tr>\n",
       "    <tr>\n",
       "      <th>3</th>\n",
       "      <td>177.6</td>\n",
       "      <td>215.5</td>\n",
       "    </tr>\n",
       "    <tr>\n",
       "      <th>4</th>\n",
       "      <td>205.4</td>\n",
       "      <td>190.8</td>\n",
       "    </tr>\n",
       "    <tr>\n",
       "      <th>5</th>\n",
       "      <td>200.6</td>\n",
       "      <td>215.6</td>\n",
       "    </tr>\n",
       "    <tr>\n",
       "      <th>6</th>\n",
       "      <td>181.8</td>\n",
       "      <td>208.8</td>\n",
       "    </tr>\n",
       "    <tr>\n",
       "      <th>7</th>\n",
       "      <td>169.2</td>\n",
       "      <td>187.8</td>\n",
       "    </tr>\n",
       "    <tr>\n",
       "      <th>8</th>\n",
       "      <td>172.2</td>\n",
       "      <td>204.1</td>\n",
       "    </tr>\n",
       "    <tr>\n",
       "      <th>9</th>\n",
       "      <td>192.8</td>\n",
       "      <td>185.7</td>\n",
       "    </tr>\n",
       "  </tbody>\n",
       "</table>\n",
       "</div>"
      ],
      "text/plain": [
       "   closed  opened\n",
       "0   193.5   202.0\n",
       "1   192.2   204.5\n",
       "2   199.4   207.0\n",
       "3   177.6   215.5\n",
       "4   205.4   190.8\n",
       "5   200.6   215.6\n",
       "6   181.8   208.8\n",
       "7   169.2   187.8\n",
       "8   172.2   204.1\n",
       "9   192.8   185.7"
      ]
     },
     "execution_count": 11,
     "metadata": {},
     "output_type": "execute_result"
    }
   ],
   "source": [
    "data = {\n",
    "    'closed': [193.5, 192.2, 199.4, 177.6, 205.4, 200.6, 181.8, 169.2, 172.2, 192.8],\n",
    "    'opened': [202.0, 204.5, 207.0, 215.5, 190.8, 215.6, 208.8, 187.8, 204.1, 185.7]\n",
    "}\n",
    "\n",
    "df = pd.DataFrame(data)\n",
    "df"
   ]
  },
  {
   "cell_type": "markdown",
   "metadata": {},
   "source": [
    "__Should Mrs Brown keep her store's windows open?__"
   ]
  },
  {
   "cell_type": "code",
   "execution_count": 12,
   "metadata": {},
   "outputs": [],
   "source": [
    "# Your solution\n"
   ]
  },
  {
   "cell_type": "markdown",
   "metadata": {},
   "source": [
    "## Exercise 5. Teaching programming\n",
    "\n",
    "#### Based on _cimt.org.uk_\n",
    "\n",
    "Mrs Kooner decided to test whether her students understand better the theory or practice of Data Science. So, her exam paper consisted of one theoretical and one practical questions.\n",
    "\n",
    "The results for each student are as follows:"
   ]
  },
  {
   "cell_type": "code",
   "execution_count": 13,
   "metadata": {},
   "outputs": [
    {
     "data": {
      "text/html": [
       "<div>\n",
       "<style scoped>\n",
       "    .dataframe tbody tr th:only-of-type {\n",
       "        vertical-align: middle;\n",
       "    }\n",
       "\n",
       "    .dataframe tbody tr th {\n",
       "        vertical-align: top;\n",
       "    }\n",
       "\n",
       "    .dataframe thead th {\n",
       "        text-align: right;\n",
       "    }\n",
       "</style>\n",
       "<table border=\"1\" class=\"dataframe\">\n",
       "  <thead>\n",
       "    <tr style=\"text-align: right;\">\n",
       "      <th></th>\n",
       "      <th>Theory</th>\n",
       "      <th>Practice</th>\n",
       "    </tr>\n",
       "  </thead>\n",
       "  <tbody>\n",
       "    <tr>\n",
       "      <th>0</th>\n",
       "      <td>72</td>\n",
       "      <td>75</td>\n",
       "    </tr>\n",
       "    <tr>\n",
       "      <th>1</th>\n",
       "      <td>82</td>\n",
       "      <td>79</td>\n",
       "    </tr>\n",
       "    <tr>\n",
       "      <th>2</th>\n",
       "      <td>93</td>\n",
       "      <td>84</td>\n",
       "    </tr>\n",
       "    <tr>\n",
       "      <th>3</th>\n",
       "      <td>65</td>\n",
       "      <td>71</td>\n",
       "    </tr>\n",
       "    <tr>\n",
       "      <th>4</th>\n",
       "      <td>76</td>\n",
       "      <td>82</td>\n",
       "    </tr>\n",
       "    <tr>\n",
       "      <th>5</th>\n",
       "      <td>89</td>\n",
       "      <td>91</td>\n",
       "    </tr>\n",
       "    <tr>\n",
       "      <th>6</th>\n",
       "      <td>81</td>\n",
       "      <td>85</td>\n",
       "    </tr>\n",
       "    <tr>\n",
       "      <th>7</th>\n",
       "      <td>58</td>\n",
       "      <td>68</td>\n",
       "    </tr>\n",
       "    <tr>\n",
       "      <th>8</th>\n",
       "      <td>95</td>\n",
       "      <td>90</td>\n",
       "    </tr>\n",
       "    <tr>\n",
       "      <th>9</th>\n",
       "      <td>91</td>\n",
       "      <td>92</td>\n",
       "    </tr>\n",
       "  </tbody>\n",
       "</table>\n",
       "</div>"
      ],
      "text/plain": [
       "   Theory  Practice\n",
       "0      72        75\n",
       "1      82        79\n",
       "2      93        84\n",
       "3      65        71\n",
       "4      76        82\n",
       "5      89        91\n",
       "6      81        85\n",
       "7      58        68\n",
       "8      95        90\n",
       "9      91        92"
      ]
     },
     "execution_count": 13,
     "metadata": {},
     "output_type": "execute_result"
    }
   ],
   "source": [
    "data = {\n",
    "    'Theory':   [72, 82, 93, 65, 76, 89, 81, 58, 95, 91],\n",
    "    'Practice': [75, 79, 84, 71, 82, 91, 85, 68, 90, 92]\n",
    "}\n",
    "\n",
    "df = pd.DataFrame(data)\n",
    "df"
   ]
  },
  {
   "cell_type": "markdown",
   "metadata": {},
   "source": [
    "__Is the difference significant?__"
   ]
  },
  {
   "cell_type": "code",
   "execution_count": 14,
   "metadata": {},
   "outputs": [],
   "source": [
    "# Your solution\n"
   ]
  },
  {
   "cell_type": "markdown",
   "metadata": {},
   "source": [
    "## Exercise 6. Netflix movies\n",
    "\n",
    "Let's assume that the average Netflix movie is $99.1$ minutes long.\n",
    "\n",
    "Looking into recently added movies this week, we observe movies with the following duration (in minutes):\n",
    "\n",
    "\\begin{equation}\n",
    "106, 75, 136,  95, 112, 101, 104, \\\\\n",
    " 94, 97, 123, 115, 115, 132, 125\n",
    "\\end{equation}\n"
   ]
  },
  {
   "cell_type": "markdown",
   "metadata": {},
   "source": [
    "__Is our assumption valid?__"
   ]
  },
  {
   "cell_type": "code",
   "execution_count": 15,
   "metadata": {},
   "outputs": [],
   "source": [
    "# Your solution"
   ]
  }
 ],
 "metadata": {
  "kernelspec": {
   "display_name": "Python 3 (ipykernel)",
   "language": "python",
   "name": "python3"
  },
  "language_info": {
   "codemirror_mode": {
    "name": "ipython",
    "version": 3
   },
   "file_extension": ".py",
   "mimetype": "text/x-python",
   "name": "python",
   "nbconvert_exporter": "python",
   "pygments_lexer": "ipython3",
   "version": "3.10.6"
  }
 },
 "nbformat": 4,
 "nbformat_minor": 2
}
