{
 "cells": [
  {
   "cell_type": "code",
   "execution_count": 1,
   "id": "967b6a44-2c3c-400a-a855-278e385601c7",
   "metadata": {},
   "outputs": [],
   "source": [
    "import numpy as np"
   ]
  },
  {
   "cell_type": "code",
   "execution_count": 2,
   "id": "81f63811-53a2-453a-929d-ebe82cec78fd",
   "metadata": {},
   "outputs": [
    {
     "name": "stdout",
     "output_type": "stream",
     "text": [
      "[[1. 0. 0. 0. 0. 0. 0. 0.]\n",
      " [0. 1. 0. 0. 0. 0. 0. 0.]\n",
      " [0. 0. 1. 0. 0. 0. 0. 0.]\n",
      " [0. 0. 0. 1. 0. 0. 0. 0.]\n",
      " [0. 0. 0. 0. 1. 0. 0. 0.]\n",
      " [0. 0. 0. 0. 0. 1. 0. 0.]\n",
      " [0. 0. 0. 0. 0. 0. 1. 0.]\n",
      " [0. 0. 0. 0. 0. 0. 0. 1.]]\n"
     ]
    }
   ],
   "source": [
    "ident_matrix = np.eye(8)\n",
    "print(ident_matrix)"
   ]
  },
  {
   "cell_type": "code",
   "execution_count": 3,
   "id": "eb708e26-b285-4961-9a65-cf9ca7398745",
   "metadata": {},
   "outputs": [],
   "source": [
    "arr1 = np.array([1, 2, 3, 4, 5])\n",
    "arr2 = np.array([[1, 2, 3], [4, 5, 6]])"
   ]
  },
  {
   "cell_type": "code",
   "execution_count": 4,
   "id": "7731366c-11a1-4b04-901d-72b46fbe9d5c",
   "metadata": {},
   "outputs": [
    {
     "name": "stdout",
     "output_type": "stream",
     "text": [
      "[1 2 3 4 5]\n"
     ]
    }
   ],
   "source": [
    "print(arr1)"
   ]
  },
  {
   "cell_type": "code",
   "execution_count": 5,
   "id": "082c3c56-29e7-4182-b3b2-f8458ef4dcd5",
   "metadata": {},
   "outputs": [
    {
     "name": "stdout",
     "output_type": "stream",
     "text": [
      "[[1 2 3]\n",
      " [4 5 6]]\n"
     ]
    }
   ],
   "source": [
    "print(arr2)"
   ]
  },
  {
   "cell_type": "code",
   "execution_count": 6,
   "id": "ccc39264-d5dc-4092-9904-8d7f2dc8abff",
   "metadata": {},
   "outputs": [
    {
     "data": {
      "text/plain": [
       "array([ 7,  8,  9, 10, 11])"
      ]
     },
     "execution_count": 6,
     "metadata": {},
     "output_type": "execute_result"
    }
   ],
   "source": [
    "# addition\n",
    "arr1 + 6"
   ]
  },
  {
   "cell_type": "code",
   "execution_count": 7,
   "id": "2764b45b-b6ff-40cd-b12e-c032bf4af8da",
   "metadata": {},
   "outputs": [
    {
     "data": {
      "text/plain": [
       "array([[   1,   16,   81],\n",
       "       [ 256,  625, 1296]])"
      ]
     },
     "execution_count": 7,
     "metadata": {},
     "output_type": "execute_result"
    }
   ],
   "source": [
    "# mupliplication arr2\n",
    "arr2 ** 4"
   ]
  },
  {
   "cell_type": "code",
   "execution_count": 8,
   "id": "9822ba27-62d2-45cc-bcd6-1120537d452a",
   "metadata": {},
   "outputs": [
    {
     "data": {
      "text/plain": [
       "array([[ 7,  8,  9],\n",
       "       [10, 11, 12]])"
      ]
     },
     "execution_count": 8,
     "metadata": {},
     "output_type": "execute_result"
    }
   ],
   "source": [
    "arr2 + 6"
   ]
  },
  {
   "cell_type": "code",
   "execution_count": 9,
   "id": "39fbf4d1-f7c3-4ba9-977d-1fcc83aa630e",
   "metadata": {},
   "outputs": [
    {
     "data": {
      "text/plain": [
       "array([[0., 0., 0., 0., 0., 0.],\n",
       "       [0., 0., 0., 0., 0., 0.],\n",
       "       [0., 0., 0., 0., 0., 0.],\n",
       "       [0., 0., 0., 0., 0., 0.]])"
      ]
     },
     "execution_count": 9,
     "metadata": {},
     "output_type": "execute_result"
    }
   ],
   "source": [
    "np.zeros((4, 6))"
   ]
  },
  {
   "cell_type": "code",
   "execution_count": 10,
   "id": "11d738a8-ec14-473f-aa28-88c2bb4d94a4",
   "metadata": {},
   "outputs": [
    {
     "data": {
      "text/plain": [
       "array([[1., 0., 0., 0.],\n",
       "       [0., 1., 0., 0.],\n",
       "       [0., 0., 1., 0.],\n",
       "       [0., 0., 0., 1.]])"
      ]
     },
     "execution_count": 10,
     "metadata": {},
     "output_type": "execute_result"
    }
   ],
   "source": [
    "np.eye(4)"
   ]
  },
  {
   "cell_type": "code",
   "execution_count": 11,
   "id": "852a4137-ec32-42df-ba3d-d61c2ce2575c",
   "metadata": {},
   "outputs": [
    {
     "data": {
      "text/plain": [
       "array([[1., 1., 1.],\n",
       "       [1., 1., 1.],\n",
       "       [1., 1., 1.],\n",
       "       [1., 1., 1.],\n",
       "       [1., 1., 1.],\n",
       "       [1., 1., 1.]])"
      ]
     },
     "execution_count": 11,
     "metadata": {},
     "output_type": "execute_result"
    }
   ],
   "source": [
    "np.ones((6, 3))"
   ]
  },
  {
   "cell_type": "code",
   "execution_count": 12,
   "id": "e37ea8f4-4119-4371-9382-c5132ced7a26",
   "metadata": {},
   "outputs": [
    {
     "data": {
      "text/plain": [
       "array([10, 20, 30, 40, 50, 60, 70, 80, 90])"
      ]
     },
     "execution_count": 12,
     "metadata": {},
     "output_type": "execute_result"
    }
   ],
   "source": [
    "np.arange(10, 100, 10)"
   ]
  },
  {
   "cell_type": "code",
   "execution_count": 13,
   "id": "87a3be38-b8f2-4290-951a-4cf2c63151a2",
   "metadata": {},
   "outputs": [
    {
     "data": {
      "text/plain": [
       "array([0.        , 0.14285714, 0.28571429, 0.42857143, 0.57142857,\n",
       "       0.71428571, 0.85714286, 1.        ])"
      ]
     },
     "execution_count": 13,
     "metadata": {},
     "output_type": "execute_result"
    }
   ],
   "source": [
    "np.linspace(0, 1, 8)"
   ]
  },
  {
   "cell_type": "code",
   "execution_count": 14,
   "id": "a798a149-1c3d-4b49-9a64-7d0c8fa57255",
   "metadata": {},
   "outputs": [
    {
     "name": "stdout",
     "output_type": "stream",
     "text": [
      "[ 10  40  90 160]\n"
     ]
    }
   ],
   "source": [
    "a = np.array([1, 2, 3, 4])\n",
    "b = np.array([10, 20, 30, 40])\n",
    "\n",
    "# element-wise multiplication\n",
    "print(f'{a * b}')"
   ]
  },
  {
   "cell_type": "code",
   "execution_count": 15,
   "id": "f7c4dc9f-6a15-4b5e-b8e7-6590055e9ef5",
   "metadata": {},
   "outputs": [
    {
     "data": {
      "text/plain": [
       "array([ 5, 10, 15, 20])"
      ]
     },
     "execution_count": 15,
     "metadata": {},
     "output_type": "execute_result"
    }
   ],
   "source": [
    "# scalar multiplication\n",
    "a * 5"
   ]
  },
  {
   "cell_type": "code",
   "execution_count": 16,
   "id": "e5564ef2-e7e1-492f-b41b-55141d166ac7",
   "metadata": {},
   "outputs": [],
   "source": [
    "# 2d array multiplication (element-wise)\n",
    "\n",
    "x = np.array([[1, 2], [3, 4]])\n",
    "y = np.array([[5, 6], [7, 8]])"
   ]
  },
  {
   "cell_type": "code",
   "execution_count": 17,
   "id": "a3cb5c13-5df7-43f2-9ccb-646f3db6388c",
   "metadata": {},
   "outputs": [
    {
     "data": {
      "text/plain": [
       "(2, 2)"
      ]
     },
     "execution_count": 17,
     "metadata": {},
     "output_type": "execute_result"
    }
   ],
   "source": [
    "y.shape"
   ]
  },
  {
   "cell_type": "code",
   "execution_count": 18,
   "id": "469e4ef1-25a1-4763-b71f-3aa0208aadbf",
   "metadata": {},
   "outputs": [
    {
     "data": {
      "text/plain": [
       "array([[ 5, 12],\n",
       "       [21, 32]])"
      ]
     },
     "execution_count": 18,
     "metadata": {},
     "output_type": "execute_result"
    }
   ],
   "source": [
    "x*y"
   ]
  },
  {
   "cell_type": "code",
   "execution_count": 19,
   "id": "b99fdcab-1b31-42b0-8b3d-f9a838308015",
   "metadata": {},
   "outputs": [
    {
     "data": {
      "text/plain": [
       "array([[19, 22],\n",
       "       [43, 50]])"
      ]
     },
     "execution_count": 19,
     "metadata": {},
     "output_type": "execute_result"
    }
   ],
   "source": [
    "# dot product\n",
    "np.dot(x, y)"
   ]
  },
  {
   "cell_type": "code",
   "execution_count": 20,
   "id": "101da8fa-0f79-4ab0-9a17-94fdc9758128",
   "metadata": {},
   "outputs": [
    {
     "data": {
      "text/plain": [
       "array([[10, 20, 30],\n",
       "       [20, 40, 60],\n",
       "       [30, 60, 90]])"
      ]
     },
     "execution_count": 20,
     "metadata": {},
     "output_type": "execute_result"
    }
   ],
   "source": [
    "# mupltiply 1-D array with 2-D array\n",
    "a = np.array([1, 2, 3])\n",
    "b = np.array([[10],[20], [30]])\n",
    "\n",
    "# broadcasting multiplication\n",
    "b * a"
   ]
  },
  {
   "cell_type": "code",
   "execution_count": 21,
   "id": "64c382a8-1707-4f7a-a25f-b4de726924b4",
   "metadata": {},
   "outputs": [],
   "source": [
    "x = np.array([[1, 2, 3], [4, 5, 6]])\n",
    "\n",
    "y = np.array([[10, 20, 30, 50], [40, 50, 60, 70]])\n",
    "\n",
    "# np.dot(x, y)"
   ]
  },
  {
   "cell_type": "code",
   "execution_count": 1,
   "id": "5bc599ef-fc47-4e90-83f5-ae9133a86dee",
   "metadata": {},
   "outputs": [],
   "source": [
    "import time\n",
    "import numpy as np\n",
    "\n",
    "n = 1_000_000\n",
    "py_list = list(range(n))"
   ]
  },
  {
   "cell_type": "code",
   "execution_count": 3,
   "id": "f46cb37c-62bc-49b5-b522-1cb90ebed7a5",
   "metadata": {},
   "outputs": [],
   "source": [
    "np_array = np.arange(n)"
   ]
  },
  {
   "cell_type": "code",
   "execution_count": 5,
   "id": "7ffe056f-cb16-4f94-9184-7f03aca67911",
   "metadata": {},
   "outputs": [],
   "source": [
    "start = time.time()\n",
    "py_result = [x**2 for x in py_list]\n",
    "\n",
    "end = time.time()\n",
    "list_time = end - start"
   ]
  },
  {
   "cell_type": "code",
   "execution_count": 13,
   "id": "96a23be8-7861-478a-83f7-c948d4c7178e",
   "metadata": {},
   "outputs": [],
   "source": [
    "# dataframe\n",
    "start = time.time()\n",
    "np.result = np_array ** 2\n",
    "end = time.time()\n",
    "df_time = end - start"
   ]
  },
  {
   "cell_type": "code",
   "execution_count": 15,
   "id": "ee55c481-cf3c-4393-95ad-16da4d435921",
   "metadata": {},
   "outputs": [
    {
     "name": "stdout",
     "output_type": "stream",
     "text": [
      "List time: 0.05367088317871094\n",
      "Array time: 0.0044558048248291016\n",
      "Dataframe time: 0.0037927627563476562\n"
     ]
    }
   ],
   "source": [
    "print(f\"List time: {list_time}\" )\n",
    "print(f\"Array time: {array_time}\")\n",
    "print(f\"Dataframe time: {df_time}\")"
   ]
  },
  {
   "cell_type": "code",
   "execution_count": 17,
   "id": "d491e228-7daf-4596-9a45-7fae47b341a8",
   "metadata": {},
   "outputs": [
    {
     "data": {
      "image/png": "[encoded data removed]",
      "text/plain": [
       "<Figure size 640x480 with 1 Axes>"
      ]
     },
     "metadata": {},
     "output_type": "display_data"
    }
   ],
   "source": [
    "import matplotlib.pyplot as plt\n",
    "labels = ['Python list', 'Numpy array', 'Pandas DataFrame']\n",
    "times = [list_time, array_time, df_time]\n",
    "\n",
    "plt.bar(labels, times, color = [\"orange\", \"blue\", \"green\"])\n",
    "plt.ylabel(\"Time (seconds)\")\n",
    "plt.xlabel(\"List, Numpy, Pandas Array Processing Time\")\n",
    "plt.show()"
   ]
  },
  {
   "cell_type": "code",
   "execution_count": null,
   "id": "bee89e16-bb3e-42cc-bc3e-a1df7edfb03c",
   "metadata": {},
   "outputs": [],
   "source": []
  },
  {
   "cell_type": "code",
   "execution_count": null,
   "id": "89c5d688-2a87-4edb-a24c-fb96023265c5",
   "metadata": {},
   "outputs": [],
   "source": []
  }
 ],
 "metadata": {
  "kernelspec": {
   "display_name": "Python 3 (ipykernel)",
   "language": "python",
   "name": "python3"
  },
  "language_info": {
   "codemirror_mode": {
    "name": "ipython",
    "version": 3
   },
   "file_extension": ".py",
   "mimetype": "text/x-python",
   "name": "python",
   "nbconvert_exporter": "python",
   "pygments_lexer": "ipython3",
   "version": "3.12.2"
  }
 },
 "nbformat": 4,
 "nbformat_minor": 5
}
