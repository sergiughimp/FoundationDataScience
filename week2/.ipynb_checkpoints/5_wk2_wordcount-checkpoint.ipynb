{
 "cells": [
  {
   "cell_type": "markdown",
   "metadata": {
    "slideshow": {
     "slide_type": "-"
    }
   },
   "source": [
    "# Food-for-thought: Wordcount and text analysis\n",
    "\n"
   ]
  },
  {
   "cell_type": "markdown",
   "metadata": {},
   "source": [
    "### A. Inputs"
   ]
  },
  {
   "cell_type": "code",
   "execution_count": 11,
   "metadata": {},
   "outputs": [],
   "source": [
    "# There are two main books of interest from Project Gutenberg:\n",
    "\n",
    "# The Wonderful Wizard of Oz\n",
    "WOZ = \"https://www.gutenberg.org/files/55/55-0.txt\"\n",
    "\n",
    "# Moby Dick\n",
    "XIW = \"https://www.gutenberg.org/files/2701/2701-0.txt\"\n",
    "\n",
    "# Color terms (the last one is used as an unknown term found in the text)\n",
    "terms = ['white', 'red', 'blue', 'yellow', 'green', 'abcd']"
   ]
  },
  {
   "cell_type": "markdown",
   "metadata": {
    "slideshow": {
     "slide_type": "-"
    }
   },
   "source": [
    "### B. Download books from Project Gutenberg"
   ]
  },
  {
   "cell_type": "code",
   "execution_count": 12,
   "metadata": {
    "slideshow": {
     "slide_type": "-"
    }
   },
   "outputs": [],
   "source": [
    "import os\n",
    "import urllib\n",
    "import time\n",
    "\n",
    "def download(url, folder=\".\", filename=None):\n",
    "    \"\"\"\n",
    "    Downloads a book from Project Gutenberg.\n",
    "    \"\"\"\n",
    "    if filename is None:\n",
    "        # Use default file name\n",
    "        filename = os.path.basename(urllib.parse.urlparse(url).path)\n",
    "    \n",
    "    # Join folder and filename into a filepath\n",
    "    filepath = os.path.join(folder, filename)\n",
    "    \n",
    "    if os.path.isfile(filepath):\n",
    "        print(f'File {filepath} already exists')\n",
    "        return filepath\n",
    "    \n",
    "    # Print download message\n",
    "    components = urllib.parse.urlparse(url)\n",
    "    print(f\"Downloading '{os.path.basename(components.path)}' from {components.netloc}\")\n",
    "    \n",
    "    t0 = time.time()\n",
    "    try:\n",
    "        urllib.request.urlretrieve(url, filepath)\n",
    "    except KeyboardInterrupt:\n",
    "        if os.path.exists(filepath):\n",
    "            # Try remove downloaded file\n",
    "            os.remove(filepath)\n",
    "        raise\n",
    "    dt = time.time() - t0\n",
    "    \n",
    "    print(f\"Download complete ({dt:.2f}s)\")\n",
    "    return filepath"
   ]
  },
  {
   "cell_type": "markdown",
   "metadata": {
    "slideshow": {
     "slide_type": "-"
    }
   },
   "source": [
    "### C. Tokenisation as vectorisation"
   ]
  },
  {
   "cell_type": "code",
   "execution_count": 41,
   "metadata": {
    "slideshow": {
     "slide_type": "-"
    }
   },
   "outputs": [
    {
     "name": "stdout",
     "output_type": "stream",
     "text": [
      "File .\\2701-0.txt already exists\n"
     ]
    }
   ],
   "source": [
    "import pandas as pd\n",
    "from sklearn.feature_extraction.text import CountVectorizer\n",
    "\n",
    "#call previously defined function download\n",
    "filepath = download(XIW)\n",
    "\n",
    "#call sklearn function CountVectorizer\n",
    "vectorizer = CountVectorizer(input='file',\n",
    "                             decode_error='ignore',\n",
    "                             strip_accents='unicode', \n",
    "                             lowercase=True,\n",
    "                             stop_words='english')\n",
    "\n",
    "\n",
    "# Open file for reading\n",
    "corpus = open(filepath, encoding='utf-8')\n",
    "\n",
    "# Extract features\n",
    "matrix = vectorizer.fit_transform([corpus])\n",
    "\n",
    "\n",
    "# Convert to a data frame\n",
    "df = pd.DataFrame(matrix.toarray(), columns=vectorizer.get_feature_names_out())"
   ]
  },
  {
   "cell_type": "markdown",
   "metadata": {},
   "source": [
    "### D. Data analysis & visualisation"
   ]
  },
  {
   "cell_type": "code",
   "execution_count": 42,
   "metadata": {
    "slideshow": {
     "slide_type": "-"
    }
   },
   "outputs": [
    {
     "name": "stdout",
     "output_type": "stream",
     "text": [
      "   000  10  100  101  102  103  104  105  106  107  ...  zogranda  zone  \\\n",
      "0   21   5    4    2    2    2    2    2    2    2  ...         1     5   \n",
      "\n",
      "   zoned  zones  zoology  zoroaster  æsthetically  æsthetics  κητος  חו  \n",
      "0      2      3        2          1             1          1      1   1  \n",
      "\n",
      "[1 rows x 17311 columns]\n"
     ]
    },
    {
     "data": {
      "text/plain": [
       "<Axes: xlabel='Word', ylabel='Word count (%)'>"
      ]
     },
     "execution_count": 42,
     "metadata": {},
     "output_type": "execute_result"
    },
    {
     "data": {
      "image/png": "[encoded data removed]",
      "text/plain": [
       "<Figure size 640x480 with 1 Axes>"
      ]
     },
     "metadata": {},
     "output_type": "display_data"
    }
   ],
   "source": [
    "import matplotlib.pyplot as plt\n",
    "\n",
    "print(df)\n",
    "# Transpose data frame\n",
    "df = df.T\n",
    "\n",
    "# Rename column\n",
    "df = df.rename(columns={0: \"count\"})\n",
    "\n",
    "# Normalize\n",
    "df['count'] = 100.0 * df['count'] / df['count'].sum()\n",
    "\n",
    "# Filter terms\n",
    "df = df.filter(items=terms, axis=0)\n",
    "\n",
    "# Add missing term\n",
    "defaults = pd.DataFrame.from_dict(dict.fromkeys(terms, 0.0),\n",
    "                                  orient='index',\n",
    "                                  columns=['count'])\n",
    "\n",
    "# Merge\n",
    "df = pd.merge(df, defaults,\n",
    "              how='outer',\n",
    "              #left_index=True,\n",
    "              #right_index=True,\n",
    "              on='count')\n",
    "\n",
    "# Sort in descending order (most frequent term first)\n",
    "df = df.sort_values(by='count', ascending=False)\n",
    "\n",
    "\n",
    "# Plot\n",
    "plt.rc('font', **{'family':'sans-serif','sans-serif':['Arial'], 'size': 16})\n",
    "\n",
    "df.plot.bar(ylabel=\"Word count (%)\", \n",
    "            xlabel=\"Word\",\n",
    "            rot=0,\n",
    "            legend=False,\n",
    "            edgecolor='black')"
   ]
  },
  {
   "cell_type": "code",
   "execution_count": null,
   "metadata": {},
   "outputs": [],
   "source": []
  }
 ],
 "metadata": {
  "celltoolbar": "Slideshow",
  "kernelspec": {
   "display_name": "Python 3 (ipykernel)",
   "language": "python",
   "name": "python3"
  },
  "language_info": {
   "codemirror_mode": {
    "name": "ipython",
    "version": 3
   },
   "file_extension": ".py",
   "mimetype": "text/x-python",
   "name": "python",
   "nbconvert_exporter": "python",
   "pygments_lexer": "ipython3",
   "version": "3.10.6"
  }
 },
 "nbformat": 4,
 "nbformat_minor": 4
}
