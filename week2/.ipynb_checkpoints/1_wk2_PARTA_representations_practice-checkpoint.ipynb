{
 "cells": [
  {
   "cell_type": "markdown",
   "metadata": {
    "slideshow": {
     "slide_type": "slide"
    }
   },
   "source": [
    "# Week 2: Data Representations\n",
    "\n",
    "##  - Hands-on Practice - \n",
    "\n",
    "\n",
    "_Table of contents_\n",
    "\n",
    "* $n$-dimensional arrays\n",
    "* Pandas: Series\n",
    "* Pandas: DataFrame"
   ]
  },
  {
   "cell_type": "markdown",
   "metadata": {
    "slideshow": {
     "slide_type": "slide"
    }
   },
   "source": [
    "## NumPy Arrays\n",
    "\n",
    "NumPy is widely used in Python for working with arrays. \n",
    "\n",
    "It is used in numerous data analytics and machine learning applications, either explicitly or implicitly.\n",
    "\n",
    "Also, other popular data science libraries, e.g., Pandas or SciPy, built upon NumPy."
   ]
  },
  {
   "cell_type": "markdown",
   "metadata": {
    "slideshow": {
     "slide_type": "slide"
    }
   },
   "source": [
    "NumPy provides a high-performance, $n$-dimentional array type, `ndarray`."
   ]
  },
  {
   "cell_type": "code",
   "execution_count": 1,
   "metadata": {
    "slideshow": {
     "slide_type": "fragment"
    }
   },
   "outputs": [
    {
     "data": {
      "text/plain": [
       "numpy.ndarray"
      ]
     },
     "execution_count": 1,
     "metadata": {},
     "output_type": "execute_result"
    }
   ],
   "source": [
    "import numpy as np  # 'np' is a common alias for NumPy\n",
    "\n",
    "# Create (declare and define its size) a new array using items from \n",
    "# another iterable object, e.g. a list\n",
    "data = np.array([9, 7, 5, 4, 1, 3, 2, 8, 0, 6])\n",
    "type(data)"
   ]
  },
  {
   "cell_type": "code",
   "execution_count": 2,
   "metadata": {
    "slideshow": {
     "slide_type": "fragment"
    }
   },
   "outputs": [
    {
     "data": {
      "text/plain": [
       "array([9, 7, 5, 4, 1, 3, 2, 8, 0, 6])"
      ]
     },
     "execution_count": 2,
     "metadata": {},
     "output_type": "execute_result"
    }
   ],
   "source": [
    "data"
   ]
  },
  {
   "cell_type": "markdown",
   "metadata": {
    "slideshow": {
     "slide_type": "slide"
    }
   },
   "source": [
    "Let's declare and define a 2-dimensional array."
   ]
  },
  {
   "cell_type": "code",
   "execution_count": 3,
   "metadata": {
    "slideshow": {
     "slide_type": "fragment"
    }
   },
   "outputs": [
    {
     "data": {
      "text/plain": [
       "array([[9, 7, 5, 4, 1],\n",
       "       [3, 2, 8, 0, 6]])"
      ]
     },
     "execution_count": 3,
     "metadata": {},
     "output_type": "execute_result"
    }
   ],
   "source": [
    "data = np.array([[9, 7, 5, 4, 1], [3, 2, 8, 0, 6]])\n",
    "data"
   ]
  },
  {
   "cell_type": "markdown",
   "metadata": {
    "slideshow": {
     "slide_type": "fragment"
    }
   },
   "source": [
    "__Food-for-Thought: Question.__ What happens if we pass as an argument a list with an irregular structure?"
   ]
  },
  {
   "cell_type": "code",
   "execution_count": 4,
   "metadata": {
    "slideshow": {
     "slide_type": "fragment"
    }
   },
   "outputs": [],
   "source": [
    "# Try it out"
   ]
  },
  {
   "cell_type": "markdown",
   "metadata": {
    "slideshow": {
     "slide_type": "slide"
    }
   },
   "source": [
    "### Basic attributes\n",
    "\n",
    "The `ndarray` object has a number of attributes to use for handling the structure of data."
   ]
  },
  {
   "cell_type": "code",
   "execution_count": 4,
   "metadata": {
    "slideshow": {
     "slide_type": "fragment"
    }
   },
   "outputs": [
    {
     "name": "stdout",
     "output_type": "stream",
     "text": [
      "Array of type int8, shape (2, 5), with 2 dimensions and 10 elements\n"
     ]
    }
   ],
   "source": [
    "def info(data):\n",
    "    return \"Array of type {}, shape {}, with {} dimension{} and {} element{}\".format(\n",
    "        data.dtype,\n",
    "        data.shape, \n",
    "        data.ndim,\n",
    "        \"s\" if data.ndim > 1 else '',\n",
    "        data.size,\n",
    "        \"s\" if data.size > 1 else '',\n",
    "    )\n",
    "\n",
    "\n",
    "print(info(data))"
   ]
  },
  {
   "cell_type": "markdown",
   "metadata": {
    "slideshow": {
     "slide_type": "fragment"
    }
   },
   "source": [
    "__Discussion.__ Array data types - what is `int64`? See [here](https://numpy.org/devdocs/user/basics.types.html) for details. Remember, NumPy exhibits high performance when used for handling data because it is implemented in C, a low-level programming language."
   ]
  },
  {
   "cell_type": "markdown",
   "metadata": {
    "slideshow": {
     "slide_type": "slide"
    }
   },
   "source": [
    "### Populating arrays, part II\n",
    "\n",
    "There are a number of functions to fill arrays with specific values."
   ]
  },
  {
   "cell_type": "code",
   "execution_count": 5,
   "metadata": {
    "slideshow": {
     "slide_type": "slide"
    }
   },
   "outputs": [
    {
     "name": "stdout",
     "output_type": "stream",
     "text": [
      "Array of type float64, shape (10,), with 1 dimension and 10 elements\n"
     ]
    }
   ],
   "source": [
    "# Fill array with zeros\n",
    "data = np.zeros(10)\n",
    "print(info(data))"
   ]
  },
  {
   "cell_type": "code",
   "execution_count": 6,
   "metadata": {
    "slideshow": {
     "slide_type": "fragment"
    }
   },
   "outputs": [
    {
     "name": "stdout",
     "output_type": "stream",
     "text": [
      "Array of type int8, shape (2, 5), with 2 dimensions and 10 elements\n"
     ]
    }
   ],
   "source": [
    "data = np.zeros((2, 5), dtype=np.int8)\n",
    "print(info(data))"
   ]
  },
  {
   "cell_type": "code",
   "execution_count": 7,
   "metadata": {
    "slideshow": {
     "slide_type": "fragment"
    }
   },
   "outputs": [
    {
     "name": "stdout",
     "output_type": "stream",
     "text": [
      "Array of type float64, shape (10,), with 1 dimension and 10 elements\n"
     ]
    }
   ],
   "source": [
    "# Fill array with ones\n",
    "data = np.ones(10)\n",
    "print(info(data))"
   ]
  },
  {
   "cell_type": "code",
   "execution_count": 8,
   "metadata": {
    "slideshow": {
     "slide_type": "fragment"
    }
   },
   "outputs": [
    {
     "name": "stdout",
     "output_type": "stream",
     "text": [
      "Array of type int32, shape (2, 5), with 2 dimensions and 10 elements\n",
      "[[5 5 5 5 5]\n",
      " [5 5 5 5 5]]\n"
     ]
    }
   ],
   "source": [
    "# Fill array with a specific constant (of a given type)\n",
    "data = np.full((2, 5), 5)\n",
    "print(info(data))\n",
    "print(data)"
   ]
  },
  {
   "cell_type": "markdown",
   "metadata": {
    "slideshow": {
     "slide_type": "slide"
    }
   },
   "source": [
    "We can create arrays using special ___range___ functions too, namely `arange` for integers and `linrange` for floats."
   ]
  },
  {
   "cell_type": "code",
   "execution_count": 12,
   "metadata": {
    "slideshow": {
     "slide_type": "slide"
    }
   },
   "outputs": [
    {
     "name": "stdout",
     "output_type": "stream",
     "text": [
      "[0 2 4 6 8]\n",
      "Array of type int32, shape (5,), with 1 dimension and 5 elements\n"
     ]
    }
   ],
   "source": [
    "# The arange() function has a similar signature \n",
    "# to the built-in range() function\n",
    "# i.e. arange(from, to(excluding), increment by)\n",
    "data = np.arange(0, 10, 2)\n",
    "print(data)\n",
    "print(info(data)) "
   ]
  },
  {
   "cell_type": "code",
   "execution_count": 18,
   "metadata": {
    "slideshow": {
     "slide_type": "slide"
    }
   },
   "outputs": [
    {
     "name": "stdout",
     "output_type": "stream",
     "text": [
      "[ 0.  2.  4.  6.  8. 10. 12.]\n",
      "Array of type float64, shape (7,), with 1 dimension and 7 elements\n"
     ]
    }
   ],
   "source": [
    "# The linspace() function produced evenly spaced\n",
    "# floating-point numbers. \n",
    "# \n",
    "# Note that the end value is included i.e.\n",
    "#linspance(from, to(inclusive), number of elements to be created)\n",
    "data = np.linspace(0.0, 12.0, num=7)\n",
    "print(data)\n",
    "print(info(data))"
   ]
  },
  {
   "cell_type": "markdown",
   "metadata": {
    "slideshow": {
     "slide_type": "slide"
    }
   },
   "source": [
    "### Reshaping arrays\n",
    "\n",
    "The shape of an array is a tuple. It can be used to change the dimensions of an array."
   ]
  },
  {
   "cell_type": "code",
   "execution_count": 20,
   "metadata": {
    "slideshow": {
     "slide_type": "fragment"
    }
   },
   "outputs": [
    {
     "name": "stdout",
     "output_type": "stream",
     "text": [
      "[[1 2]\n",
      " [3 4]\n",
      " [5 6]]\n",
      "Array of type int32, shape (3, 2), with 2 dimensions and 6 elements\n",
      "\n",
      "[[1]\n",
      " [2]\n",
      " [3]\n",
      " [4]\n",
      " [5]\n",
      " [6]]\n",
      "Array of type int32, shape (6, 1), with 2 dimensions and 6 elements\n"
     ]
    }
   ],
   "source": [
    "data = np.array([[1, 2], [3, 4], [5, 6]])\n",
    "print(data)\n",
    "print(info(data))\n",
    "print()\n",
    "\n",
    "# Reshape array\n",
    "data.shape = (6, 1)\n",
    "print(data)\n",
    "print(info(data))"
   ]
  },
  {
   "cell_type": "markdown",
   "metadata": {
    "slideshow": {
     "slide_type": "slide"
    }
   },
   "source": [
    "The `reshape` function creates a new array without modifying the original data."
   ]
  },
  {
   "cell_type": "code",
   "execution_count": 21,
   "metadata": {
    "slideshow": {
     "slide_type": "fragment"
    }
   },
   "outputs": [
    {
     "name": "stdout",
     "output_type": "stream",
     "text": [
      "[1 2 3 4 5 6]\n",
      "Array of type int32, shape (6,), with 1 dimension and 6 elements\n",
      "[[1]\n",
      " [2]\n",
      " [3]\n",
      " [4]\n",
      " [5]\n",
      " [6]]\n"
     ]
    }
   ],
   "source": [
    "y = np.reshape(data, 6)\n",
    "print(y)\n",
    "print(info(y))\n",
    "print(data)"
   ]
  },
  {
   "cell_type": "markdown",
   "metadata": {
    "slideshow": {
     "slide_type": "slide"
    }
   },
   "source": [
    "### Array concatenation\n",
    "\n",
    "Two or more arrays can be concatenated with the `concatenate` function. See [API reference](https://numpy.org/doc/stable/reference/generated/numpy.concatenate.html) for similar functions."
   ]
  },
  {
   "cell_type": "code",
   "execution_count": 22,
   "metadata": {
    "slideshow": {
     "slide_type": "fragment"
    }
   },
   "outputs": [
    {
     "name": "stdout",
     "output_type": "stream",
     "text": [
      "[[1 2]\n",
      " [3 4]\n",
      " [5 6]] \n",
      "\n",
      "[[1 2 5]\n",
      " [3 4 6]]\n"
     ]
    }
   ],
   "source": [
    "a = np.array([[1, 2], [3, 4]])\n",
    "b = np.array([[5, 6]])\n",
    "print(np.concatenate((a, b), axis=0), \"\\n\")\n",
    "print(np.concatenate((a, b.T), axis=1))"
   ]
  },
  {
   "cell_type": "markdown",
   "metadata": {
    "slideshow": {
     "slide_type": "slide"
    }
   },
   "source": [
    "### Identity and eye\n",
    "\n",
    "An _identity array_ is a square matrix where the diagonal elements have value $1$ and all other elements are $0$."
   ]
  },
  {
   "cell_type": "code",
   "execution_count": 23,
   "metadata": {
    "slideshow": {
     "slide_type": "fragment"
    }
   },
   "outputs": [
    {
     "name": "stdout",
     "output_type": "stream",
     "text": [
      "[[1. 0. 0. 0.]\n",
      " [0. 1. 0. 0.]\n",
      " [0. 0. 1. 0.]\n",
      " [0. 0. 0. 1.]]\n"
     ]
    }
   ],
   "source": [
    "I = np.identity(4)  # Create a 3x3 array\n",
    "print(I)"
   ]
  },
  {
   "cell_type": "markdown",
   "metadata": {
    "slideshow": {
     "slide_type": "slide"
    }
   },
   "source": [
    "The `eye` function constructs an $N \\times M$ array with $1$s in the diagonal and $0$'s elsewhere. An integer $k$ shifts the diagonal up or down. For example:\n",
    "\n",
    "```python\n",
    "np.eye(3, 3, k=0) == np.identity(3)\n",
    "```"
   ]
  },
  {
   "cell_type": "code",
   "execution_count": 24,
   "metadata": {
    "slideshow": {
     "slide_type": "fragment"
    }
   },
   "outputs": [
    {
     "name": "stdout",
     "output_type": "stream",
     "text": [
      "[[0. 1. 0. 0.]\n",
      " [0. 0. 1. 0.]\n",
      " [0. 0. 0. 1.]\n",
      " [0. 0. 0. 0.]]\n"
     ]
    }
   ],
   "source": [
    "print(np.eye(4, 4, k=1))"
   ]
  },
  {
   "cell_type": "markdown",
   "metadata": {
    "slideshow": {
     "slide_type": "slide"
    }
   },
   "source": [
    "__Exercise.__ A one-hot encoding (https://www.statology.org/one-hot-encoding-in-python/) is a vector with a $1$ at a particular index and $0$'s elsewhere. It is typically used to represent categorical data. For example, if there are three categories, say $A$, $B$ and $C$, then: "
   ]
  },
  {
   "cell_type": "code",
   "execution_count": 27,
   "metadata": {
    "slideshow": {
     "slide_type": "fragment"
    }
   },
   "outputs": [
    {
     "name": "stdout",
     "output_type": "stream",
     "text": [
      "  team  points\n",
      "0    A      25\n",
      "1    A      12\n",
      "2    B      15\n",
      "3    B      14\n",
      "4    B      19\n",
      "5    B      23\n",
      "6    C      25\n",
      "7    C      29\n"
     ]
    }
   ],
   "source": [
    "# Try it out\n",
    "import pandas as pd\n",
    "df = pd.DataFrame({'team': ['A', 'A', 'B', 'B', 'B', 'B', 'C', 'C'],\n",
    "                   'points': [25, 12, 15, 14, 19, 23, 25, 29]})\n",
    "print(df)"
   ]
  },
  {
   "cell_type": "code",
   "execution_count": 28,
   "metadata": {
    "slideshow": {
     "slide_type": "fragment"
    }
   },
   "outputs": [],
   "source": [
    "from sklearn.preprocessing import OneHotEncoder"
   ]
  },
  {
   "cell_type": "code",
   "execution_count": 30,
   "metadata": {
    "slideshow": {
     "slide_type": "fragment"
    }
   },
   "outputs": [],
   "source": [
    "#creating instance of one-hot-encoder\n",
    "encoder = OneHotEncoder(handle_unknown='ignore')"
   ]
  },
  {
   "cell_type": "code",
   "execution_count": 31,
   "metadata": {
    "slideshow": {
     "slide_type": "fragment"
    }
   },
   "outputs": [],
   "source": [
    "#perform one-hot encoding on 'team' column \n",
    "encoder_df = pd.DataFrame(encoder.fit_transform(df[['team']]).toarray())"
   ]
  },
  {
   "cell_type": "code",
   "execution_count": 32,
   "metadata": {
    "slideshow": {
     "slide_type": "fragment"
    }
   },
   "outputs": [],
   "source": [
    "#merge one-hot encoded columns back with original DataFrame\n",
    "final_df = df.join(encoder_df)"
   ]
  },
  {
   "cell_type": "code",
   "execution_count": 33,
   "metadata": {
    "slideshow": {
     "slide_type": "fragment"
    }
   },
   "outputs": [
    {
     "name": "stdout",
     "output_type": "stream",
     "text": [
      "  team  points    0    1    2\n",
      "0    A      25  1.0  0.0  0.0\n",
      "1    A      12  1.0  0.0  0.0\n",
      "2    B      15  0.0  1.0  0.0\n",
      "3    B      14  0.0  1.0  0.0\n",
      "4    B      19  0.0  1.0  0.0\n",
      "5    B      23  0.0  1.0  0.0\n",
      "6    C      25  0.0  0.0  1.0\n",
      "7    C      29  0.0  0.0  1.0\n"
     ]
    }
   ],
   "source": [
    "#view final df\n",
    "print(final_df)"
   ]
  },
  {
   "cell_type": "markdown",
   "metadata": {
    "slideshow": {
     "slide_type": "slide"
    }
   },
   "source": [
    "### Summary statistics\n",
    "\n",
    "NumPy provides some basic functions to extract summary statistics from an array. The methods ignore the array's shape and use all elements:"
   ]
  },
  {
   "cell_type": "code",
   "execution_count": 35,
   "metadata": {
    "slideshow": {
     "slide_type": "fragment"
    }
   },
   "outputs": [
    {
     "name": "stdout",
     "output_type": "stream",
     "text": [
      "Sum:  45\n",
      "Min:  0\n",
      "Max:  9\n",
      "Avg:  4.5\n",
      "Var:  8.25\n",
      "Std:  2.8722813232690143\n"
     ]
    }
   ],
   "source": [
    "data = np.array([[9, 7, 5, 4, 1], [3, 2, 8, 0, 6]])\n",
    "\n",
    "print(\"Sum: \", data.sum())\n",
    "print(\"Min: \", data.min())\n",
    "print(\"Max: \", data.max())\n",
    "print(\"Avg: \", data.mean())\n",
    "print(\"Var: \", data.var())\n",
    "print(\"Std: \", data.std())"
   ]
  },
  {
   "cell_type": "markdown",
   "metadata": {
    "slideshow": {
     "slide_type": "slide"
    }
   },
   "source": [
    "### Sum, product, min, max\n",
    "\n",
    "Sometimes we are interested on the sum or product of array elements over a given axis:"
   ]
  },
  {
   "cell_type": "code",
   "execution_count": 36,
   "metadata": {
    "slideshow": {
     "slide_type": "fragment"
    }
   },
   "outputs": [
    {
     "name": "stdout",
     "output_type": "stream",
     "text": [
      "Sum over 0-axis: [12  9 13  4  7]\n",
      "Sum over 1-axis: [26 19]\n",
      "\n",
      "Product over 0-axis: [27 14 40  0  6]\n",
      "\n",
      "Product over sum over 1-axis: 494\n",
      "\n",
      "Minimum over 0-axis: [3 2 5 0 1]\n",
      "Maximum over 1-axis: [9 8]\n"
     ]
    }
   ],
   "source": [
    "data = np.array([[9, 7, 5, 4, 1], \n",
    "                 [3, 2, 8, 0, 6]])\n",
    "\n",
    "# This is the sum over all axes\n",
    "assert np.sum(data) == data.sum()\n",
    "\n",
    "print(\"Sum over 0-axis:\", np.sum(data, axis=0))\n",
    "print(\"Sum over 1-axis:\", np.sum(data, axis=1))\n",
    "print()\n",
    "print(\"Product over 0-axis:\", np.prod(data, axis=0))\n",
    "print()\n",
    "print(\"Product over sum over 1-axis:\", np.prod(np.sum(data, axis=1), axis=0))\n",
    "print()\n",
    "print(\"Minimum over 0-axis:\", np.min(data, axis=0))\n",
    "print(\"Maximum over 1-axis:\", np.max(data, axis=1))"
   ]
  },
  {
   "cell_type": "markdown",
   "metadata": {
    "slideshow": {
     "slide_type": "slide"
    }
   },
   "source": [
    "### Arithmetic operations\n",
    "\n",
    "Simple arithmetic operations with arrays require operands of the same size and shape. NumPy makes it easier using __broadcasting__. For example, given array\n",
    "\n",
    "```\n",
    "X = [1, 2, 3, 4]\n",
    "```\n",
    "\n",
    "the operation $X \\times 2$ is equivalent to:\n",
    "\n",
    "```\n",
    "[1, 2, 3, 4] * [2, 2, 2, 2]\n",
    "```\n",
    "\n",
    "In general, two arrays of different shape can be combined in the same expression __without copying data__ based on __two broadcasting rules__:\n",
    "\n",
    "__Rule 1.__ Append `1` to the shape of the array with less dimensions. For example, if array `X` has shape `(3, 3)` and array `Y` has shape `(3)`, then `Y`'s shape becomes `(1, 3)`.\n",
    "\n",
    "__Rule 2.__ Dimensions of size `1` are repeated as many times to the dimension of the other operand. In our example, array `Y`'s row is repeated 3 times to become a $3 \\times 3$ array. "
   ]
  },
  {
   "cell_type": "code",
   "execution_count": 37,
   "metadata": {
    "slideshow": {
     "slide_type": "slide"
    }
   },
   "outputs": [
    {
     "name": "stdout",
     "output_type": "stream",
     "text": [
      "[[ 4  6  8]\n",
      " [10 12 14]\n",
      " [16 18 20]]\n"
     ]
    }
   ],
   "source": [
    "# Add 1 to every element in the array and multiply by 2\n",
    "data = np.arange(1, 10, 1).reshape(3, 3)\n",
    "#\n",
    "# data is:\n",
    "#\n",
    "# [[1 2 3]\n",
    "#  [4 5 6]\n",
    "#  [7 8 9]]\n",
    "#\n",
    "data = (data + 1) * 2\n",
    "print(data)"
   ]
  },
  {
   "cell_type": "markdown",
   "metadata": {
    "slideshow": {
     "slide_type": "slide"
    }
   },
   "source": [
    "Basic arithmetic functions operate element-wise on arrays. Given two arrays, `a` and `b` of dimensions $N \\times M$:\n",
    "\n",
    "| Description    |  Operator | Function                |\n",
    "| :------------- | :---------| :---------------------- |\n",
    "| Addition       | `a + b`   | `np.add(a, b)`          | \n",
    "| Subtraction    | `a – b`   | `np.substract(a, b)`    |\n",
    "| Multiplication | `a * b`   | `np.multiply(a, b)`     |\n",
    "| Exponentiation | `a ** b`  | `np.power(a, b)`        | \n",
    "| True division  | `a / b`   | `np.divide(a, b)`       |\n",
    "| Floor division | `a // b`  | `np.floor_divide(a, b)` |\n",
    "| Remainder      | `a % b`   | `np.mod(a, b)`          |\n",
    "\n",
    "For example:"
   ]
  },
  {
   "cell_type": "code",
   "execution_count": 38,
   "metadata": {
    "slideshow": {
     "slide_type": "fragment"
    }
   },
   "outputs": [
    {
     "name": "stdout",
     "output_type": "stream",
     "text": [
      "[[1.0000e+00 6.4000e+01 2.1870e+03 6.5536e+04]]\n"
     ]
    }
   ],
   "source": [
    "a = np.array([[1, 2, 3, 4]], float)\n",
    "b = np.array([[5, 6, 7, 8]], float)\n",
    "\n",
    "# You can control print options with np.set_printoptions()\n",
    "print(np.power(a, b))\n",
    "\n",
    "# Try out the rest "
   ]
  },
  {
   "cell_type": "markdown",
   "metadata": {
    "slideshow": {
     "slide_type": "slide"
    }
   },
   "source": [
    "There are unary arithhmetic operations too, e.g., `np.floor`, `np.ceil` and `np.rint`.\n",
    "\n",
    "The `floor` of $x$ is smallest integer $i$ where $i \\le x$.\n",
    "\n",
    "The ceiling (`ceil`) of $x$ is largest integer $i$ where $i \\ge x$.\n",
    "\n",
    "The `rint` of $x$ rounds $x$ to the nearest integer."
   ]
  },
  {
   "cell_type": "code",
   "execution_count": 40,
   "metadata": {
    "slideshow": {
     "slide_type": "fragment"
    }
   },
   "outputs": [
    {
     "name": "stdout",
     "output_type": "stream",
     "text": [
      "[1. 2. 3. 4. 5.]\n",
      "[2. 3. 4. 5. 6.]\n",
      "[1. 3. 3. 5. 6.]\n"
     ]
    }
   ],
   "source": [
    "data = np.array([1.1, 2.6, 3.2, 4.8, 5.9])\n",
    "\n",
    "print(np.floor(data))\n",
    "print(np.ceil(data))\n",
    "print(np.rint(data))"
   ]
  },
  {
   "cell_type": "markdown",
   "metadata": {
    "slideshow": {
     "slide_type": "slide"
    }
   },
   "source": [
    "### `np.dot` & matrix multiplications\n",
    "\n",
    "The `np.dot(a, b)` computes the dot product of two arrays. Specifically,\n",
    "\n",
    "* If both `a` and `b` are 1-D arrays (i.e., vectors), it returns the inner product of vectors ($\\sum{(a_i \\times b_i)}$).\n",
    "\n",
    "* If both `a` and `b` are 2-D arrays, it is matrix multiplication (equiv. `a @ b`).\n",
    "\n",
    "* If either `a` or `b` is a scalar, it is equivalent to `np.multiply(a, b)` or `a * b`."
   ]
  },
  {
   "cell_type": "code",
   "execution_count": 41,
   "metadata": {
    "slideshow": {
     "slide_type": "fragment"
    }
   },
   "outputs": [
    {
     "data": {
      "text/plain": [
       "10.0"
      ]
     },
     "execution_count": 41,
     "metadata": {},
     "output_type": "execute_result"
    }
   ],
   "source": [
    "a = np.array([1, 1, 1, 1], float)\n",
    "b = np.array([1, 2, 3, 4], float)\n",
    "\n",
    "# Multiply vectors a and b element-wise and sum the results \n",
    "np.dot(a, b)"
   ]
  },
  {
   "cell_type": "code",
   "execution_count": 42,
   "metadata": {
    "slideshow": {
     "slide_type": "fragment"
    }
   },
   "outputs": [
    {
     "data": {
      "text/plain": [
       "array([[ 7., 10.],\n",
       "       [15., 22.]])"
      ]
     },
     "execution_count": 42,
     "metadata": {},
     "output_type": "execute_result"
    }
   ],
   "source": [
    "a = np.array([[1, 2], [3, 4]], float)\n",
    "b = np.array([[1, 2], [3, 4]], float)\n",
    "\n",
    "#\n",
    "# 1 2  @  1 2  =  (1x1 + 2x3) (1x2 + 2x4)   \n",
    "# 3 4     3 4     (3x1 + 3x4) (3x2 + 4x4)\n",
    "#\n",
    "np.dot(a , b)"
   ]
  },
  {
   "cell_type": "code",
   "execution_count": 46,
   "metadata": {
    "slideshow": {
     "slide_type": "fragment"
    }
   },
   "outputs": [
    {
     "name": "stdout",
     "output_type": "stream",
     "text": [
      "[[ 3.  6.]\n",
      " [ 9. 12.]]\n",
      "\n",
      "[[ 3.  6.]\n",
      " [ 9. 12.]]\n"
     ]
    }
   ],
   "source": [
    "a = np.array([[1, 2], [3, 4]], float)\n",
    "b = 3\n",
    "\n",
    "c = np.dot(a, b)\n",
    "print(c)\n",
    "print()\n",
    "d = np.multiply(a, b)\n",
    "print(d)\n"
   ]
  },
  {
   "cell_type": "markdown",
   "metadata": {
    "slideshow": {
     "slide_type": "slide"
    }
   },
   "source": [
    "### A note on matrix multiplication and matrix dimensions compatibility\n",
    "\n",
    "If either argument array is $n$-dimensional, where $n > 2$, it is treated as a stack of 2-dimensional arrays residing in the last two indices; and the function broadcasts the other array accordingly."
   ]
  },
  {
   "cell_type": "code",
   "execution_count": 50,
   "metadata": {
    "slideshow": {
     "slide_type": "fragment"
    }
   },
   "outputs": [
    {
     "name": "stdout",
     "output_type": "stream",
     "text": [
      "[[1. 1. 1. 1.]\n",
      " [1. 1. 1. 1.]\n",
      " [1. 1. 1. 1.]\n",
      " [1. 1. 1. 1.]\n",
      " [1. 1. 1. 1.]\n",
      " [1. 1. 1. 1.]\n",
      " [1. 1. 1. 1.]\n",
      " [1. 1. 1. 1.]\n",
      " [1. 1. 1. 1.]\n",
      " [1. 1. 1. 1.]\n",
      " [1. 1. 1. 1.]\n",
      " [1. 1. 1. 1.]\n",
      " [1. 1. 1. 1.]\n",
      " [1. 1. 1. 1.]\n",
      " [1. 1. 1. 1.]\n",
      " [1. 1. 1. 1.]\n",
      " [1. 1. 1. 1.]\n",
      " [1. 1. 1. 1.]\n",
      " [1. 1. 1. 1.]\n",
      " [1. 1. 1. 1.]\n",
      " [1. 1. 1. 1.]]\n",
      "\n",
      "[[1. 1. 1.]\n",
      " [1. 1. 1.]\n",
      " [1. 1. 1.]\n",
      " [1. 1. 1.]]\n"
     ]
    },
    {
     "data": {
      "text/plain": [
       "(21, 3)"
      ]
     },
     "execution_count": 50,
     "metadata": {},
     "output_type": "execute_result"
    }
   ],
   "source": [
    "# A stack of three 7 x 4 arrays\n",
    "a = np.ones([3, 7, 4]).reshape(21, 4)\n",
    "print(a)\n",
    "print()\n",
    "# A stack of one 4 x 3 arrays, broadcasted to three\n",
    "c = np.ones([1, 4, 3]).reshape(4, 3)\n",
    "print(c)\n",
    "\n",
    "np.matmul(a, c).shape"
   ]
  },
  {
   "cell_type": "markdown",
   "metadata": {
    "slideshow": {
     "slide_type": "slide"
    }
   },
   "source": [
    "## About Pandas\n",
    "\n",
    "NumPy arrays are optimised for for __homogeneous, numerical__ data, accessed via integer indices. Some datasets, however, contain __heterogeneous, unstructured and missing__ data. \n",
    "\n",
    "A data application, therefore, need to support custom indexing and transform data into an appropriate form for analysis. _Pandas_ is a popular library for dealing with such data.\n",
    "\n",
    "Pandas are built atop `ndarray`s. Pandas object are valid arguments for many NumPy operations and vice versa.\n",
    "\n",
    "There are two key Pandas data collections, `Series` for one-dimensional data and `DataFrames` for two-dimensional data."
   ]
  },
  {
   "cell_type": "code",
   "execution_count": null,
   "metadata": {
    "slideshow": {
     "slide_type": "fragment"
    }
   },
   "outputs": [],
   "source": [
    "import pandas as pd"
   ]
  },
  {
   "cell_type": "markdown",
   "metadata": {
    "slideshow": {
     "slide_type": "slide"
    }
   },
   "source": [
    "## Pandas Series\n",
    "\n",
    "A `Series` is an enhanced one-dimensional `array` that supports non-integer indexing, including strings:\n",
    "\n",
    "```\n",
    "pd.Series(data=None, index=None, dtype=None)\n",
    "```\n",
    "\n",
    "where:\n",
    "\n",
    "* `data` is an array, iterable or dictionary data structure;\n",
    "* `index` is an array of hashable values of the same length as `data`. If not specified, the `Series` has integer indices by default (0, 1, 2 and so on). If `data` is a dictionary, the index will override the dictionary's keys.\n",
    "* `dtype` is the data type of the Series (otherwise inferred from `data`)."
   ]
  },
  {
   "cell_type": "code",
   "execution_count": 59,
   "metadata": {
    "slideshow": {
     "slide_type": "fragment"
    }
   },
   "outputs": [
    {
     "name": "stdout",
     "output_type": "stream",
     "text": [
      "Christopher     87\n",
      "Ada            100\n",
      "Michael         91\n",
      "dtype: int32\n",
      "\n",
      "Christopher     87\n",
      "Ada            100\n",
      "Michael         91\n",
      "dtype: int64\n"
     ]
    }
   ],
   "source": [
    "data = np.array([87, 100, 91])\n",
    "grades = pd.Series(data, index=['Christopher', 'Ada', 'Michael'])\n",
    "print(grades)\n",
    "\n",
    "# Alternatively, the same series can be defined as follows\n",
    "ht = {\"Christopher\": 87, \"Ada\": 100, \"Michael\": 91}\n",
    "grades = pd.Series(ht)\n",
    "print()\n",
    "print(grades)\n",
    "#notice the dtype though changes from int32 to int64"
   ]
  },
  {
   "cell_type": "markdown",
   "metadata": {
    "slideshow": {
     "slide_type": "slide"
    }
   },
   "source": [
    "A Series object is very similar to a dictionary. For example, an item in a Series can be accessed or modified using the index name as a key:"
   ]
  },
  {
   "cell_type": "code",
   "execution_count": 60,
   "metadata": {
    "slideshow": {
     "slide_type": "fragment"
    }
   },
   "outputs": [
    {
     "name": "stdout",
     "output_type": "stream",
     "text": [
      "92\n"
     ]
    }
   ],
   "source": [
    "grades['Michael'] += 1\n",
    "print(grades['Michael'])"
   ]
  },
  {
   "cell_type": "markdown",
   "metadata": {
    "slideshow": {
     "slide_type": "slide"
    }
   },
   "source": [
    "Interestingly, if the index is a string, it is automatically treated as an attribute:"
   ]
  },
  {
   "cell_type": "code",
   "execution_count": 61,
   "metadata": {
    "slideshow": {
     "slide_type": "fragment"
    }
   },
   "outputs": [
    {
     "name": "stdout",
     "output_type": "stream",
     "text": [
      "93\n"
     ]
    }
   ],
   "source": [
    "grades.Michael += 1\n",
    "print(grades.Michael)"
   ]
  },
  {
   "cell_type": "markdown",
   "metadata": {
    "slideshow": {
     "slide_type": "slide"
    }
   },
   "source": [
    "__Iterating__ through a `Series` is similar to a dictionary:"
   ]
  },
  {
   "cell_type": "code",
   "execution_count": 62,
   "metadata": {
    "slideshow": {
     "slide_type": "fragment"
    }
   },
   "outputs": [
    {
     "name": "stdout",
     "output_type": "stream",
     "text": [
      "Christopher  87\n",
      "Ada     100\n",
      "Michael  93\n",
      "- A series of 3 int64 items\n"
     ]
    }
   ],
   "source": [
    "for k, v in grades.items():\n",
    "    print(\"{:7s} {:-3d}\".format(k, v))\n",
    "print(\"- A series of {} {} items\".format(grades.size, grades.dtype))"
   ]
  },
  {
   "cell_type": "markdown",
   "metadata": {
    "slideshow": {
     "slide_type": "slide"
    }
   },
   "source": [
    "### Summary statistics\n",
    "\n",
    "The `Series` object provides many methods for common tasks, including producing various statistics that summarise the central tendancy, dispersion and shape of the data distribution."
   ]
  },
  {
   "cell_type": "code",
   "execution_count": 63,
   "metadata": {
    "slideshow": {
     "slide_type": "fragment"
    }
   },
   "outputs": [
    {
     "data": {
      "text/plain": [
       "count      3.000000\n",
       "mean      93.333333\n",
       "std        6.506407\n",
       "min       87.000000\n",
       "25%       90.000000\n",
       "50%       93.000000\n",
       "75%       96.500000\n",
       "max      100.000000\n",
       "dtype: float64"
      ]
     },
     "execution_count": 63,
     "metadata": {},
     "output_type": "execute_result"
    }
   ],
   "source": [
    "grades.describe()"
   ]
  },
  {
   "cell_type": "markdown",
   "metadata": {
    "slideshow": {
     "slide_type": "slide"
    }
   },
   "source": [
    "## Pandas DataFrames\n",
    "\n",
    "A `DataFrame` is an enhanced two-dimensional array, with custom row and column indices. Each column in a `DataFrame` is a `Series`.  Let's create a DataFrame from a dictionary:"
   ]
  },
  {
   "cell_type": "code",
   "execution_count": 64,
   "metadata": {
    "slideshow": {
     "slide_type": "fragment"
    }
   },
   "outputs": [
    {
     "data": {
      "text/html": [
       "<div>\n",
       "<style scoped>\n",
       "    .dataframe tbody tr th:only-of-type {\n",
       "        vertical-align: middle;\n",
       "    }\n",
       "\n",
       "    .dataframe tbody tr th {\n",
       "        vertical-align: top;\n",
       "    }\n",
       "\n",
       "    .dataframe thead th {\n",
       "        text-align: right;\n",
       "    }\n",
       "</style>\n",
       "<table border=\"1\" class=\"dataframe\">\n",
       "  <thead>\n",
       "    <tr style=\"text-align: right;\">\n",
       "      <th></th>\n",
       "      <th>Christopher</th>\n",
       "      <th>Ada</th>\n",
       "      <th>Michael</th>\n",
       "    </tr>\n",
       "  </thead>\n",
       "  <tbody>\n",
       "    <tr>\n",
       "      <th>A</th>\n",
       "      <td>85</td>\n",
       "      <td>100</td>\n",
       "      <td>65</td>\n",
       "    </tr>\n",
       "    <tr>\n",
       "      <th>B</th>\n",
       "      <td>76</td>\n",
       "      <td>100</td>\n",
       "      <td>65</td>\n",
       "    </tr>\n",
       "    <tr>\n",
       "      <th>C</th>\n",
       "      <td>43</td>\n",
       "      <td>95</td>\n",
       "      <td>65</td>\n",
       "    </tr>\n",
       "    <tr>\n",
       "      <th>D</th>\n",
       "      <td>95</td>\n",
       "      <td>100</td>\n",
       "      <td>65</td>\n",
       "    </tr>\n",
       "  </tbody>\n",
       "</table>\n",
       "</div>"
      ],
      "text/plain": [
       "   Christopher  Ada  Michael\n",
       "A           85  100       65\n",
       "B           76  100       65\n",
       "C           43   95       65\n",
       "D           95  100       65"
      ]
     },
     "execution_count": 64,
     "metadata": {},
     "output_type": "execute_result"
    }
   ],
   "source": [
    "data = {\n",
    "    \"Christopher\": [ 85,  76, 43,  95],\n",
    "    \"Ada\": [100, 100, 95, 100],\n",
    "    \"Michael\": [ 65]\n",
    "}\n",
    "\n",
    "grades = pd.DataFrame(data, index=[\"A\", \"B\", \"C\", \"D\"])\n",
    "grades"
   ]
  },
  {
   "cell_type": "markdown",
   "metadata": {
    "slideshow": {
     "slide_type": "slide"
    }
   },
   "source": [
    "The dictionary keys become the `DataFrame`'s __columns__ and the dictionary values become the row values for every row in the `DataFrame`.\n",
    "\n",
    "A few observations:\n",
    "\n",
    "* By default, row indices are integers, but we have assigned string names in the constructor.\n",
    "\n",
    "* Be careful of the dimensionality of the frame. Conviniently, in the example above, the Pandas implementation uses __broadcasting__ to fill in `Michael`'s missing row values."
   ]
  },
  {
   "cell_type": "markdown",
   "metadata": {
    "slideshow": {
     "slide_type": "slide"
    }
   },
   "source": [
    "### Indexing\n",
    "\n",
    "DataFrames are useful data representations when processing requires frequent indexing operations. As with `Series`, __string column indices__ are accessible as attributes too."
   ]
  },
  {
   "cell_type": "code",
   "execution_count": 65,
   "metadata": {
    "slideshow": {
     "slide_type": "fragment"
    }
   },
   "outputs": [
    {
     "data": {
      "text/plain": [
       "A    85\n",
       "B    76\n",
       "C    43\n",
       "D    95\n",
       "Name: Christopher, dtype: int64"
      ]
     },
     "execution_count": 65,
     "metadata": {},
     "output_type": "execute_result"
    }
   ],
   "source": [
    "grades.Christopher  # Equivalent to grades[\"Christopher\"]"
   ]
  },
  {
   "cell_type": "markdown",
   "metadata": {
    "slideshow": {
     "slide_type": "slide"
    }
   },
   "source": [
    "Each column is a `Series`, so we can access a specific \"cell\" (row, column) thus:"
   ]
  },
  {
   "cell_type": "code",
   "execution_count": 66,
   "metadata": {
    "slideshow": {
     "slide_type": "fragment"
    }
   },
   "outputs": [
    {
     "data": {
      "text/plain": [
       "43"
      ]
     },
     "execution_count": 66,
     "metadata": {},
     "output_type": "execute_result"
    }
   ],
   "source": [
    "grades.Christopher.C"
   ]
  },
  {
   "cell_type": "markdown",
   "metadata": {
    "slideshow": {
     "slide_type": "slide"
    }
   },
   "source": [
    "We can access a specific cell using `at` and `iat`, this time using (row, column) pairs:"
   ]
  },
  {
   "cell_type": "code",
   "execution_count": 67,
   "metadata": {
    "slideshow": {
     "slide_type": "fragment"
    }
   },
   "outputs": [
    {
     "data": {
      "text/plain": [
       "43"
      ]
     },
     "execution_count": 67,
     "metadata": {},
     "output_type": "execute_result"
    }
   ],
   "source": [
    "grades.at['C', 'Christopher']"
   ]
  },
  {
   "cell_type": "code",
   "execution_count": 73,
   "metadata": {
    "slideshow": {
     "slide_type": "fragment"
    }
   },
   "outputs": [
    {
     "name": "stdout",
     "output_type": "stream",
     "text": [
      "43\n",
      "   Christopher  Ada  Michael\n",
      "A           85  100       65\n",
      "B           76  100       65\n",
      "C           43   95       65\n",
      "D           95  100       65\n"
     ]
    }
   ],
   "source": [
    "# Or, equivalently to the above\n",
    "result = grades.iat[2, 0]\n",
    "print(result)\n",
    "print(grades)"
   ]
  },
  {
   "cell_type": "markdown",
   "metadata": {
    "slideshow": {
     "slide_type": "slide"
    }
   },
   "source": [
    "The Pandas library provides two (optimised) methods to access __rows__, __`loc`__ to access them by index name (or _label_) and __`iloc`__ to access them by _index number_. Both methods return rows as a `Series` object."
   ]
  },
  {
   "cell_type": "code",
   "execution_count": 74,
   "metadata": {
    "slideshow": {
     "slide_type": "fragment"
    }
   },
   "outputs": [
    {
     "data": {
      "text/plain": [
       "Christopher     85\n",
       "Ada            100\n",
       "Michael         65\n",
       "Name: A, dtype: int64"
      ]
     },
     "execution_count": 74,
     "metadata": {},
     "output_type": "execute_result"
    }
   ],
   "source": [
    "grades.loc['A']"
   ]
  },
  {
   "cell_type": "code",
   "execution_count": 75,
   "metadata": {
    "slideshow": {
     "slide_type": "fragment"
    }
   },
   "outputs": [
    {
     "data": {
      "text/plain": [
       "Christopher     76\n",
       "Ada            100\n",
       "Michael         65\n",
       "Name: B, dtype: int64"
      ]
     },
     "execution_count": 75,
     "metadata": {},
     "output_type": "execute_result"
    }
   ],
   "source": [
    "grades.iloc[1]"
   ]
  },
  {
   "cell_type": "markdown",
   "metadata": {
    "slideshow": {
     "slide_type": "slide"
    }
   },
   "source": [
    "### Slicing\n",
    "\n",
    "It is possible to select more than one row:"
   ]
  },
  {
   "cell_type": "code",
   "execution_count": 76,
   "metadata": {
    "slideshow": {
     "slide_type": "fragment"
    }
   },
   "outputs": [
    {
     "data": {
      "text/html": [
       "<div>\n",
       "<style scoped>\n",
       "    .dataframe tbody tr th:only-of-type {\n",
       "        vertical-align: middle;\n",
       "    }\n",
       "\n",
       "    .dataframe tbody tr th {\n",
       "        vertical-align: top;\n",
       "    }\n",
       "\n",
       "    .dataframe thead th {\n",
       "        text-align: right;\n",
       "    }\n",
       "</style>\n",
       "<table border=\"1\" class=\"dataframe\">\n",
       "  <thead>\n",
       "    <tr style=\"text-align: right;\">\n",
       "      <th></th>\n",
       "      <th>Christopher</th>\n",
       "      <th>Ada</th>\n",
       "      <th>Michael</th>\n",
       "    </tr>\n",
       "  </thead>\n",
       "  <tbody>\n",
       "    <tr>\n",
       "      <th>A</th>\n",
       "      <td>85</td>\n",
       "      <td>100</td>\n",
       "      <td>65</td>\n",
       "    </tr>\n",
       "    <tr>\n",
       "      <th>C</th>\n",
       "      <td>43</td>\n",
       "      <td>95</td>\n",
       "      <td>65</td>\n",
       "    </tr>\n",
       "  </tbody>\n",
       "</table>\n",
       "</div>"
      ],
      "text/plain": [
       "   Christopher  Ada  Michael\n",
       "A           85  100       65\n",
       "C           43   95       65"
      ]
     },
     "execution_count": 76,
     "metadata": {},
     "output_type": "execute_result"
    }
   ],
   "source": [
    "grades.loc[['A', 'C']]"
   ]
  },
  {
   "cell_type": "code",
   "execution_count": 77,
   "metadata": {
    "slideshow": {
     "slide_type": "fragment"
    }
   },
   "outputs": [
    {
     "data": {
      "text/html": [
       "<div>\n",
       "<style scoped>\n",
       "    .dataframe tbody tr th:only-of-type {\n",
       "        vertical-align: middle;\n",
       "    }\n",
       "\n",
       "    .dataframe tbody tr th {\n",
       "        vertical-align: top;\n",
       "    }\n",
       "\n",
       "    .dataframe thead th {\n",
       "        text-align: right;\n",
       "    }\n",
       "</style>\n",
       "<table border=\"1\" class=\"dataframe\">\n",
       "  <thead>\n",
       "    <tr style=\"text-align: right;\">\n",
       "      <th></th>\n",
       "      <th>Christopher</th>\n",
       "      <th>Ada</th>\n",
       "      <th>Michael</th>\n",
       "    </tr>\n",
       "  </thead>\n",
       "  <tbody>\n",
       "    <tr>\n",
       "      <th>A</th>\n",
       "      <td>85</td>\n",
       "      <td>100</td>\n",
       "      <td>65</td>\n",
       "    </tr>\n",
       "    <tr>\n",
       "      <th>C</th>\n",
       "      <td>43</td>\n",
       "      <td>95</td>\n",
       "      <td>65</td>\n",
       "    </tr>\n",
       "  </tbody>\n",
       "</table>\n",
       "</div>"
      ],
      "text/plain": [
       "   Christopher  Ada  Michael\n",
       "A           85  100       65\n",
       "C           43   95       65"
      ]
     },
     "execution_count": 77,
     "metadata": {},
     "output_type": "execute_result"
    }
   ],
   "source": [
    "grades.iloc[[0, 2]]"
   ]
  },
  {
   "cell_type": "markdown",
   "metadata": {
    "slideshow": {
     "slide_type": "slide"
    }
   },
   "source": [
    "Or, specify a range (e.g. the first three rows). When using numbers to specify a range, the end index is excluded; when using labels, the end index is included."
   ]
  },
  {
   "cell_type": "code",
   "execution_count": 78,
   "metadata": {
    "slideshow": {
     "slide_type": "fragment"
    }
   },
   "outputs": [
    {
     "data": {
      "text/html": [
       "<div>\n",
       "<style scoped>\n",
       "    .dataframe tbody tr th:only-of-type {\n",
       "        vertical-align: middle;\n",
       "    }\n",
       "\n",
       "    .dataframe tbody tr th {\n",
       "        vertical-align: top;\n",
       "    }\n",
       "\n",
       "    .dataframe thead th {\n",
       "        text-align: right;\n",
       "    }\n",
       "</style>\n",
       "<table border=\"1\" class=\"dataframe\">\n",
       "  <thead>\n",
       "    <tr style=\"text-align: right;\">\n",
       "      <th></th>\n",
       "      <th>Christopher</th>\n",
       "      <th>Ada</th>\n",
       "      <th>Michael</th>\n",
       "    </tr>\n",
       "  </thead>\n",
       "  <tbody>\n",
       "    <tr>\n",
       "      <th>A</th>\n",
       "      <td>85</td>\n",
       "      <td>100</td>\n",
       "      <td>65</td>\n",
       "    </tr>\n",
       "    <tr>\n",
       "      <th>B</th>\n",
       "      <td>76</td>\n",
       "      <td>100</td>\n",
       "      <td>65</td>\n",
       "    </tr>\n",
       "    <tr>\n",
       "      <th>C</th>\n",
       "      <td>43</td>\n",
       "      <td>95</td>\n",
       "      <td>65</td>\n",
       "    </tr>\n",
       "  </tbody>\n",
       "</table>\n",
       "</div>"
      ],
      "text/plain": [
       "   Christopher  Ada  Michael\n",
       "A           85  100       65\n",
       "B           76  100       65\n",
       "C           43   95       65"
      ]
     },
     "execution_count": 78,
     "metadata": {},
     "output_type": "execute_result"
    }
   ],
   "source": [
    "grades.iloc[0:3]  # Equivalent to grades.loc['A':'C']"
   ]
  },
  {
   "cell_type": "markdown",
   "metadata": {
    "slideshow": {
     "slide_type": "slide"
    }
   },
   "source": [
    "Finally, we can slice a `DataFrame` by __combining rows $i$ with columns $j$__:\n",
    "\n",
    "* $[[i_{1}, i_{2}, \\dots]$__,__ $[j_{1}, j_{2}, \\dots]]$ selects specific rows ($i_{1}$, $i_{2}$ and so on) and specific columns ($j_{1}$, $j_{2}$ and so on).\n",
    "\n",
    "* $[i_{\\mathrm{start}}:i_{\\mathrm{end}}$__,__ $[j_{1}, j_{2}, \\dots]]$ selects a range of rows (from $i_{\\mathrm{start}}$ to $i_{\\mathrm{end}}$) and specific columns.\n",
    "\n",
    "* $[[i_{1}, i_{2}, \\dots]$__,__ $j_{\\mathrm{start}}:j_{\\mathrm{end}}]$ selects specific rows and a range of columns (from $j_{\\mathrm{start}}$ to $j_{\\mathrm{end}}$).\n",
    "\n",
    "* $[i_{\\mathrm{start}}:i_{\\mathrm{end}}$__,__ $j_{\\mathrm{start}}:j_{\\mathrm{end}}]$ selects a range of rows and a range of columns."
   ]
  },
  {
   "cell_type": "code",
   "execution_count": 79,
   "metadata": {
    "slideshow": {
     "slide_type": "fragment"
    }
   },
   "outputs": [
    {
     "data": {
      "text/html": [
       "<div>\n",
       "<style scoped>\n",
       "    .dataframe tbody tr th:only-of-type {\n",
       "        vertical-align: middle;\n",
       "    }\n",
       "\n",
       "    .dataframe tbody tr th {\n",
       "        vertical-align: top;\n",
       "    }\n",
       "\n",
       "    .dataframe thead th {\n",
       "        text-align: right;\n",
       "    }\n",
       "</style>\n",
       "<table border=\"1\" class=\"dataframe\">\n",
       "  <thead>\n",
       "    <tr style=\"text-align: right;\">\n",
       "      <th></th>\n",
       "      <th>Christopher</th>\n",
       "      <th>Michael</th>\n",
       "    </tr>\n",
       "  </thead>\n",
       "  <tbody>\n",
       "    <tr>\n",
       "      <th>A</th>\n",
       "      <td>85</td>\n",
       "      <td>65</td>\n",
       "    </tr>\n",
       "    <tr>\n",
       "      <th>B</th>\n",
       "      <td>76</td>\n",
       "      <td>65</td>\n",
       "    </tr>\n",
       "  </tbody>\n",
       "</table>\n",
       "</div>"
      ],
      "text/plain": [
       "   Christopher  Michael\n",
       "A           85       65\n",
       "B           76       65"
      ]
     },
     "execution_count": 79,
     "metadata": {},
     "output_type": "execute_result"
    }
   ],
   "source": [
    "grades.iloc[0:2, [0, 2]]"
   ]
  },
  {
   "cell_type": "markdown",
   "metadata": {
    "slideshow": {
     "slide_type": "slide"
    }
   },
   "source": [
    "### Summary statistics\n",
    "\n",
    "The `DataFrame` object provides many methods for common tasks, including producing various statistics that summarise the central tendancy, dispersion and shape of the data distribution."
   ]
  },
  {
   "cell_type": "code",
   "execution_count": 85,
   "metadata": {
    "slideshow": {
     "slide_type": "fragment"
    }
   },
   "outputs": [
    {
     "data": {
      "text/html": [
       "<div>\n",
       "<style scoped>\n",
       "    .dataframe tbody tr th:only-of-type {\n",
       "        vertical-align: middle;\n",
       "    }\n",
       "\n",
       "    .dataframe tbody tr th {\n",
       "        vertical-align: top;\n",
       "    }\n",
       "\n",
       "    .dataframe thead th {\n",
       "        text-align: right;\n",
       "    }\n",
       "</style>\n",
       "<table border=\"1\" class=\"dataframe\">\n",
       "  <thead>\n",
       "    <tr style=\"text-align: right;\">\n",
       "      <th></th>\n",
       "      <th>Christopher</th>\n",
       "      <th>Ada</th>\n",
       "      <th>Michael</th>\n",
       "    </tr>\n",
       "  </thead>\n",
       "  <tbody>\n",
       "    <tr>\n",
       "      <th>count</th>\n",
       "      <td>4.0</td>\n",
       "      <td>4.0</td>\n",
       "      <td>4.0</td>\n",
       "    </tr>\n",
       "    <tr>\n",
       "      <th>mean</th>\n",
       "      <td>74.8</td>\n",
       "      <td>98.8</td>\n",
       "      <td>65.0</td>\n",
       "    </tr>\n",
       "    <tr>\n",
       "      <th>std</th>\n",
       "      <td>22.5</td>\n",
       "      <td>2.5</td>\n",
       "      <td>0.0</td>\n",
       "    </tr>\n",
       "    <tr>\n",
       "      <th>min</th>\n",
       "      <td>43.0</td>\n",
       "      <td>95.0</td>\n",
       "      <td>65.0</td>\n",
       "    </tr>\n",
       "    <tr>\n",
       "      <th>25%</th>\n",
       "      <td>67.8</td>\n",
       "      <td>98.8</td>\n",
       "      <td>65.0</td>\n",
       "    </tr>\n",
       "    <tr>\n",
       "      <th>50%</th>\n",
       "      <td>80.5</td>\n",
       "      <td>100.0</td>\n",
       "      <td>65.0</td>\n",
       "    </tr>\n",
       "    <tr>\n",
       "      <th>75%</th>\n",
       "      <td>87.5</td>\n",
       "      <td>100.0</td>\n",
       "      <td>65.0</td>\n",
       "    </tr>\n",
       "    <tr>\n",
       "      <th>max</th>\n",
       "      <td>95.0</td>\n",
       "      <td>100.0</td>\n",
       "      <td>65.0</td>\n",
       "    </tr>\n",
       "  </tbody>\n",
       "</table>\n",
       "</div>"
      ],
      "text/plain": [
       "       Christopher    Ada  Michael\n",
       "count          4.0    4.0      4.0\n",
       "mean          74.8   98.8     65.0\n",
       "std           22.5    2.5      0.0\n",
       "min           43.0   95.0     65.0\n",
       "25%           67.8   98.8     65.0\n",
       "50%           80.5  100.0     65.0\n",
       "75%           87.5  100.0     65.0\n",
       "max           95.0  100.0     65.0"
      ]
     },
     "execution_count": 85,
     "metadata": {},
     "output_type": "execute_result"
    }
   ],
   "source": [
    "pd.set_option(\"display.precision\", 1)\n",
    "grades.describe() "
   ]
  },
  {
   "cell_type": "markdown",
   "metadata": {
    "slideshow": {
     "slide_type": "slide"
    }
   },
   "source": [
    "### Transposing a DataFrame\n",
    "\n",
    "It is fairly easy to transpose a `DataFrame` - that is, rows to become columns and columns to become rows: "
   ]
  },
  {
   "cell_type": "code",
   "execution_count": 86,
   "metadata": {
    "slideshow": {
     "slide_type": "fragment"
    }
   },
   "outputs": [
    {
     "data": {
      "text/html": [
       "<div>\n",
       "<style scoped>\n",
       "    .dataframe tbody tr th:only-of-type {\n",
       "        vertical-align: middle;\n",
       "    }\n",
       "\n",
       "    .dataframe tbody tr th {\n",
       "        vertical-align: top;\n",
       "    }\n",
       "\n",
       "    .dataframe thead th {\n",
       "        text-align: right;\n",
       "    }\n",
       "</style>\n",
       "<table border=\"1\" class=\"dataframe\">\n",
       "  <thead>\n",
       "    <tr style=\"text-align: right;\">\n",
       "      <th></th>\n",
       "      <th>A</th>\n",
       "      <th>B</th>\n",
       "      <th>C</th>\n",
       "      <th>D</th>\n",
       "    </tr>\n",
       "  </thead>\n",
       "  <tbody>\n",
       "    <tr>\n",
       "      <th>Christopher</th>\n",
       "      <td>85</td>\n",
       "      <td>76</td>\n",
       "      <td>43</td>\n",
       "      <td>95</td>\n",
       "    </tr>\n",
       "    <tr>\n",
       "      <th>Ada</th>\n",
       "      <td>100</td>\n",
       "      <td>100</td>\n",
       "      <td>95</td>\n",
       "      <td>100</td>\n",
       "    </tr>\n",
       "    <tr>\n",
       "      <th>Michael</th>\n",
       "      <td>65</td>\n",
       "      <td>65</td>\n",
       "      <td>65</td>\n",
       "      <td>65</td>\n",
       "    </tr>\n",
       "  </tbody>\n",
       "</table>\n",
       "</div>"
      ],
      "text/plain": [
       "               A    B   C    D\n",
       "Christopher   85   76  43   95\n",
       "Ada          100  100  95  100\n",
       "Michael       65   65  65   65"
      ]
     },
     "execution_count": 86,
     "metadata": {},
     "output_type": "execute_result"
    }
   ],
   "source": [
    "grades.T"
   ]
  },
  {
   "cell_type": "markdown",
   "metadata": {
    "slideshow": {
     "slide_type": "slide"
    }
   },
   "source": [
    "__Exercise in class.__ Suppose that we want to get the average grade by course (that is, 'A' to 'D')."
   ]
  },
  {
   "cell_type": "code",
   "execution_count": 88,
   "metadata": {
    "slideshow": {
     "slide_type": "fragment"
    }
   },
   "outputs": [
    {
     "data": {
      "text/plain": [
       "Christopher    74.8\n",
       "Ada            98.8\n",
       "Michael        65.0\n",
       "dtype: float64"
      ]
     },
     "execution_count": 88,
     "metadata": {},
     "output_type": "execute_result"
    }
   ],
   "source": [
    "# Solve it here.\n",
    "grades.mean()"
   ]
  },
  {
   "cell_type": "markdown",
   "metadata": {
    "slideshow": {
     "slide_type": "slide"
    }
   },
   "source": [
    "### From CSV to DataFrames and back\n",
    "\n",
    "A Comma-Separated Values (CVS) file is a text with one row - a list comma-separated values - per line. The first row is typically, but optionally, a list of column names (the _header_). The `read_csv()` function reads a CSV file into `DataFrame`.\n",
    "\n",
    "There are numerous keyword arguments to the function (see [API reference](https://pandas.pydata.org/pandas-docs/stable/reference/api/pandas.read_csv.html)). For example, you can specify or overide column names with the `names`; specify the absense of a header with `header=None`; and specify which column should serve as an index with `index_col`. "
   ]
  },
  {
   "cell_type": "code",
   "execution_count": 89,
   "metadata": {
    "slideshow": {
     "slide_type": "fragment"
    }
   },
   "outputs": [],
   "source": [
    "# The default column names are 'name' and 'score'. \n",
    "# You can overide them by passing the following as\n",
    "# an argument:\n",
    "# \n",
    "# names=['Student name', 'Grade']\n",
    "#\n",
    "df = pd.read_csv('grades.csv')"
   ]
  },
  {
   "cell_type": "markdown",
   "metadata": {
    "slideshow": {
     "slide_type": "fragment"
    }
   },
   "source": [
    "Use the `to_csv()` method to write or append a `DataFrame` to a CSV file."
   ]
  },
  {
   "cell_type": "markdown",
   "metadata": {
    "slideshow": {
     "slide_type": "slide"
    }
   },
   "source": [
    "### Other supported file formats\n",
    "\n",
    "Besides CSV files, you can read (respectively, write) data stored in various formats including:\n",
    "\n",
    "* Excel spreadsheets (`read_excel`)\n",
    "* HTML tables (`read_html`)\n",
    "* JSON strings (`read_json`)\n",
    "* Fixed-width formatted lines (`read_fwf`)"
   ]
  },
  {
   "cell_type": "markdown",
   "metadata": {
    "slideshow": {
     "slide_type": "slide"
    }
   },
   "source": [
    "### A. Views versus copies\n",
    "\n",
    "If you __slice__ an array or data frame for any reason other than __an immediate analysis or visualisation of the data__, you should __make a copy__ of that slice.\n",
    "\n",
    "For example, the `pandas` library will raise a warning if we try to modify the base data frame indirectly from a slide, but not the other way around."
   ]
  },
  {
   "cell_type": "code",
   "execution_count": 90,
   "metadata": {
    "slideshow": {
     "slide_type": "fragment"
    }
   },
   "outputs": [
    {
     "data": {
      "text/html": [
       "<div>\n",
       "<style scoped>\n",
       "    .dataframe tbody tr th:only-of-type {\n",
       "        vertical-align: middle;\n",
       "    }\n",
       "\n",
       "    .dataframe tbody tr th {\n",
       "        vertical-align: top;\n",
       "    }\n",
       "\n",
       "    .dataframe thead th {\n",
       "        text-align: right;\n",
       "    }\n",
       "</style>\n",
       "<table border=\"1\" class=\"dataframe\">\n",
       "  <thead>\n",
       "    <tr style=\"text-align: right;\">\n",
       "      <th></th>\n",
       "      <th>x</th>\n",
       "      <th>y</th>\n",
       "    </tr>\n",
       "  </thead>\n",
       "  <tbody>\n",
       "    <tr>\n",
       "      <th>0</th>\n",
       "      <td>0</td>\n",
       "      <td>a</td>\n",
       "    </tr>\n",
       "    <tr>\n",
       "      <th>1</th>\n",
       "      <td>1</td>\n",
       "      <td>b</td>\n",
       "    </tr>\n",
       "    <tr>\n",
       "      <th>2</th>\n",
       "      <td>2</td>\n",
       "      <td>c</td>\n",
       "    </tr>\n",
       "    <tr>\n",
       "      <th>3</th>\n",
       "      <td>3</td>\n",
       "      <td>d</td>\n",
       "    </tr>\n",
       "  </tbody>\n",
       "</table>\n",
       "</div>"
      ],
      "text/plain": [
       "   x  y\n",
       "0  0  a\n",
       "1  1  b\n",
       "2  2  c\n",
       "3  3  d"
      ]
     },
     "execution_count": 90,
     "metadata": {},
     "output_type": "execute_result"
    }
   ],
   "source": [
    "df = pd.DataFrame({'x': np.arange(4), 'y': ['a', 'b', 'c', 'd']})\n",
    "df"
   ]
  },
  {
   "cell_type": "code",
   "execution_count": 91,
   "metadata": {
    "slideshow": {
     "slide_type": "fragment"
    }
   },
   "outputs": [
    {
     "data": {
      "text/html": [
       "<div>\n",
       "<style scoped>\n",
       "    .dataframe tbody tr th:only-of-type {\n",
       "        vertical-align: middle;\n",
       "    }\n",
       "\n",
       "    .dataframe tbody tr th {\n",
       "        vertical-align: top;\n",
       "    }\n",
       "\n",
       "    .dataframe thead th {\n",
       "        text-align: right;\n",
       "    }\n",
       "</style>\n",
       "<table border=\"1\" class=\"dataframe\">\n",
       "  <thead>\n",
       "    <tr style=\"text-align: right;\">\n",
       "      <th></th>\n",
       "      <th>x</th>\n",
       "      <th>y</th>\n",
       "    </tr>\n",
       "  </thead>\n",
       "  <tbody>\n",
       "    <tr>\n",
       "      <th>0</th>\n",
       "      <td>0</td>\n",
       "      <td>a</td>\n",
       "    </tr>\n",
       "    <tr>\n",
       "      <th>1</th>\n",
       "      <td>1</td>\n",
       "      <td>b</td>\n",
       "    </tr>\n",
       "  </tbody>\n",
       "</table>\n",
       "</div>"
      ],
      "text/plain": [
       "   x  y\n",
       "0  0  a\n",
       "1  1  b"
      ]
     },
     "execution_count": 91,
     "metadata": {},
     "output_type": "execute_result"
    }
   ],
   "source": [
    "# Let's create a slice of the first two rows\n",
    "sl = df.iloc[:2,]\n",
    "sl"
   ]
  },
  {
   "cell_type": "code",
   "execution_count": 94,
   "metadata": {
    "slideshow": {
     "slide_type": "fragment"
    }
   },
   "outputs": [
    {
     "name": "stdout",
     "output_type": "stream",
     "text": [
      "    x  y\n",
      "0  10  a\n",
      "1   1  b\n"
     ]
    }
   ],
   "source": [
    "# Let's try to modify an element of the slide\n",
    "sl.iloc[0, 0] = 10\n",
    "print(sl)"
   ]
  },
  {
   "cell_type": "code",
   "execution_count": 95,
   "metadata": {
    "slideshow": {
     "slide_type": "fragment"
    }
   },
   "outputs": [
    {
     "data": {
      "text/html": [
       "<div>\n",
       "<style scoped>\n",
       "    .dataframe tbody tr th:only-of-type {\n",
       "        vertical-align: middle;\n",
       "    }\n",
       "\n",
       "    .dataframe tbody tr th {\n",
       "        vertical-align: top;\n",
       "    }\n",
       "\n",
       "    .dataframe thead th {\n",
       "        text-align: right;\n",
       "    }\n",
       "</style>\n",
       "<table border=\"1\" class=\"dataframe\">\n",
       "  <thead>\n",
       "    <tr style=\"text-align: right;\">\n",
       "      <th></th>\n",
       "      <th>x</th>\n",
       "      <th>y</th>\n",
       "    </tr>\n",
       "  </thead>\n",
       "  <tbody>\n",
       "    <tr>\n",
       "      <th>0</th>\n",
       "      <td>10</td>\n",
       "      <td>a</td>\n",
       "    </tr>\n",
       "    <tr>\n",
       "      <th>1</th>\n",
       "      <td>1</td>\n",
       "      <td>b</td>\n",
       "    </tr>\n",
       "  </tbody>\n",
       "</table>\n",
       "</div>"
      ],
      "text/plain": [
       "    x  y\n",
       "0  10  a\n",
       "1   1  b"
      ]
     },
     "execution_count": 95,
     "metadata": {},
     "output_type": "execute_result"
    }
   ],
   "source": [
    "# But there is no warning if the slice is modified\n",
    "# due to changes in the base data frame\n",
    "df.iloc[0,0] = 10\n",
    "sl"
   ]
  },
  {
   "cell_type": "markdown",
   "metadata": {
    "slideshow": {
     "slide_type": "slide"
    }
   },
   "source": []
  }
 ],
 "metadata": {
  "celltoolbar": "Slideshow",
  "kernelspec": {
   "display_name": "Python 3 (ipykernel)",
   "language": "python",
   "name": "python3"
  },
  "language_info": {
   "codemirror_mode": {
    "name": "ipython",
    "version": 3
   },
   "file_extension": ".py",
   "mimetype": "text/x-python",
   "name": "python",
   "nbconvert_exporter": "python",
   "pygments_lexer": "ipython3",
   "version": "3.10.6"
  }
 },
 "nbformat": 4,
 "nbformat_minor": 2
}
