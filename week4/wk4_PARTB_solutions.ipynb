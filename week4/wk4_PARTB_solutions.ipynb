{
 "cells": [
  {
   "cell_type": "markdown",
   "id": "3b70c4d9",
   "metadata": {},
   "source": [
    "# Comprehensive Analysis for Environmental Dataset\n",
    "This notebook provides a comprehensive analysis of the 'TEMP', 'pm2.5', and 'PRES' columns, including:\n",
    "1. Loading the dataset.\n",
    "2. Descriptive statistics, separated by individual summary statistics (mean, standard deviation, etc.).\n",
    "3. Yearly mean and standard deviation.\n",
    "4. Additional summary measures (skewness, kurtosis, IQR)."
   ]
  },
  {
   "cell_type": "markdown",
   "id": "5b000472",
   "metadata": {},
   "source": [
    "## 1. Loading the Dataset\n",
    "We begin by loading the dataset and inspecting its first few rows.\n"
   ]
  },
  {
   "cell_type": "code",
   "execution_count": 11,
   "id": "28932112",
   "metadata": {},
   "outputs": [
    {
     "data": {
      "text/html": [
       "<div>\n",
       "<style scoped>\n",
       "    .dataframe tbody tr th:only-of-type {\n",
       "        vertical-align: middle;\n",
       "    }\n",
       "\n",
       "    .dataframe tbody tr th {\n",
       "        vertical-align: top;\n",
       "    }\n",
       "\n",
       "    .dataframe thead th {\n",
       "        text-align: right;\n",
       "    }\n",
       "</style>\n",
       "<table border=\"1\" class=\"dataframe\">\n",
       "  <thead>\n",
       "    <tr style=\"text-align: right;\">\n",
       "      <th></th>\n",
       "      <th>time</th>\n",
       "      <th>year</th>\n",
       "      <th>month</th>\n",
       "      <th>day</th>\n",
       "      <th>hour</th>\n",
       "      <th>pm2.5</th>\n",
       "      <th>DEWP</th>\n",
       "      <th>TEMP</th>\n",
       "      <th>PRES</th>\n",
       "      <th>cbwd</th>\n",
       "      <th>Iws</th>\n",
       "      <th>Is</th>\n",
       "      <th>Ir</th>\n",
       "    </tr>\n",
       "  </thead>\n",
       "  <tbody>\n",
       "    <tr>\n",
       "      <th>0</th>\n",
       "      <td>01/01/2010 00:00</td>\n",
       "      <td>2010</td>\n",
       "      <td>1</td>\n",
       "      <td>1</td>\n",
       "      <td>0</td>\n",
       "      <td>NaN</td>\n",
       "      <td>-21</td>\n",
       "      <td>-11.0</td>\n",
       "      <td>1021.0</td>\n",
       "      <td>NW</td>\n",
       "      <td>1.79</td>\n",
       "      <td>0</td>\n",
       "      <td>0</td>\n",
       "    </tr>\n",
       "    <tr>\n",
       "      <th>1</th>\n",
       "      <td>01/01/2010 01:00</td>\n",
       "      <td>2010</td>\n",
       "      <td>1</td>\n",
       "      <td>1</td>\n",
       "      <td>1</td>\n",
       "      <td>NaN</td>\n",
       "      <td>-21</td>\n",
       "      <td>-12.0</td>\n",
       "      <td>1020.0</td>\n",
       "      <td>NW</td>\n",
       "      <td>4.92</td>\n",
       "      <td>0</td>\n",
       "      <td>0</td>\n",
       "    </tr>\n",
       "    <tr>\n",
       "      <th>2</th>\n",
       "      <td>01/01/2010 02:00</td>\n",
       "      <td>2010</td>\n",
       "      <td>1</td>\n",
       "      <td>1</td>\n",
       "      <td>2</td>\n",
       "      <td>NaN</td>\n",
       "      <td>-21</td>\n",
       "      <td>-11.0</td>\n",
       "      <td>1019.0</td>\n",
       "      <td>NW</td>\n",
       "      <td>6.71</td>\n",
       "      <td>0</td>\n",
       "      <td>0</td>\n",
       "    </tr>\n",
       "    <tr>\n",
       "      <th>3</th>\n",
       "      <td>01/01/2010 06:00</td>\n",
       "      <td>2010</td>\n",
       "      <td>1</td>\n",
       "      <td>1</td>\n",
       "      <td>6</td>\n",
       "      <td>NaN</td>\n",
       "      <td>-19</td>\n",
       "      <td>-9.0</td>\n",
       "      <td>1017.0</td>\n",
       "      <td>NW</td>\n",
       "      <td>19.23</td>\n",
       "      <td>0</td>\n",
       "      <td>0</td>\n",
       "    </tr>\n",
       "    <tr>\n",
       "      <th>4</th>\n",
       "      <td>01/01/2010 03:00</td>\n",
       "      <td>2010</td>\n",
       "      <td>1</td>\n",
       "      <td>1</td>\n",
       "      <td>3</td>\n",
       "      <td>NaN</td>\n",
       "      <td>-21</td>\n",
       "      <td>-14.0</td>\n",
       "      <td>1019.0</td>\n",
       "      <td>NW</td>\n",
       "      <td>9.84</td>\n",
       "      <td>0</td>\n",
       "      <td>0</td>\n",
       "    </tr>\n",
       "  </tbody>\n",
       "</table>\n",
       "</div>"
      ],
      "text/plain": [
       "               time  year  month  day  hour  pm2.5  DEWP  TEMP    PRES cbwd  \\\n",
       "0  01/01/2010 00:00  2010      1    1     0    NaN   -21 -11.0  1021.0   NW   \n",
       "1  01/01/2010 01:00  2010      1    1     1    NaN   -21 -12.0  1020.0   NW   \n",
       "2  01/01/2010 02:00  2010      1    1     2    NaN   -21 -11.0  1019.0   NW   \n",
       "3  01/01/2010 06:00  2010      1    1     6    NaN   -19  -9.0  1017.0   NW   \n",
       "4  01/01/2010 03:00  2010      1    1     3    NaN   -21 -14.0  1019.0   NW   \n",
       "\n",
       "     Iws  Is  Ir  \n",
       "0   1.79   0   0  \n",
       "1   4.92   0   0  \n",
       "2   6.71   0   0  \n",
       "3  19.23   0   0  \n",
       "4   9.84   0   0  "
      ]
     },
     "execution_count": 11,
     "metadata": {},
     "output_type": "execute_result"
    }
   ],
   "source": [
    "import pandas as pd\n",
    "file_path = 'Enviromental_dataset.csv'\n",
    "df = pd.read_csv(file_path)\n",
    "df.head()"
   ]
  },
  {
   "cell_type": "markdown",
   "id": "8178c8ef",
   "metadata": {
    "hide_input": true
   },
   "source": [
    "## 2. Mean for 'TEMP', 'pm2.5', and 'PRES'\n",
    "We calculate the mean for the 'TEMP', 'pm2.5', and 'PRES' columns.\n"
   ]
  },
  {
   "cell_type": "code",
   "execution_count": 2,
   "id": "bedbc925",
   "metadata": {
    "hide_input": false
   },
   "outputs": [],
   "source": [
    "columns_of_interest = ['pm2.5', 'TEMP', 'PRES']\n"
   ]
  },
  {
   "cell_type": "code",
   "execution_count": 3,
   "id": "5f1e47d1",
   "metadata": {
    "hide_input": false
   },
   "outputs": [
    {
     "data": {
      "text/plain": [
       "pm2.5      97.784018\n",
       "TEMP       12.448521\n",
       "PRES     1016.447654\n",
       "dtype: float64"
      ]
     },
     "execution_count": 3,
     "metadata": {},
     "output_type": "execute_result"
    }
   ],
   "source": [
    "# Solution\n",
    "\n",
    "df[columns_of_interest].mean()"
   ]
  },
  {
   "cell_type": "markdown",
   "id": "b9220c9f",
   "metadata": {},
   "source": [
    "## 3. Standard Deviation for 'TEMP', 'pm2.5', and 'PRES'\n",
    "We calculate the standard deviation for the 'TEMP', 'pm2.5', and 'PRES' columns.\n"
   ]
  },
  {
   "cell_type": "code",
   "execution_count": 4,
   "id": "28483584",
   "metadata": {
    "hide_input": false
   },
   "outputs": [
    {
     "data": {
      "text/plain": [
       "pm2.5    91.398542\n",
       "TEMP     12.198613\n",
       "PRES     10.268698\n",
       "dtype: float64"
      ]
     },
     "execution_count": 4,
     "metadata": {},
     "output_type": "execute_result"
    }
   ],
   "source": [
    "# Solution\n",
    "\n",
    "df[columns_of_interest].std()"
   ]
  },
  {
   "cell_type": "markdown",
   "id": "ca38af87",
   "metadata": {},
   "source": [
    "## 4. Minimum for 'TEMP', 'pm2.5', and 'PRES'\n",
    "We calculate the minimum values for the 'TEMP', 'pm2.5', and 'PRES' columns.\n"
   ]
  },
  {
   "cell_type": "code",
   "execution_count": 5,
   "id": "a9f7f31b",
   "metadata": {
    "hide_input": false
   },
   "outputs": [
    {
     "data": {
      "text/plain": [
       "pm2.5      0.0\n",
       "TEMP     -19.0\n",
       "PRES     991.0\n",
       "dtype: float64"
      ]
     },
     "execution_count": 5,
     "metadata": {},
     "output_type": "execute_result"
    }
   ],
   "source": [
    "# Solution\n",
    "\n",
    "df[columns_of_interest].min()"
   ]
  },
  {
   "cell_type": "markdown",
   "id": "f3fbfbde",
   "metadata": {},
   "source": [
    "## 5. Maximum for 'TEMP', 'pm2.5', and 'PRES'\n",
    "We calculate the maximum values for the 'TEMP', 'pm2.5', and 'PRES' columns.\n"
   ]
  },
  {
   "cell_type": "code",
   "execution_count": 6,
   "id": "9910a6bb",
   "metadata": {
    "hide_input": false
   },
   "outputs": [
    {
     "data": {
      "text/plain": [
       "pm2.5     994.0\n",
       "TEMP       42.0\n",
       "PRES     1046.0\n",
       "dtype: float64"
      ]
     },
     "execution_count": 6,
     "metadata": {},
     "output_type": "execute_result"
    }
   ],
   "source": [
    "# Solution\n",
    "\n",
    "df[columns_of_interest].max()"
   ]
  },
  {
   "cell_type": "markdown",
   "id": "dbea89c1",
   "metadata": {
    "hide_input": true
   },
   "source": [
    "## 6. 50% Quantile for 'TEMP', 'pm2.5', and 'PRES'\n",
    "We calculate the 50% Quantile for the 'TEMP', 'pm2.5', and 'PRES' columns.\n"
   ]
  },
  {
   "cell_type": "code",
   "execution_count": 7,
   "id": "f3601719",
   "metadata": {
    "hide_input": false
   },
   "outputs": [
    {
     "data": {
      "text/plain": [
       "pm2.5      72.0\n",
       "TEMP       14.0\n",
       "PRES     1016.0\n",
       "Name: 0.5, dtype: float64"
      ]
     },
     "execution_count": 7,
     "metadata": {},
     "output_type": "execute_result"
    }
   ],
   "source": [
    "# Solution\n",
    "\n",
    "\n",
    "df[columns_of_interest].quantile(0.5)"
   ]
  },
  {
   "cell_type": "markdown",
   "id": "6e433bc4",
   "metadata": {},
   "source": [
    "## 7. Median for 'TEMP', 'pm2.5', and 'PRES'\n",
    "We calculate the median values for the 'TEMP', 'pm2.5', and 'PRES' columns.\n"
   ]
  },
  {
   "cell_type": "code",
   "execution_count": 8,
   "id": "49539606",
   "metadata": {
    "hide_input": false
   },
   "outputs": [
    {
     "data": {
      "text/plain": [
       "pm2.5      72.0\n",
       "TEMP       14.0\n",
       "PRES     1016.0\n",
       "dtype: float64"
      ]
     },
     "execution_count": 8,
     "metadata": {},
     "output_type": "execute_result"
    }
   ],
   "source": [
    "# Solution\n",
    "\n",
    "\n",
    "df[columns_of_interest].median()"
   ]
  },
  {
   "cell_type": "markdown",
   "id": "273d8875",
   "metadata": {},
   "source": [
    "## 8. Yearly Mean and Standard Deviation for 'TEMP', 'pm2.5', and 'PRES'\n",
    "Finally, we calculate the yearly mean and standard deviation for the 'TEMP', 'pm2.5', and 'PRES' columns.\n"
   ]
  },
  {
   "cell_type": "code",
   "execution_count": 10,
   "id": "25caec4a",
   "metadata": {
    "collapsed": true,
    "hide_input": true,
    "jupyter": {
     "outputs_hidden": true
    }
   },
   "outputs": [
    {
     "name": "stdout",
     "output_type": "stream",
     "text": [
      "            pm2.5       TEMP         PRES\n",
      "year                                     \n",
      "2010.0  95.379953  11.616319  1016.084057\n",
      "2011.0  85.727720  13.041667  1016.964988\n",
      "2012.0  81.307581  11.989294  1016.002025\n",
      "2013.0  97.206308  12.227431  1015.837384\n",
      "2014.0  81.844039  12.882813  1017.043113\n",
      "            pm2.5       TEMP       PRES\n",
      "year                                   \n",
      "2010.0  84.197888  13.010574   9.772948\n",
      "2011.0  79.675679  11.850199  10.912370\n",
      "2012.0  70.457689  12.827979  10.828528\n",
      "2013.0  96.598987  12.136742  10.447562\n",
      "2014.0  76.894517  11.794867  10.109338\n"
     ]
    },
    {
     "data": {
      "text/html": [
       "<div>\n",
       "<style scoped>\n",
       "    .dataframe tbody tr th:only-of-type {\n",
       "        vertical-align: middle;\n",
       "    }\n",
       "\n",
       "    .dataframe tbody tr th {\n",
       "        vertical-align: top;\n",
       "    }\n",
       "\n",
       "    .dataframe thead tr th {\n",
       "        text-align: left;\n",
       "    }\n",
       "\n",
       "    .dataframe thead tr:last-of-type th {\n",
       "        text-align: right;\n",
       "    }\n",
       "</style>\n",
       "<table border=\"1\" class=\"dataframe\">\n",
       "  <thead>\n",
       "    <tr>\n",
       "      <th></th>\n",
       "      <th colspan=\"2\" halign=\"left\">pm2.5</th>\n",
       "      <th colspan=\"2\" halign=\"left\">TEMP</th>\n",
       "      <th colspan=\"2\" halign=\"left\">PRES</th>\n",
       "    </tr>\n",
       "    <tr>\n",
       "      <th></th>\n",
       "      <th>mean</th>\n",
       "      <th>std</th>\n",
       "      <th>mean</th>\n",
       "      <th>std</th>\n",
       "      <th>mean</th>\n",
       "      <th>std</th>\n",
       "    </tr>\n",
       "    <tr>\n",
       "      <th>year</th>\n",
       "      <th></th>\n",
       "      <th></th>\n",
       "      <th></th>\n",
       "      <th></th>\n",
       "      <th></th>\n",
       "      <th></th>\n",
       "    </tr>\n",
       "  </thead>\n",
       "  <tbody>\n",
       "    <tr>\n",
       "      <th>2010.0</th>\n",
       "      <td>95.379953</td>\n",
       "      <td>84.197888</td>\n",
       "      <td>11.616319</td>\n",
       "      <td>13.010574</td>\n",
       "      <td>1016.084057</td>\n",
       "      <td>9.772948</td>\n",
       "    </tr>\n",
       "    <tr>\n",
       "      <th>2011.0</th>\n",
       "      <td>85.727720</td>\n",
       "      <td>79.675679</td>\n",
       "      <td>13.041667</td>\n",
       "      <td>11.850199</td>\n",
       "      <td>1016.964988</td>\n",
       "      <td>10.912370</td>\n",
       "    </tr>\n",
       "    <tr>\n",
       "      <th>2012.0</th>\n",
       "      <td>81.307581</td>\n",
       "      <td>70.457689</td>\n",
       "      <td>11.989294</td>\n",
       "      <td>12.827979</td>\n",
       "      <td>1016.002025</td>\n",
       "      <td>10.828528</td>\n",
       "    </tr>\n",
       "    <tr>\n",
       "      <th>2013.0</th>\n",
       "      <td>97.206308</td>\n",
       "      <td>96.598987</td>\n",
       "      <td>12.227431</td>\n",
       "      <td>12.136742</td>\n",
       "      <td>1015.837384</td>\n",
       "      <td>10.447562</td>\n",
       "    </tr>\n",
       "    <tr>\n",
       "      <th>2014.0</th>\n",
       "      <td>81.844039</td>\n",
       "      <td>76.894517</td>\n",
       "      <td>12.882813</td>\n",
       "      <td>11.794867</td>\n",
       "      <td>1017.043113</td>\n",
       "      <td>10.109338</td>\n",
       "    </tr>\n",
       "  </tbody>\n",
       "</table>\n",
       "</div>"
      ],
      "text/plain": [
       "            pm2.5                  TEMP                    PRES           \n",
       "             mean        std       mean        std         mean        std\n",
       "year                                                                      \n",
       "2010.0  95.379953  84.197888  11.616319  13.010574  1016.084057   9.772948\n",
       "2011.0  85.727720  79.675679  13.041667  11.850199  1016.964988  10.912370\n",
       "2012.0  81.307581  70.457689  11.989294  12.827979  1016.002025  10.828528\n",
       "2013.0  97.206308  96.598987  12.227431  12.136742  1015.837384  10.447562\n",
       "2014.0  81.844039  76.894517  12.882813  11.794867  1017.043113  10.109338"
      ]
     },
     "execution_count": 10,
     "metadata": {},
     "output_type": "execute_result"
    }
   ],
   "source": [
    "# Solution\n",
    "\n",
    "\n",
    "# Extract year from 'time' and calculate yearly stats\n",
    "df['year'] = pd.to_datetime(df['time'], errors='coerce').dt.year\n",
    "\n",
    "\n",
    "yearly_mean = df.groupby('year')[columns_of_interest].mean()\n",
    "print(yearly_mean)\n",
    "\n",
    "yearly_std = df.groupby('year')[columns_of_interest].std()\n",
    "\n",
    "print(yearly_std)\n",
    "\n",
    "## Both statistics in one shot\n",
    "yearly_stats = df.groupby('year')[columns_of_interest].agg(['mean', 'std'])\n",
    "yearly_stats"
   ]
  },
  {
   "cell_type": "code",
   "execution_count": 16,
   "id": "00bb661f",
   "metadata": {
    "collapsed": true,
    "hide_input": true,
    "jupyter": {
     "outputs_hidden": true
    }
   },
   "outputs": [
    {
     "data": {
      "text/html": [
       "<div>\n",
       "<style scoped>\n",
       "    .dataframe tbody tr th:only-of-type {\n",
       "        vertical-align: middle;\n",
       "    }\n",
       "\n",
       "    .dataframe tbody tr th {\n",
       "        vertical-align: top;\n",
       "    }\n",
       "\n",
       "    .dataframe thead th {\n",
       "        text-align: right;\n",
       "    }\n",
       "</style>\n",
       "<table border=\"1\" class=\"dataframe\">\n",
       "  <thead>\n",
       "    <tr style=\"text-align: right;\">\n",
       "      <th></th>\n",
       "      <th>pm2.5</th>\n",
       "      <th>TEMP</th>\n",
       "      <th>PRES</th>\n",
       "    </tr>\n",
       "  </thead>\n",
       "  <tbody>\n",
       "    <tr>\n",
       "      <th>count</th>\n",
       "      <td>43800.000000</td>\n",
       "      <td>43824.000000</td>\n",
       "      <td>43824.000000</td>\n",
       "    </tr>\n",
       "    <tr>\n",
       "      <th>mean</th>\n",
       "      <td>97.784018</td>\n",
       "      <td>12.448521</td>\n",
       "      <td>1016.447654</td>\n",
       "    </tr>\n",
       "    <tr>\n",
       "      <th>std</th>\n",
       "      <td>91.398542</td>\n",
       "      <td>12.198613</td>\n",
       "      <td>10.268698</td>\n",
       "    </tr>\n",
       "    <tr>\n",
       "      <th>min</th>\n",
       "      <td>0.000000</td>\n",
       "      <td>-19.000000</td>\n",
       "      <td>991.000000</td>\n",
       "    </tr>\n",
       "    <tr>\n",
       "      <th>25%</th>\n",
       "      <td>29.000000</td>\n",
       "      <td>2.000000</td>\n",
       "      <td>1008.000000</td>\n",
       "    </tr>\n",
       "    <tr>\n",
       "      <th>50%</th>\n",
       "      <td>72.000000</td>\n",
       "      <td>14.000000</td>\n",
       "      <td>1016.000000</td>\n",
       "    </tr>\n",
       "    <tr>\n",
       "      <th>75%</th>\n",
       "      <td>136.000000</td>\n",
       "      <td>23.000000</td>\n",
       "      <td>1025.000000</td>\n",
       "    </tr>\n",
       "    <tr>\n",
       "      <th>max</th>\n",
       "      <td>994.000000</td>\n",
       "      <td>42.000000</td>\n",
       "      <td>1046.000000</td>\n",
       "    </tr>\n",
       "  </tbody>\n",
       "</table>\n",
       "</div>"
      ],
      "text/plain": [
       "              pm2.5          TEMP          PRES\n",
       "count  43800.000000  43824.000000  43824.000000\n",
       "mean      97.784018     12.448521   1016.447654\n",
       "std       91.398542     12.198613     10.268698\n",
       "min        0.000000    -19.000000    991.000000\n",
       "25%       29.000000      2.000000   1008.000000\n",
       "50%       72.000000     14.000000   1016.000000\n",
       "75%      136.000000     23.000000   1025.000000\n",
       "max      994.000000     42.000000   1046.000000"
      ]
     },
     "execution_count": 16,
     "metadata": {},
     "output_type": "execute_result"
    }
   ],
   "source": [
    "# Alternative solution to get all information in one shot\n",
    "\n",
    "df[columns_of_interest].describe()"
   ]
  },
  {
   "cell_type": "markdown",
   "id": "1113ae5e",
   "metadata": {},
   "source": [
    "## Appendix. Additional Summary Statistics (Skewness, Kurtosis, IQR)\n",
    "We calculate additional summary statistics including skewness, kurtosis, and the interquartile range (IQR) for the 'TEMP', 'pm2.5', and 'PRES' columns.\n"
   ]
  },
  {
   "cell_type": "code",
   "execution_count": 8,
   "id": "d4b1ffbf",
   "metadata": {},
   "outputs": [
    {
     "data": {
      "text/html": [
       "<div>\n",
       "<style scoped>\n",
       "    .dataframe tbody tr th:only-of-type {\n",
       "        vertical-align: middle;\n",
       "    }\n",
       "\n",
       "    .dataframe tbody tr th {\n",
       "        vertical-align: top;\n",
       "    }\n",
       "\n",
       "    .dataframe thead th {\n",
       "        text-align: right;\n",
       "    }\n",
       "</style>\n",
       "<table border=\"1\" class=\"dataframe\">\n",
       "  <thead>\n",
       "    <tr style=\"text-align: right;\">\n",
       "      <th></th>\n",
       "      <th>Skewness</th>\n",
       "      <th>Kurtosis</th>\n",
       "      <th>IQR</th>\n",
       "    </tr>\n",
       "  </thead>\n",
       "  <tbody>\n",
       "    <tr>\n",
       "      <th>pm2.5</th>\n",
       "      <td>1.823656</td>\n",
       "      <td>5.032758</td>\n",
       "      <td>107.0</td>\n",
       "    </tr>\n",
       "    <tr>\n",
       "      <th>TEMP</th>\n",
       "      <td>-0.163304</td>\n",
       "      <td>-1.110977</td>\n",
       "      <td>21.0</td>\n",
       "    </tr>\n",
       "    <tr>\n",
       "      <th>PRES</th>\n",
       "      <td>0.098207</td>\n",
       "      <td>-0.846462</td>\n",
       "      <td>17.0</td>\n",
       "    </tr>\n",
       "  </tbody>\n",
       "</table>\n",
       "</div>"
      ],
      "text/plain": [
       "       Skewness  Kurtosis    IQR\n",
       "pm2.5  1.823656  5.032758  107.0\n",
       "TEMP  -0.163304 -1.110977   21.0\n",
       "PRES   0.098207 -0.846462   17.0"
      ]
     },
     "execution_count": 8,
     "metadata": {},
     "output_type": "execute_result"
    }
   ],
   "source": [
    "additional_stats = pd.DataFrame({\n",
    "    'Skewness': df[columns_of_interest].skew(),\n",
    "    'Kurtosis': df[columns_of_interest].kurt(),\n",
    "    'IQR': df[columns_of_interest].quantile(0.75) - df[columns_of_interest].quantile(0.25)\n",
    "})\n",
    "additional_stats"
   ]
  }
 ],
 "metadata": {
  "kernelspec": {
   "display_name": "Python 3 (ipykernel)",
   "language": "python",
   "name": "python3"
  },
  "language_info": {
   "codemirror_mode": {
    "name": "ipython",
    "version": 3
   },
   "file_extension": ".py",
   "mimetype": "text/x-python",
   "name": "python",
   "nbconvert_exporter": "python",
   "pygments_lexer": "ipython3",
   "version": "3.12.2"
  }
 },
 "nbformat": 4,
 "nbformat_minor": 5
}
