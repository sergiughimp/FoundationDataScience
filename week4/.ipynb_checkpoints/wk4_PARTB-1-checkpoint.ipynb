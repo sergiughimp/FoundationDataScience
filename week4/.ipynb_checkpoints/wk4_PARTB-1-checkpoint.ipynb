{
 "cells": [
  {
   "cell_type": "markdown",
   "id": "3b70c4d9",
   "metadata": {},
   "source": [
    "# Comprehensive Analysis for Environmental Dataset\n",
    "This notebook provides a comprehensive analysis of the 'TEMP', 'pm2.5', and 'PRES' columns, including:\n",
    "1. Loading the dataset.\n",
    "2. Descriptive statistics, separated by individual summary statistics (mean, standard deviation, etc.).\n",
    "4. Shapiro-Wilk normality test.\n",
    "5. Yearly mean and standard deviation."
   ]
  },
  {
   "cell_type": "markdown",
   "id": "5b000472",
   "metadata": {},
   "source": [
    "## 1. Loading the Dataset\n",
    "We begin by loading the dataset and inspecting its first few rows.\n"
   ]
  },
  {
   "cell_type": "code",
   "execution_count": 3,
   "id": "28932112",
   "metadata": {},
   "outputs": [
    {
     "data": {
      "text/html": [
       "<div>\n",
       "<style scoped>\n",
       "    .dataframe tbody tr th:only-of-type {\n",
       "        vertical-align: middle;\n",
       "    }\n",
       "\n",
       "    .dataframe tbody tr th {\n",
       "        vertical-align: top;\n",
       "    }\n",
       "\n",
       "    .dataframe thead th {\n",
       "        text-align: right;\n",
       "    }\n",
       "</style>\n",
       "<table border=\"1\" class=\"dataframe\">\n",
       "  <thead>\n",
       "    <tr style=\"text-align: right;\">\n",
       "      <th></th>\n",
       "      <th>time</th>\n",
       "      <th>year</th>\n",
       "      <th>month</th>\n",
       "      <th>day</th>\n",
       "      <th>hour</th>\n",
       "      <th>pm2.5</th>\n",
       "      <th>DEWP</th>\n",
       "      <th>TEMP</th>\n",
       "      <th>PRES</th>\n",
       "      <th>cbwd</th>\n",
       "      <th>Iws</th>\n",
       "      <th>Is</th>\n",
       "      <th>Ir</th>\n",
       "    </tr>\n",
       "  </thead>\n",
       "  <tbody>\n",
       "    <tr>\n",
       "      <th>0</th>\n",
       "      <td>01/01/2010 00:00</td>\n",
       "      <td>2010</td>\n",
       "      <td>1</td>\n",
       "      <td>1</td>\n",
       "      <td>0</td>\n",
       "      <td>NaN</td>\n",
       "      <td>-21</td>\n",
       "      <td>-11.0</td>\n",
       "      <td>1021.0</td>\n",
       "      <td>NW</td>\n",
       "      <td>1.79</td>\n",
       "      <td>0</td>\n",
       "      <td>0</td>\n",
       "    </tr>\n",
       "    <tr>\n",
       "      <th>1</th>\n",
       "      <td>01/01/2010 01:00</td>\n",
       "      <td>2010</td>\n",
       "      <td>1</td>\n",
       "      <td>1</td>\n",
       "      <td>1</td>\n",
       "      <td>NaN</td>\n",
       "      <td>-21</td>\n",
       "      <td>-12.0</td>\n",
       "      <td>1020.0</td>\n",
       "      <td>NW</td>\n",
       "      <td>4.92</td>\n",
       "      <td>0</td>\n",
       "      <td>0</td>\n",
       "    </tr>\n",
       "    <tr>\n",
       "      <th>2</th>\n",
       "      <td>01/01/2010 02:00</td>\n",
       "      <td>2010</td>\n",
       "      <td>1</td>\n",
       "      <td>1</td>\n",
       "      <td>2</td>\n",
       "      <td>NaN</td>\n",
       "      <td>-21</td>\n",
       "      <td>-11.0</td>\n",
       "      <td>1019.0</td>\n",
       "      <td>NW</td>\n",
       "      <td>6.71</td>\n",
       "      <td>0</td>\n",
       "      <td>0</td>\n",
       "    </tr>\n",
       "    <tr>\n",
       "      <th>3</th>\n",
       "      <td>01/01/2010 06:00</td>\n",
       "      <td>2010</td>\n",
       "      <td>1</td>\n",
       "      <td>1</td>\n",
       "      <td>6</td>\n",
       "      <td>NaN</td>\n",
       "      <td>-19</td>\n",
       "      <td>-9.0</td>\n",
       "      <td>1017.0</td>\n",
       "      <td>NW</td>\n",
       "      <td>19.23</td>\n",
       "      <td>0</td>\n",
       "      <td>0</td>\n",
       "    </tr>\n",
       "    <tr>\n",
       "      <th>4</th>\n",
       "      <td>01/01/2010 03:00</td>\n",
       "      <td>2010</td>\n",
       "      <td>1</td>\n",
       "      <td>1</td>\n",
       "      <td>3</td>\n",
       "      <td>NaN</td>\n",
       "      <td>-21</td>\n",
       "      <td>-14.0</td>\n",
       "      <td>1019.0</td>\n",
       "      <td>NW</td>\n",
       "      <td>9.84</td>\n",
       "      <td>0</td>\n",
       "      <td>0</td>\n",
       "    </tr>\n",
       "  </tbody>\n",
       "</table>\n",
       "</div>"
      ],
      "text/plain": [
       "               time  year  month  day  hour  pm2.5  DEWP  TEMP    PRES cbwd  \\\n",
       "0  01/01/2010 00:00  2010      1    1     0    NaN   -21 -11.0  1021.0   NW   \n",
       "1  01/01/2010 01:00  2010      1    1     1    NaN   -21 -12.0  1020.0   NW   \n",
       "2  01/01/2010 02:00  2010      1    1     2    NaN   -21 -11.0  1019.0   NW   \n",
       "3  01/01/2010 06:00  2010      1    1     6    NaN   -19  -9.0  1017.0   NW   \n",
       "4  01/01/2010 03:00  2010      1    1     3    NaN   -21 -14.0  1019.0   NW   \n",
       "\n",
       "     Iws  Is  Ir  \n",
       "0   1.79   0   0  \n",
       "1   4.92   0   0  \n",
       "2   6.71   0   0  \n",
       "3  19.23   0   0  \n",
       "4   9.84   0   0  "
      ]
     },
     "execution_count": 3,
     "metadata": {},
     "output_type": "execute_result"
    }
   ],
   "source": [
    "import pandas as pd\n",
    "file_path = 'Enviromental_dataset.csv'\n",
    "df = pd.read_csv(file_path)\n",
    "df.head()"
   ]
  },
  {
   "cell_type": "markdown",
   "id": "8178c8ef",
   "metadata": {},
   "source": [
    "## 2. Mean for 'TEMP', 'pm2.5', and 'PRES'\n",
    "We calculate the mean for the 'TEMP', 'pm2.5', and 'PRES' columns.\n"
   ]
  },
  {
   "cell_type": "code",
   "execution_count": 11,
   "id": "9448b2ab",
   "metadata": {},
   "outputs": [],
   "source": [
    "columns_of_interest = ['pm2.5', 'TEMP', 'PRES']\n"
   ]
  },
  {
   "cell_type": "code",
   "execution_count": 13,
   "id": "5f1e47d1",
   "metadata": {},
   "outputs": [
    {
     "data": {
      "text/plain": [
       "pm2.5      97.784018\n",
       "TEMP       12.448521\n",
       "PRES     1016.447654\n",
       "dtype: float64"
      ]
     },
     "execution_count": 13,
     "metadata": {},
     "output_type": "execute_result"
    }
   ],
   "source": [
    "#Your Solution\n",
    "df[columns_of_interest].mean()"
   ]
  },
  {
   "cell_type": "markdown",
   "id": "b9220c9f",
   "metadata": {},
   "source": [
    "## 3. Standard Deviation for 'TEMP', 'pm2.5', and 'PRES'\n",
    "We calculate the standard deviation for the 'TEMP', 'pm2.5', and 'PRES' columns.\n"
   ]
  },
  {
   "cell_type": "code",
   "execution_count": 15,
   "id": "28483584",
   "metadata": {},
   "outputs": [
    {
     "data": {
      "text/plain": [
       "pm2.5    91.398542\n",
       "TEMP     12.198613\n",
       "PRES     10.268698\n",
       "dtype: float64"
      ]
     },
     "execution_count": 15,
     "metadata": {},
     "output_type": "execute_result"
    }
   ],
   "source": [
    "#Your Solution\n",
    "df[columns_of_interest].std()"
   ]
  },
  {
   "cell_type": "markdown",
   "id": "ca38af87",
   "metadata": {},
   "source": [
    "## 4. Minimum for 'TEMP', 'pm2.5', and 'PRES'\n",
    "We calculate the minimum values for the 'TEMP', 'pm2.5', and 'PRES' columns.\n"
   ]
  },
  {
   "cell_type": "code",
   "execution_count": 17,
   "id": "a9f7f31b",
   "metadata": {},
   "outputs": [
    {
     "data": {
      "text/plain": [
       "pm2.5      0.0\n",
       "TEMP     -19.0\n",
       "PRES     991.0\n",
       "dtype: float64"
      ]
     },
     "execution_count": 17,
     "metadata": {},
     "output_type": "execute_result"
    }
   ],
   "source": [
    "#Your Solution\n",
    "df[columns_of_interest].min()"
   ]
  },
  {
   "cell_type": "markdown",
   "id": "f3fbfbde",
   "metadata": {},
   "source": [
    "## 5. Maximum for 'TEMP', 'pm2.5', and 'PRES'\n",
    "We calculate the maximum values for the 'TEMP', 'pm2.5', and 'PRES' columns.\n"
   ]
  },
  {
   "cell_type": "code",
   "execution_count": 19,
   "id": "b6bae48e",
   "metadata": {},
   "outputs": [
    {
     "data": {
      "text/plain": [
       "pm2.5     994.0\n",
       "TEMP       42.0\n",
       "PRES     1046.0\n",
       "dtype: float64"
      ]
     },
     "execution_count": 19,
     "metadata": {},
     "output_type": "execute_result"
    }
   ],
   "source": [
    "#Your Solution\n",
    "df[columns_of_interest].max()"
   ]
  },
  {
   "cell_type": "markdown",
   "id": "90e9f671",
   "metadata": {},
   "source": [
    "## 6. 50% Quantile for 'TEMP', 'pm2.5', and 'PRES'\n",
    "We calculate the 50% Quantile for the 'TEMP', 'pm2.5', and 'PRES' columns.\n"
   ]
  },
  {
   "cell_type": "code",
   "execution_count": 23,
   "id": "6e5bcd4b",
   "metadata": {},
   "outputs": [
    {
     "data": {
      "text/plain": [
       "pm2.5      72.0\n",
       "TEMP       14.0\n",
       "PRES     1016.0\n",
       "Name: 0.5, dtype: float64"
      ]
     },
     "execution_count": 23,
     "metadata": {},
     "output_type": "execute_result"
    }
   ],
   "source": [
    "#Your Solution\n",
    "df[columns_of_interest].quantile(0.5)"
   ]
  },
  {
   "cell_type": "markdown",
   "id": "dec71c4e",
   "metadata": {},
   "source": [
    "## 7. Median for 'TEMP', 'pm2.5', and 'PRES'\n",
    "We calculate the maximum values for the 'TEMP', 'pm2.5', and 'PRES' columns.\n"
   ]
  },
  {
   "cell_type": "code",
   "execution_count": 27,
   "id": "49539606",
   "metadata": {},
   "outputs": [
    {
     "data": {
      "text/plain": [
       "pm2.5      72.0\n",
       "TEMP       14.0\n",
       "PRES     1016.0\n",
       "dtype: float64"
      ]
     },
     "execution_count": 27,
     "metadata": {},
     "output_type": "execute_result"
    }
   ],
   "source": [
    "#Your Solution\n",
    "df[columns_of_interest].median()"
   ]
  },
  {
   "cell_type": "markdown",
   "id": "273d8875",
   "metadata": {},
   "source": [
    "## 8. Yearly Mean and Standard Deviation for 'TEMP', 'pm2.5', and 'PRES'\n",
    "Finally, we calculate the yearly mean and standard deviation for the 'TEMP', 'pm2.5', and 'PRES' columns.\n"
   ]
  },
  {
   "cell_type": "code",
   "execution_count": 8,
   "id": "25caec4a",
   "metadata": {},
   "outputs": [],
   "source": [
    "#Your Solution\n"
   ]
  },
  {
   "cell_type": "code",
   "execution_count": 29,
   "id": "15805c0d",
   "metadata": {},
   "outputs": [
    {
     "data": {
      "text/html": [
       "<div>\n",
       "<style scoped>\n",
       "    .dataframe tbody tr th:only-of-type {\n",
       "        vertical-align: middle;\n",
       "    }\n",
       "\n",
       "    .dataframe tbody tr th {\n",
       "        vertical-align: top;\n",
       "    }\n",
       "\n",
       "    .dataframe thead th {\n",
       "        text-align: right;\n",
       "    }\n",
       "</style>\n",
       "<table border=\"1\" class=\"dataframe\">\n",
       "  <thead>\n",
       "    <tr style=\"text-align: right;\">\n",
       "      <th></th>\n",
       "      <th>pm2.5</th>\n",
       "      <th>TEMP</th>\n",
       "      <th>PRES</th>\n",
       "    </tr>\n",
       "  </thead>\n",
       "  <tbody>\n",
       "    <tr>\n",
       "      <th>count</th>\n",
       "      <td>43800.000000</td>\n",
       "      <td>43824.000000</td>\n",
       "      <td>43824.000000</td>\n",
       "    </tr>\n",
       "    <tr>\n",
       "      <th>mean</th>\n",
       "      <td>97.784018</td>\n",
       "      <td>12.448521</td>\n",
       "      <td>1016.447654</td>\n",
       "    </tr>\n",
       "    <tr>\n",
       "      <th>std</th>\n",
       "      <td>91.398542</td>\n",
       "      <td>12.198613</td>\n",
       "      <td>10.268698</td>\n",
       "    </tr>\n",
       "    <tr>\n",
       "      <th>min</th>\n",
       "      <td>0.000000</td>\n",
       "      <td>-19.000000</td>\n",
       "      <td>991.000000</td>\n",
       "    </tr>\n",
       "    <tr>\n",
       "      <th>25%</th>\n",
       "      <td>29.000000</td>\n",
       "      <td>2.000000</td>\n",
       "      <td>1008.000000</td>\n",
       "    </tr>\n",
       "    <tr>\n",
       "      <th>50%</th>\n",
       "      <td>72.000000</td>\n",
       "      <td>14.000000</td>\n",
       "      <td>1016.000000</td>\n",
       "    </tr>\n",
       "    <tr>\n",
       "      <th>75%</th>\n",
       "      <td>136.000000</td>\n",
       "      <td>23.000000</td>\n",
       "      <td>1025.000000</td>\n",
       "    </tr>\n",
       "    <tr>\n",
       "      <th>max</th>\n",
       "      <td>994.000000</td>\n",
       "      <td>42.000000</td>\n",
       "      <td>1046.000000</td>\n",
       "    </tr>\n",
       "  </tbody>\n",
       "</table>\n",
       "</div>"
      ],
      "text/plain": [
       "              pm2.5          TEMP          PRES\n",
       "count  43800.000000  43824.000000  43824.000000\n",
       "mean      97.784018     12.448521   1016.447654\n",
       "std       91.398542     12.198613     10.268698\n",
       "min        0.000000    -19.000000    991.000000\n",
       "25%       29.000000      2.000000   1008.000000\n",
       "50%       72.000000     14.000000   1016.000000\n",
       "75%      136.000000     23.000000   1025.000000\n",
       "max      994.000000     42.000000   1046.000000"
      ]
     },
     "execution_count": 29,
     "metadata": {},
     "output_type": "execute_result"
    }
   ],
   "source": [
    "# Alternative solution to get all information in one shot\n",
    "\n",
    "df[columns_of_interest].describe()"
   ]
  },
  {
   "cell_type": "code",
   "execution_count": null,
   "id": "cdaa879d",
   "metadata": {},
   "outputs": [],
   "source": []
  },
  {
   "cell_type": "markdown",
   "id": "1113ae5e",
   "metadata": {},
   "source": [
    "## Appendix. Additional Summary Statistics (Skewness, Kurtosis, IQR)\n",
    "We calculate additional summary statistics including skewness, kurtosis, and the interquartile range (IQR) for the 'TEMP', 'pm2.5', and 'PRES' columns.\n"
   ]
  },
  {
   "cell_type": "code",
   "execution_count": 31,
   "id": "d4b1ffbf",
   "metadata": {},
   "outputs": [
    {
     "data": {
      "text/html": [
       "<div>\n",
       "<style scoped>\n",
       "    .dataframe tbody tr th:only-of-type {\n",
       "        vertical-align: middle;\n",
       "    }\n",
       "\n",
       "    .dataframe tbody tr th {\n",
       "        vertical-align: top;\n",
       "    }\n",
       "\n",
       "    .dataframe thead th {\n",
       "        text-align: right;\n",
       "    }\n",
       "</style>\n",
       "<table border=\"1\" class=\"dataframe\">\n",
       "  <thead>\n",
       "    <tr style=\"text-align: right;\">\n",
       "      <th></th>\n",
       "      <th>Skewness</th>\n",
       "      <th>Kurtosis</th>\n",
       "      <th>IQR</th>\n",
       "    </tr>\n",
       "  </thead>\n",
       "  <tbody>\n",
       "    <tr>\n",
       "      <th>pm2.5</th>\n",
       "      <td>1.823656</td>\n",
       "      <td>5.032758</td>\n",
       "      <td>107.0</td>\n",
       "    </tr>\n",
       "    <tr>\n",
       "      <th>TEMP</th>\n",
       "      <td>-0.163304</td>\n",
       "      <td>-1.110977</td>\n",
       "      <td>21.0</td>\n",
       "    </tr>\n",
       "    <tr>\n",
       "      <th>PRES</th>\n",
       "      <td>0.098207</td>\n",
       "      <td>-0.846462</td>\n",
       "      <td>17.0</td>\n",
       "    </tr>\n",
       "  </tbody>\n",
       "</table>\n",
       "</div>"
      ],
      "text/plain": [
       "       Skewness  Kurtosis    IQR\n",
       "pm2.5  1.823656  5.032758  107.0\n",
       "TEMP  -0.163304 -1.110977   21.0\n",
       "PRES   0.098207 -0.846462   17.0"
      ]
     },
     "execution_count": 31,
     "metadata": {},
     "output_type": "execute_result"
    }
   ],
   "source": [
    "additional_stats = pd.DataFrame({\n",
    "    'Skewness': df[columns_of_interest].skew(),\n",
    "    'Kurtosis': df[columns_of_interest].kurt(),\n",
    "    'IQR': df[columns_of_interest].quantile(0.75) - df[columns_of_interest].quantile(0.25)\n",
    "})\n",
    "additional_stats"
   ]
  },
  {
   "cell_type": "code",
   "execution_count": null,
   "id": "7e776857",
   "metadata": {},
   "outputs": [],
   "source": []
  }
 ],
 "metadata": {
  "kernelspec": {
   "display_name": "Python 3 (ipykernel)",
   "language": "python",
   "name": "python3"
  },
  "language_info": {
   "codemirror_mode": {
    "name": "ipython",
    "version": 3
   },
   "file_extension": ".py",
   "mimetype": "text/x-python",
   "name": "python",
   "nbconvert_exporter": "python",
   "pygments_lexer": "ipython3",
   "version": "3.12.2"
  }
 },
 "nbformat": 4,
 "nbformat_minor": 5
}
